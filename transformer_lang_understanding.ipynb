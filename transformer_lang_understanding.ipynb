{
  "nbformat": 4,
  "nbformat_minor": 0,
  "metadata": {
    "colab": {
      "name": "transformer_lang_understanding.ipynb",
      "provenance": [],
      "collapsed_sections": []
    },
    "kernelspec": {
      "name": "python3",
      "display_name": "Python 3"
    },
    "language_info": {
      "name": "python"
    },
    "accelerator": "GPU",
    "widgets": {
      "application/vnd.jupyter.widget-state+json": {
        "16753f7c91bc4d90ace2425620d0fac4": {
          "model_module": "@jupyter-widgets/controls",
          "model_name": "HBoxModel",
          "model_module_version": "1.5.0",
          "state": {
            "_view_name": "HBoxView",
            "_dom_classes": [],
            "_model_name": "HBoxModel",
            "_view_module": "@jupyter-widgets/controls",
            "_model_module_version": "1.5.0",
            "_view_count": null,
            "_view_module_version": "1.5.0",
            "box_style": "",
            "layout": "IPY_MODEL_0eb0abc530a144a59192b423568435ac",
            "_model_module": "@jupyter-widgets/controls",
            "children": [
              "IPY_MODEL_1a0e7beea1884dc2a58b7f9a329101ec",
              "IPY_MODEL_03ae45a55ce04e81824e0932882b9f36",
              "IPY_MODEL_f9e5393ee97f420fa9f849d2935b4f00"
            ]
          }
        },
        "0eb0abc530a144a59192b423568435ac": {
          "model_module": "@jupyter-widgets/base",
          "model_name": "LayoutModel",
          "model_module_version": "1.2.0",
          "state": {
            "_view_name": "LayoutView",
            "grid_template_rows": null,
            "right": null,
            "justify_content": null,
            "_view_module": "@jupyter-widgets/base",
            "overflow": null,
            "_model_module_version": "1.2.0",
            "_view_count": null,
            "flex_flow": null,
            "width": null,
            "min_width": null,
            "border": null,
            "align_items": null,
            "bottom": null,
            "_model_module": "@jupyter-widgets/base",
            "top": null,
            "grid_column": null,
            "overflow_y": null,
            "overflow_x": null,
            "grid_auto_flow": null,
            "grid_area": null,
            "grid_template_columns": null,
            "flex": null,
            "_model_name": "LayoutModel",
            "justify_items": null,
            "grid_row": null,
            "max_height": null,
            "align_content": null,
            "visibility": null,
            "align_self": null,
            "height": null,
            "min_height": null,
            "padding": null,
            "grid_auto_rows": null,
            "grid_gap": null,
            "max_width": null,
            "order": null,
            "_view_module_version": "1.2.0",
            "grid_template_areas": null,
            "object_position": null,
            "object_fit": null,
            "grid_auto_columns": null,
            "margin": null,
            "display": null,
            "left": null
          }
        },
        "1a0e7beea1884dc2a58b7f9a329101ec": {
          "model_module": "@jupyter-widgets/controls",
          "model_name": "HTMLModel",
          "model_module_version": "1.5.0",
          "state": {
            "_view_name": "HTMLView",
            "style": "IPY_MODEL_f127e2c4e3c7405f9a0df0fc86627dd0",
            "_dom_classes": [],
            "description": "",
            "_model_name": "HTMLModel",
            "placeholder": "​",
            "_view_module": "@jupyter-widgets/controls",
            "_model_module_version": "1.5.0",
            "value": "Dl Completed...: 100%",
            "_view_count": null,
            "_view_module_version": "1.5.0",
            "description_tooltip": null,
            "_model_module": "@jupyter-widgets/controls",
            "layout": "IPY_MODEL_bd055b60db114f1b9c3aa1025a7b88da"
          }
        },
        "03ae45a55ce04e81824e0932882b9f36": {
          "model_module": "@jupyter-widgets/controls",
          "model_name": "FloatProgressModel",
          "model_module_version": "1.5.0",
          "state": {
            "_view_name": "ProgressView",
            "style": "IPY_MODEL_202082b5107245b4a5457e1174a1b846",
            "_dom_classes": [],
            "description": "",
            "_model_name": "FloatProgressModel",
            "bar_style": "success",
            "max": 1,
            "_view_module": "@jupyter-widgets/controls",
            "_model_module_version": "1.5.0",
            "value": 1,
            "_view_count": null,
            "_view_module_version": "1.5.0",
            "orientation": "horizontal",
            "min": 0,
            "description_tooltip": null,
            "_model_module": "@jupyter-widgets/controls",
            "layout": "IPY_MODEL_a81948fbff754d3fb622cec255cc8d3d"
          }
        },
        "f9e5393ee97f420fa9f849d2935b4f00": {
          "model_module": "@jupyter-widgets/controls",
          "model_name": "HTMLModel",
          "model_module_version": "1.5.0",
          "state": {
            "_view_name": "HTMLView",
            "style": "IPY_MODEL_fac6d5b94c6744a5a5c6b25f08b33d6e",
            "_dom_classes": [],
            "description": "",
            "_model_name": "HTMLModel",
            "placeholder": "​",
            "_view_module": "@jupyter-widgets/controls",
            "_model_module_version": "1.5.0",
            "value": " 1/1 [00:08&lt;00:00,  3.63s/ url]",
            "_view_count": null,
            "_view_module_version": "1.5.0",
            "description_tooltip": null,
            "_model_module": "@jupyter-widgets/controls",
            "layout": "IPY_MODEL_04ab0104bff34b84b8de575beb339d59"
          }
        },
        "f127e2c4e3c7405f9a0df0fc86627dd0": {
          "model_module": "@jupyter-widgets/controls",
          "model_name": "DescriptionStyleModel",
          "model_module_version": "1.5.0",
          "state": {
            "_view_name": "StyleView",
            "_model_name": "DescriptionStyleModel",
            "description_width": "",
            "_view_module": "@jupyter-widgets/base",
            "_model_module_version": "1.5.0",
            "_view_count": null,
            "_view_module_version": "1.2.0",
            "_model_module": "@jupyter-widgets/controls"
          }
        },
        "bd055b60db114f1b9c3aa1025a7b88da": {
          "model_module": "@jupyter-widgets/base",
          "model_name": "LayoutModel",
          "model_module_version": "1.2.0",
          "state": {
            "_view_name": "LayoutView",
            "grid_template_rows": null,
            "right": null,
            "justify_content": null,
            "_view_module": "@jupyter-widgets/base",
            "overflow": null,
            "_model_module_version": "1.2.0",
            "_view_count": null,
            "flex_flow": null,
            "width": null,
            "min_width": null,
            "border": null,
            "align_items": null,
            "bottom": null,
            "_model_module": "@jupyter-widgets/base",
            "top": null,
            "grid_column": null,
            "overflow_y": null,
            "overflow_x": null,
            "grid_auto_flow": null,
            "grid_area": null,
            "grid_template_columns": null,
            "flex": null,
            "_model_name": "LayoutModel",
            "justify_items": null,
            "grid_row": null,
            "max_height": null,
            "align_content": null,
            "visibility": null,
            "align_self": null,
            "height": null,
            "min_height": null,
            "padding": null,
            "grid_auto_rows": null,
            "grid_gap": null,
            "max_width": null,
            "order": null,
            "_view_module_version": "1.2.0",
            "grid_template_areas": null,
            "object_position": null,
            "object_fit": null,
            "grid_auto_columns": null,
            "margin": null,
            "display": null,
            "left": null
          }
        },
        "202082b5107245b4a5457e1174a1b846": {
          "model_module": "@jupyter-widgets/controls",
          "model_name": "ProgressStyleModel",
          "model_module_version": "1.5.0",
          "state": {
            "_view_name": "StyleView",
            "_model_name": "ProgressStyleModel",
            "description_width": "",
            "_view_module": "@jupyter-widgets/base",
            "_model_module_version": "1.5.0",
            "_view_count": null,
            "_view_module_version": "1.2.0",
            "bar_color": null,
            "_model_module": "@jupyter-widgets/controls"
          }
        },
        "a81948fbff754d3fb622cec255cc8d3d": {
          "model_module": "@jupyter-widgets/base",
          "model_name": "LayoutModel",
          "model_module_version": "1.2.0",
          "state": {
            "_view_name": "LayoutView",
            "grid_template_rows": null,
            "right": null,
            "justify_content": null,
            "_view_module": "@jupyter-widgets/base",
            "overflow": null,
            "_model_module_version": "1.2.0",
            "_view_count": null,
            "flex_flow": null,
            "width": "20px",
            "min_width": null,
            "border": null,
            "align_items": null,
            "bottom": null,
            "_model_module": "@jupyter-widgets/base",
            "top": null,
            "grid_column": null,
            "overflow_y": null,
            "overflow_x": null,
            "grid_auto_flow": null,
            "grid_area": null,
            "grid_template_columns": null,
            "flex": null,
            "_model_name": "LayoutModel",
            "justify_items": null,
            "grid_row": null,
            "max_height": null,
            "align_content": null,
            "visibility": null,
            "align_self": null,
            "height": null,
            "min_height": null,
            "padding": null,
            "grid_auto_rows": null,
            "grid_gap": null,
            "max_width": null,
            "order": null,
            "_view_module_version": "1.2.0",
            "grid_template_areas": null,
            "object_position": null,
            "object_fit": null,
            "grid_auto_columns": null,
            "margin": null,
            "display": null,
            "left": null
          }
        },
        "fac6d5b94c6744a5a5c6b25f08b33d6e": {
          "model_module": "@jupyter-widgets/controls",
          "model_name": "DescriptionStyleModel",
          "model_module_version": "1.5.0",
          "state": {
            "_view_name": "StyleView",
            "_model_name": "DescriptionStyleModel",
            "description_width": "",
            "_view_module": "@jupyter-widgets/base",
            "_model_module_version": "1.5.0",
            "_view_count": null,
            "_view_module_version": "1.2.0",
            "_model_module": "@jupyter-widgets/controls"
          }
        },
        "04ab0104bff34b84b8de575beb339d59": {
          "model_module": "@jupyter-widgets/base",
          "model_name": "LayoutModel",
          "model_module_version": "1.2.0",
          "state": {
            "_view_name": "LayoutView",
            "grid_template_rows": null,
            "right": null,
            "justify_content": null,
            "_view_module": "@jupyter-widgets/base",
            "overflow": null,
            "_model_module_version": "1.2.0",
            "_view_count": null,
            "flex_flow": null,
            "width": null,
            "min_width": null,
            "border": null,
            "align_items": null,
            "bottom": null,
            "_model_module": "@jupyter-widgets/base",
            "top": null,
            "grid_column": null,
            "overflow_y": null,
            "overflow_x": null,
            "grid_auto_flow": null,
            "grid_area": null,
            "grid_template_columns": null,
            "flex": null,
            "_model_name": "LayoutModel",
            "justify_items": null,
            "grid_row": null,
            "max_height": null,
            "align_content": null,
            "visibility": null,
            "align_self": null,
            "height": null,
            "min_height": null,
            "padding": null,
            "grid_auto_rows": null,
            "grid_gap": null,
            "max_width": null,
            "order": null,
            "_view_module_version": "1.2.0",
            "grid_template_areas": null,
            "object_position": null,
            "object_fit": null,
            "grid_auto_columns": null,
            "margin": null,
            "display": null,
            "left": null
          }
        },
        "0f0d46832638469487cf137774f153a2": {
          "model_module": "@jupyter-widgets/controls",
          "model_name": "HBoxModel",
          "model_module_version": "1.5.0",
          "state": {
            "_view_name": "HBoxView",
            "_dom_classes": [],
            "_model_name": "HBoxModel",
            "_view_module": "@jupyter-widgets/controls",
            "_model_module_version": "1.5.0",
            "_view_count": null,
            "_view_module_version": "1.5.0",
            "box_style": "",
            "layout": "IPY_MODEL_ebf62ac1d6044678ad7af08ae9c44fe5",
            "_model_module": "@jupyter-widgets/controls",
            "children": [
              "IPY_MODEL_53facc828a4543de82a7cd570e2f67c5",
              "IPY_MODEL_7c26b49696e44498bcae660237126f87",
              "IPY_MODEL_e245ee05ff8f400bb386f80bb87d1b31"
            ]
          }
        },
        "ebf62ac1d6044678ad7af08ae9c44fe5": {
          "model_module": "@jupyter-widgets/base",
          "model_name": "LayoutModel",
          "model_module_version": "1.2.0",
          "state": {
            "_view_name": "LayoutView",
            "grid_template_rows": null,
            "right": null,
            "justify_content": null,
            "_view_module": "@jupyter-widgets/base",
            "overflow": null,
            "_model_module_version": "1.2.0",
            "_view_count": null,
            "flex_flow": null,
            "width": null,
            "min_width": null,
            "border": null,
            "align_items": null,
            "bottom": null,
            "_model_module": "@jupyter-widgets/base",
            "top": null,
            "grid_column": null,
            "overflow_y": null,
            "overflow_x": null,
            "grid_auto_flow": null,
            "grid_area": null,
            "grid_template_columns": null,
            "flex": null,
            "_model_name": "LayoutModel",
            "justify_items": null,
            "grid_row": null,
            "max_height": null,
            "align_content": null,
            "visibility": null,
            "align_self": null,
            "height": null,
            "min_height": null,
            "padding": null,
            "grid_auto_rows": null,
            "grid_gap": null,
            "max_width": null,
            "order": null,
            "_view_module_version": "1.2.0",
            "grid_template_areas": null,
            "object_position": null,
            "object_fit": null,
            "grid_auto_columns": null,
            "margin": null,
            "display": null,
            "left": null
          }
        },
        "53facc828a4543de82a7cd570e2f67c5": {
          "model_module": "@jupyter-widgets/controls",
          "model_name": "HTMLModel",
          "model_module_version": "1.5.0",
          "state": {
            "_view_name": "HTMLView",
            "style": "IPY_MODEL_8406ab80e7f14c238d2fd40d3e8bc53f",
            "_dom_classes": [],
            "description": "",
            "_model_name": "HTMLModel",
            "placeholder": "​",
            "_view_module": "@jupyter-widgets/controls",
            "_model_module_version": "1.5.0",
            "value": "Dl Size...: 100%",
            "_view_count": null,
            "_view_module_version": "1.5.0",
            "description_tooltip": null,
            "_model_module": "@jupyter-widgets/controls",
            "layout": "IPY_MODEL_0e04f804f7e943d3a4aa9c56b6c27d04"
          }
        },
        "7c26b49696e44498bcae660237126f87": {
          "model_module": "@jupyter-widgets/controls",
          "model_name": "FloatProgressModel",
          "model_module_version": "1.5.0",
          "state": {
            "_view_name": "ProgressView",
            "style": "IPY_MODEL_420e7b34ca99405488f33338efeddac2",
            "_dom_classes": [],
            "description": "",
            "_model_name": "FloatProgressModel",
            "bar_style": "success",
            "max": 1,
            "_view_module": "@jupyter-widgets/controls",
            "_model_module_version": "1.5.0",
            "value": 1,
            "_view_count": null,
            "_view_module_version": "1.5.0",
            "orientation": "horizontal",
            "min": 0,
            "description_tooltip": null,
            "_model_module": "@jupyter-widgets/controls",
            "layout": "IPY_MODEL_6c4198d5c7ab4845a00206e52d353efb"
          }
        },
        "e245ee05ff8f400bb386f80bb87d1b31": {
          "model_module": "@jupyter-widgets/controls",
          "model_name": "HTMLModel",
          "model_module_version": "1.5.0",
          "state": {
            "_view_name": "HTMLView",
            "style": "IPY_MODEL_367e44a03b444abdbd1699f0d284cd2c",
            "_dom_classes": [],
            "description": "",
            "_model_name": "HTMLModel",
            "placeholder": "​",
            "_view_module": "@jupyter-widgets/controls",
            "_model_module_version": "1.5.0",
            "value": " 124/124 [00:08&lt;00:00, 44.32 MiB/s]",
            "_view_count": null,
            "_view_module_version": "1.5.0",
            "description_tooltip": null,
            "_model_module": "@jupyter-widgets/controls",
            "layout": "IPY_MODEL_f710353e960d4968a116def3f4039e0b"
          }
        },
        "8406ab80e7f14c238d2fd40d3e8bc53f": {
          "model_module": "@jupyter-widgets/controls",
          "model_name": "DescriptionStyleModel",
          "model_module_version": "1.5.0",
          "state": {
            "_view_name": "StyleView",
            "_model_name": "DescriptionStyleModel",
            "description_width": "",
            "_view_module": "@jupyter-widgets/base",
            "_model_module_version": "1.5.0",
            "_view_count": null,
            "_view_module_version": "1.2.0",
            "_model_module": "@jupyter-widgets/controls"
          }
        },
        "0e04f804f7e943d3a4aa9c56b6c27d04": {
          "model_module": "@jupyter-widgets/base",
          "model_name": "LayoutModel",
          "model_module_version": "1.2.0",
          "state": {
            "_view_name": "LayoutView",
            "grid_template_rows": null,
            "right": null,
            "justify_content": null,
            "_view_module": "@jupyter-widgets/base",
            "overflow": null,
            "_model_module_version": "1.2.0",
            "_view_count": null,
            "flex_flow": null,
            "width": null,
            "min_width": null,
            "border": null,
            "align_items": null,
            "bottom": null,
            "_model_module": "@jupyter-widgets/base",
            "top": null,
            "grid_column": null,
            "overflow_y": null,
            "overflow_x": null,
            "grid_auto_flow": null,
            "grid_area": null,
            "grid_template_columns": null,
            "flex": null,
            "_model_name": "LayoutModel",
            "justify_items": null,
            "grid_row": null,
            "max_height": null,
            "align_content": null,
            "visibility": null,
            "align_self": null,
            "height": null,
            "min_height": null,
            "padding": null,
            "grid_auto_rows": null,
            "grid_gap": null,
            "max_width": null,
            "order": null,
            "_view_module_version": "1.2.0",
            "grid_template_areas": null,
            "object_position": null,
            "object_fit": null,
            "grid_auto_columns": null,
            "margin": null,
            "display": null,
            "left": null
          }
        },
        "420e7b34ca99405488f33338efeddac2": {
          "model_module": "@jupyter-widgets/controls",
          "model_name": "ProgressStyleModel",
          "model_module_version": "1.5.0",
          "state": {
            "_view_name": "StyleView",
            "_model_name": "ProgressStyleModel",
            "description_width": "",
            "_view_module": "@jupyter-widgets/base",
            "_model_module_version": "1.5.0",
            "_view_count": null,
            "_view_module_version": "1.2.0",
            "bar_color": null,
            "_model_module": "@jupyter-widgets/controls"
          }
        },
        "6c4198d5c7ab4845a00206e52d353efb": {
          "model_module": "@jupyter-widgets/base",
          "model_name": "LayoutModel",
          "model_module_version": "1.2.0",
          "state": {
            "_view_name": "LayoutView",
            "grid_template_rows": null,
            "right": null,
            "justify_content": null,
            "_view_module": "@jupyter-widgets/base",
            "overflow": null,
            "_model_module_version": "1.2.0",
            "_view_count": null,
            "flex_flow": null,
            "width": "20px",
            "min_width": null,
            "border": null,
            "align_items": null,
            "bottom": null,
            "_model_module": "@jupyter-widgets/base",
            "top": null,
            "grid_column": null,
            "overflow_y": null,
            "overflow_x": null,
            "grid_auto_flow": null,
            "grid_area": null,
            "grid_template_columns": null,
            "flex": null,
            "_model_name": "LayoutModel",
            "justify_items": null,
            "grid_row": null,
            "max_height": null,
            "align_content": null,
            "visibility": null,
            "align_self": null,
            "height": null,
            "min_height": null,
            "padding": null,
            "grid_auto_rows": null,
            "grid_gap": null,
            "max_width": null,
            "order": null,
            "_view_module_version": "1.2.0",
            "grid_template_areas": null,
            "object_position": null,
            "object_fit": null,
            "grid_auto_columns": null,
            "margin": null,
            "display": null,
            "left": null
          }
        },
        "367e44a03b444abdbd1699f0d284cd2c": {
          "model_module": "@jupyter-widgets/controls",
          "model_name": "DescriptionStyleModel",
          "model_module_version": "1.5.0",
          "state": {
            "_view_name": "StyleView",
            "_model_name": "DescriptionStyleModel",
            "description_width": "",
            "_view_module": "@jupyter-widgets/base",
            "_model_module_version": "1.5.0",
            "_view_count": null,
            "_view_module_version": "1.2.0",
            "_model_module": "@jupyter-widgets/controls"
          }
        },
        "f710353e960d4968a116def3f4039e0b": {
          "model_module": "@jupyter-widgets/base",
          "model_name": "LayoutModel",
          "model_module_version": "1.2.0",
          "state": {
            "_view_name": "LayoutView",
            "grid_template_rows": null,
            "right": null,
            "justify_content": null,
            "_view_module": "@jupyter-widgets/base",
            "overflow": null,
            "_model_module_version": "1.2.0",
            "_view_count": null,
            "flex_flow": null,
            "width": null,
            "min_width": null,
            "border": null,
            "align_items": null,
            "bottom": null,
            "_model_module": "@jupyter-widgets/base",
            "top": null,
            "grid_column": null,
            "overflow_y": null,
            "overflow_x": null,
            "grid_auto_flow": null,
            "grid_area": null,
            "grid_template_columns": null,
            "flex": null,
            "_model_name": "LayoutModel",
            "justify_items": null,
            "grid_row": null,
            "max_height": null,
            "align_content": null,
            "visibility": null,
            "align_self": null,
            "height": null,
            "min_height": null,
            "padding": null,
            "grid_auto_rows": null,
            "grid_gap": null,
            "max_width": null,
            "order": null,
            "_view_module_version": "1.2.0",
            "grid_template_areas": null,
            "object_position": null,
            "object_fit": null,
            "grid_auto_columns": null,
            "margin": null,
            "display": null,
            "left": null
          }
        },
        "71c447ca718c4d128275a2457e2e6bef": {
          "model_module": "@jupyter-widgets/controls",
          "model_name": "HBoxModel",
          "model_module_version": "1.5.0",
          "state": {
            "_view_name": "HBoxView",
            "_dom_classes": [],
            "_model_name": "HBoxModel",
            "_view_module": "@jupyter-widgets/controls",
            "_model_module_version": "1.5.0",
            "_view_count": null,
            "_view_module_version": "1.5.0",
            "box_style": "",
            "layout": "IPY_MODEL_7597fae2bfcd4dafb1224b72826167f1",
            "_model_module": "@jupyter-widgets/controls",
            "children": [
              "IPY_MODEL_a7963673647c4b73a1d7a4bb384b2735",
              "IPY_MODEL_5dda6656eadc4386ba9e7b06ddb2ff95",
              "IPY_MODEL_62fbaf730d4f49d195b9387b947e5ccb"
            ]
          }
        },
        "7597fae2bfcd4dafb1224b72826167f1": {
          "model_module": "@jupyter-widgets/base",
          "model_name": "LayoutModel",
          "model_module_version": "1.2.0",
          "state": {
            "_view_name": "LayoutView",
            "grid_template_rows": null,
            "right": null,
            "justify_content": null,
            "_view_module": "@jupyter-widgets/base",
            "overflow": null,
            "_model_module_version": "1.2.0",
            "_view_count": null,
            "flex_flow": null,
            "width": null,
            "min_width": null,
            "border": null,
            "align_items": null,
            "bottom": null,
            "_model_module": "@jupyter-widgets/base",
            "top": null,
            "grid_column": null,
            "overflow_y": null,
            "overflow_x": null,
            "grid_auto_flow": null,
            "grid_area": null,
            "grid_template_columns": null,
            "flex": null,
            "_model_name": "LayoutModel",
            "justify_items": null,
            "grid_row": null,
            "max_height": null,
            "align_content": null,
            "visibility": null,
            "align_self": null,
            "height": null,
            "min_height": null,
            "padding": null,
            "grid_auto_rows": null,
            "grid_gap": null,
            "max_width": null,
            "order": null,
            "_view_module_version": "1.2.0",
            "grid_template_areas": null,
            "object_position": null,
            "object_fit": null,
            "grid_auto_columns": null,
            "margin": null,
            "display": null,
            "left": null
          }
        },
        "a7963673647c4b73a1d7a4bb384b2735": {
          "model_module": "@jupyter-widgets/controls",
          "model_name": "HTMLModel",
          "model_module_version": "1.5.0",
          "state": {
            "_view_name": "HTMLView",
            "style": "IPY_MODEL_ee332d02605e4177ac413f58c0fa8867",
            "_dom_classes": [],
            "description": "",
            "_model_name": "HTMLModel",
            "placeholder": "​",
            "_view_module": "@jupyter-widgets/controls",
            "_model_module_version": "1.5.0",
            "value": "Extraction completed...: 100%",
            "_view_count": null,
            "_view_module_version": "1.5.0",
            "description_tooltip": null,
            "_model_module": "@jupyter-widgets/controls",
            "layout": "IPY_MODEL_992d062423ea42c18d38bcee07da5b9e"
          }
        },
        "5dda6656eadc4386ba9e7b06ddb2ff95": {
          "model_module": "@jupyter-widgets/controls",
          "model_name": "FloatProgressModel",
          "model_module_version": "1.5.0",
          "state": {
            "_view_name": "ProgressView",
            "style": "IPY_MODEL_912a751852a74059a15c71564d510c80",
            "_dom_classes": [],
            "description": "",
            "_model_name": "FloatProgressModel",
            "bar_style": "success",
            "max": 1,
            "_view_module": "@jupyter-widgets/controls",
            "_model_module_version": "1.5.0",
            "value": 1,
            "_view_count": null,
            "_view_module_version": "1.5.0",
            "orientation": "horizontal",
            "min": 0,
            "description_tooltip": null,
            "_model_module": "@jupyter-widgets/controls",
            "layout": "IPY_MODEL_08619a74f1ab4e9cbec22fa38a771f3f"
          }
        },
        "62fbaf730d4f49d195b9387b947e5ccb": {
          "model_module": "@jupyter-widgets/controls",
          "model_name": "HTMLModel",
          "model_module_version": "1.5.0",
          "state": {
            "_view_name": "HTMLView",
            "style": "IPY_MODEL_0894695b49904f1386fb8a05b2f8cfe7",
            "_dom_classes": [],
            "description": "",
            "_model_name": "HTMLModel",
            "placeholder": "​",
            "_view_module": "@jupyter-widgets/controls",
            "_model_module_version": "1.5.0",
            "value": " 1/1 [00:08&lt;00:00,  8.69s/ file]",
            "_view_count": null,
            "_view_module_version": "1.5.0",
            "description_tooltip": null,
            "_model_module": "@jupyter-widgets/controls",
            "layout": "IPY_MODEL_ad016715bb234a0b8e998d4d08b78985"
          }
        },
        "ee332d02605e4177ac413f58c0fa8867": {
          "model_module": "@jupyter-widgets/controls",
          "model_name": "DescriptionStyleModel",
          "model_module_version": "1.5.0",
          "state": {
            "_view_name": "StyleView",
            "_model_name": "DescriptionStyleModel",
            "description_width": "",
            "_view_module": "@jupyter-widgets/base",
            "_model_module_version": "1.5.0",
            "_view_count": null,
            "_view_module_version": "1.2.0",
            "_model_module": "@jupyter-widgets/controls"
          }
        },
        "992d062423ea42c18d38bcee07da5b9e": {
          "model_module": "@jupyter-widgets/base",
          "model_name": "LayoutModel",
          "model_module_version": "1.2.0",
          "state": {
            "_view_name": "LayoutView",
            "grid_template_rows": null,
            "right": null,
            "justify_content": null,
            "_view_module": "@jupyter-widgets/base",
            "overflow": null,
            "_model_module_version": "1.2.0",
            "_view_count": null,
            "flex_flow": null,
            "width": null,
            "min_width": null,
            "border": null,
            "align_items": null,
            "bottom": null,
            "_model_module": "@jupyter-widgets/base",
            "top": null,
            "grid_column": null,
            "overflow_y": null,
            "overflow_x": null,
            "grid_auto_flow": null,
            "grid_area": null,
            "grid_template_columns": null,
            "flex": null,
            "_model_name": "LayoutModel",
            "justify_items": null,
            "grid_row": null,
            "max_height": null,
            "align_content": null,
            "visibility": null,
            "align_self": null,
            "height": null,
            "min_height": null,
            "padding": null,
            "grid_auto_rows": null,
            "grid_gap": null,
            "max_width": null,
            "order": null,
            "_view_module_version": "1.2.0",
            "grid_template_areas": null,
            "object_position": null,
            "object_fit": null,
            "grid_auto_columns": null,
            "margin": null,
            "display": null,
            "left": null
          }
        },
        "912a751852a74059a15c71564d510c80": {
          "model_module": "@jupyter-widgets/controls",
          "model_name": "ProgressStyleModel",
          "model_module_version": "1.5.0",
          "state": {
            "_view_name": "StyleView",
            "_model_name": "ProgressStyleModel",
            "description_width": "",
            "_view_module": "@jupyter-widgets/base",
            "_model_module_version": "1.5.0",
            "_view_count": null,
            "_view_module_version": "1.2.0",
            "bar_color": null,
            "_model_module": "@jupyter-widgets/controls"
          }
        },
        "08619a74f1ab4e9cbec22fa38a771f3f": {
          "model_module": "@jupyter-widgets/base",
          "model_name": "LayoutModel",
          "model_module_version": "1.2.0",
          "state": {
            "_view_name": "LayoutView",
            "grid_template_rows": null,
            "right": null,
            "justify_content": null,
            "_view_module": "@jupyter-widgets/base",
            "overflow": null,
            "_model_module_version": "1.2.0",
            "_view_count": null,
            "flex_flow": null,
            "width": "20px",
            "min_width": null,
            "border": null,
            "align_items": null,
            "bottom": null,
            "_model_module": "@jupyter-widgets/base",
            "top": null,
            "grid_column": null,
            "overflow_y": null,
            "overflow_x": null,
            "grid_auto_flow": null,
            "grid_area": null,
            "grid_template_columns": null,
            "flex": null,
            "_model_name": "LayoutModel",
            "justify_items": null,
            "grid_row": null,
            "max_height": null,
            "align_content": null,
            "visibility": null,
            "align_self": null,
            "height": null,
            "min_height": null,
            "padding": null,
            "grid_auto_rows": null,
            "grid_gap": null,
            "max_width": null,
            "order": null,
            "_view_module_version": "1.2.0",
            "grid_template_areas": null,
            "object_position": null,
            "object_fit": null,
            "grid_auto_columns": null,
            "margin": null,
            "display": null,
            "left": null
          }
        },
        "0894695b49904f1386fb8a05b2f8cfe7": {
          "model_module": "@jupyter-widgets/controls",
          "model_name": "DescriptionStyleModel",
          "model_module_version": "1.5.0",
          "state": {
            "_view_name": "StyleView",
            "_model_name": "DescriptionStyleModel",
            "description_width": "",
            "_view_module": "@jupyter-widgets/base",
            "_model_module_version": "1.5.0",
            "_view_count": null,
            "_view_module_version": "1.2.0",
            "_model_module": "@jupyter-widgets/controls"
          }
        },
        "ad016715bb234a0b8e998d4d08b78985": {
          "model_module": "@jupyter-widgets/base",
          "model_name": "LayoutModel",
          "model_module_version": "1.2.0",
          "state": {
            "_view_name": "LayoutView",
            "grid_template_rows": null,
            "right": null,
            "justify_content": null,
            "_view_module": "@jupyter-widgets/base",
            "overflow": null,
            "_model_module_version": "1.2.0",
            "_view_count": null,
            "flex_flow": null,
            "width": null,
            "min_width": null,
            "border": null,
            "align_items": null,
            "bottom": null,
            "_model_module": "@jupyter-widgets/base",
            "top": null,
            "grid_column": null,
            "overflow_y": null,
            "overflow_x": null,
            "grid_auto_flow": null,
            "grid_area": null,
            "grid_template_columns": null,
            "flex": null,
            "_model_name": "LayoutModel",
            "justify_items": null,
            "grid_row": null,
            "max_height": null,
            "align_content": null,
            "visibility": null,
            "align_self": null,
            "height": null,
            "min_height": null,
            "padding": null,
            "grid_auto_rows": null,
            "grid_gap": null,
            "max_width": null,
            "order": null,
            "_view_module_version": "1.2.0",
            "grid_template_areas": null,
            "object_position": null,
            "object_fit": null,
            "grid_auto_columns": null,
            "margin": null,
            "display": null,
            "left": null
          }
        },
        "429f6c22f67f4328ac4d745f50c0bc3c": {
          "model_module": "@jupyter-widgets/controls",
          "model_name": "HBoxModel",
          "model_module_version": "1.5.0",
          "state": {
            "_view_name": "HBoxView",
            "_dom_classes": [],
            "_model_name": "HBoxModel",
            "_view_module": "@jupyter-widgets/controls",
            "_model_module_version": "1.5.0",
            "_view_count": null,
            "_view_module_version": "1.5.0",
            "box_style": "",
            "layout": "IPY_MODEL_5830b6d25aeb41b59d91a54c71f30e55",
            "_model_module": "@jupyter-widgets/controls",
            "children": [
              "IPY_MODEL_52ef71873bb3450091127825dfb7dfea",
              "IPY_MODEL_8b2b548522af4435adc5f9d0c2a4ff38",
              "IPY_MODEL_3557f61bb7e84febba0a9d003827d3e4"
            ]
          }
        },
        "5830b6d25aeb41b59d91a54c71f30e55": {
          "model_module": "@jupyter-widgets/base",
          "model_name": "LayoutModel",
          "model_module_version": "1.2.0",
          "state": {
            "_view_name": "LayoutView",
            "grid_template_rows": null,
            "right": null,
            "justify_content": null,
            "_view_module": "@jupyter-widgets/base",
            "overflow": null,
            "_model_module_version": "1.2.0",
            "_view_count": null,
            "flex_flow": null,
            "width": null,
            "min_width": null,
            "border": null,
            "align_items": null,
            "bottom": null,
            "_model_module": "@jupyter-widgets/base",
            "top": null,
            "grid_column": null,
            "overflow_y": null,
            "overflow_x": null,
            "grid_auto_flow": null,
            "grid_area": null,
            "grid_template_columns": null,
            "flex": null,
            "_model_name": "LayoutModel",
            "justify_items": null,
            "grid_row": null,
            "max_height": null,
            "align_content": null,
            "visibility": null,
            "align_self": null,
            "height": null,
            "min_height": null,
            "padding": null,
            "grid_auto_rows": null,
            "grid_gap": null,
            "max_width": null,
            "order": null,
            "_view_module_version": "1.2.0",
            "grid_template_areas": null,
            "object_position": null,
            "object_fit": null,
            "grid_auto_columns": null,
            "margin": null,
            "display": null,
            "left": null
          }
        },
        "52ef71873bb3450091127825dfb7dfea": {
          "model_module": "@jupyter-widgets/controls",
          "model_name": "HTMLModel",
          "model_module_version": "1.5.0",
          "state": {
            "_view_name": "HTMLView",
            "style": "IPY_MODEL_7718c8cbc6854e29a73ca98eb1114728",
            "_dom_classes": [],
            "description": "",
            "_model_name": "HTMLModel",
            "placeholder": "​",
            "_view_module": "@jupyter-widgets/controls",
            "_model_module_version": "1.5.0",
            "value": "",
            "_view_count": null,
            "_view_module_version": "1.5.0",
            "description_tooltip": null,
            "_model_module": "@jupyter-widgets/controls",
            "layout": "IPY_MODEL_8b36d30b558e4bc8b0ef891037adf21d"
          }
        },
        "8b2b548522af4435adc5f9d0c2a4ff38": {
          "model_module": "@jupyter-widgets/controls",
          "model_name": "FloatProgressModel",
          "model_module_version": "1.5.0",
          "state": {
            "_view_name": "ProgressView",
            "style": "IPY_MODEL_799c176f26cd45fc9e1bc12bcce3f979",
            "_dom_classes": [],
            "description": "",
            "_model_name": "FloatProgressModel",
            "bar_style": "info",
            "max": 1,
            "_view_module": "@jupyter-widgets/controls",
            "_model_module_version": "1.5.0",
            "value": 1,
            "_view_count": null,
            "_view_module_version": "1.5.0",
            "orientation": "horizontal",
            "min": 0,
            "description_tooltip": null,
            "_model_module": "@jupyter-widgets/controls",
            "layout": "IPY_MODEL_f484d3d3637f489ab6486561054ae36c"
          }
        },
        "3557f61bb7e84febba0a9d003827d3e4": {
          "model_module": "@jupyter-widgets/controls",
          "model_name": "HTMLModel",
          "model_module_version": "1.5.0",
          "state": {
            "_view_name": "HTMLView",
            "style": "IPY_MODEL_0ae46ab11b4f4382bdfda0f86e754742",
            "_dom_classes": [],
            "description": "",
            "_model_name": "HTMLModel",
            "placeholder": "​",
            "_view_module": "@jupyter-widgets/controls",
            "_model_module_version": "1.5.0",
            "value": " 51655/0 [00:13&lt;00:00, 3861.37 examples/s]",
            "_view_count": null,
            "_view_module_version": "1.5.0",
            "description_tooltip": null,
            "_model_module": "@jupyter-widgets/controls",
            "layout": "IPY_MODEL_fa219f8d342e4a1d9e74f9fbefdba5ad"
          }
        },
        "7718c8cbc6854e29a73ca98eb1114728": {
          "model_module": "@jupyter-widgets/controls",
          "model_name": "DescriptionStyleModel",
          "model_module_version": "1.5.0",
          "state": {
            "_view_name": "StyleView",
            "_model_name": "DescriptionStyleModel",
            "description_width": "",
            "_view_module": "@jupyter-widgets/base",
            "_model_module_version": "1.5.0",
            "_view_count": null,
            "_view_module_version": "1.2.0",
            "_model_module": "@jupyter-widgets/controls"
          }
        },
        "8b36d30b558e4bc8b0ef891037adf21d": {
          "model_module": "@jupyter-widgets/base",
          "model_name": "LayoutModel",
          "model_module_version": "1.2.0",
          "state": {
            "_view_name": "LayoutView",
            "grid_template_rows": null,
            "right": null,
            "justify_content": null,
            "_view_module": "@jupyter-widgets/base",
            "overflow": null,
            "_model_module_version": "1.2.0",
            "_view_count": null,
            "flex_flow": null,
            "width": null,
            "min_width": null,
            "border": null,
            "align_items": null,
            "bottom": null,
            "_model_module": "@jupyter-widgets/base",
            "top": null,
            "grid_column": null,
            "overflow_y": null,
            "overflow_x": null,
            "grid_auto_flow": null,
            "grid_area": null,
            "grid_template_columns": null,
            "flex": null,
            "_model_name": "LayoutModel",
            "justify_items": null,
            "grid_row": null,
            "max_height": null,
            "align_content": null,
            "visibility": null,
            "align_self": null,
            "height": null,
            "min_height": null,
            "padding": null,
            "grid_auto_rows": null,
            "grid_gap": null,
            "max_width": null,
            "order": null,
            "_view_module_version": "1.2.0",
            "grid_template_areas": null,
            "object_position": null,
            "object_fit": null,
            "grid_auto_columns": null,
            "margin": null,
            "display": null,
            "left": null
          }
        },
        "799c176f26cd45fc9e1bc12bcce3f979": {
          "model_module": "@jupyter-widgets/controls",
          "model_name": "ProgressStyleModel",
          "model_module_version": "1.5.0",
          "state": {
            "_view_name": "StyleView",
            "_model_name": "ProgressStyleModel",
            "description_width": "",
            "_view_module": "@jupyter-widgets/base",
            "_model_module_version": "1.5.0",
            "_view_count": null,
            "_view_module_version": "1.2.0",
            "bar_color": null,
            "_model_module": "@jupyter-widgets/controls"
          }
        },
        "f484d3d3637f489ab6486561054ae36c": {
          "model_module": "@jupyter-widgets/base",
          "model_name": "LayoutModel",
          "model_module_version": "1.2.0",
          "state": {
            "_view_name": "LayoutView",
            "grid_template_rows": null,
            "right": null,
            "justify_content": null,
            "_view_module": "@jupyter-widgets/base",
            "overflow": null,
            "_model_module_version": "1.2.0",
            "_view_count": null,
            "flex_flow": null,
            "width": "20px",
            "min_width": null,
            "border": null,
            "align_items": null,
            "bottom": null,
            "_model_module": "@jupyter-widgets/base",
            "top": null,
            "grid_column": null,
            "overflow_y": null,
            "overflow_x": null,
            "grid_auto_flow": null,
            "grid_area": null,
            "grid_template_columns": null,
            "flex": null,
            "_model_name": "LayoutModel",
            "justify_items": null,
            "grid_row": null,
            "max_height": null,
            "align_content": null,
            "visibility": null,
            "align_self": null,
            "height": null,
            "min_height": null,
            "padding": null,
            "grid_auto_rows": null,
            "grid_gap": null,
            "max_width": null,
            "order": null,
            "_view_module_version": "1.2.0",
            "grid_template_areas": null,
            "object_position": null,
            "object_fit": null,
            "grid_auto_columns": null,
            "margin": null,
            "display": null,
            "left": null
          }
        },
        "0ae46ab11b4f4382bdfda0f86e754742": {
          "model_module": "@jupyter-widgets/controls",
          "model_name": "DescriptionStyleModel",
          "model_module_version": "1.5.0",
          "state": {
            "_view_name": "StyleView",
            "_model_name": "DescriptionStyleModel",
            "description_width": "",
            "_view_module": "@jupyter-widgets/base",
            "_model_module_version": "1.5.0",
            "_view_count": null,
            "_view_module_version": "1.2.0",
            "_model_module": "@jupyter-widgets/controls"
          }
        },
        "fa219f8d342e4a1d9e74f9fbefdba5ad": {
          "model_module": "@jupyter-widgets/base",
          "model_name": "LayoutModel",
          "model_module_version": "1.2.0",
          "state": {
            "_view_name": "LayoutView",
            "grid_template_rows": null,
            "right": null,
            "justify_content": null,
            "_view_module": "@jupyter-widgets/base",
            "overflow": null,
            "_model_module_version": "1.2.0",
            "_view_count": null,
            "flex_flow": null,
            "width": null,
            "min_width": null,
            "border": null,
            "align_items": null,
            "bottom": null,
            "_model_module": "@jupyter-widgets/base",
            "top": null,
            "grid_column": null,
            "overflow_y": null,
            "overflow_x": null,
            "grid_auto_flow": null,
            "grid_area": null,
            "grid_template_columns": null,
            "flex": null,
            "_model_name": "LayoutModel",
            "justify_items": null,
            "grid_row": null,
            "max_height": null,
            "align_content": null,
            "visibility": null,
            "align_self": null,
            "height": null,
            "min_height": null,
            "padding": null,
            "grid_auto_rows": null,
            "grid_gap": null,
            "max_width": null,
            "order": null,
            "_view_module_version": "1.2.0",
            "grid_template_areas": null,
            "object_position": null,
            "object_fit": null,
            "grid_auto_columns": null,
            "margin": null,
            "display": null,
            "left": null
          }
        },
        "cead874275994f86882ef02eb28f2bc9": {
          "model_module": "@jupyter-widgets/controls",
          "model_name": "HBoxModel",
          "model_module_version": "1.5.0",
          "state": {
            "_view_name": "HBoxView",
            "_dom_classes": [],
            "_model_name": "HBoxModel",
            "_view_module": "@jupyter-widgets/controls",
            "_model_module_version": "1.5.0",
            "_view_count": null,
            "_view_module_version": "1.5.0",
            "box_style": "",
            "layout": "IPY_MODEL_84fcfb9d40a94bd08fef7cd1dbb0ea35",
            "_model_module": "@jupyter-widgets/controls",
            "children": [
              "IPY_MODEL_9981fa8e04834767b947082257d5a5c9",
              "IPY_MODEL_d77a52da141d43218f89236628cc1875",
              "IPY_MODEL_a126f5bd85604323916f5e498fdaf372"
            ]
          }
        },
        "84fcfb9d40a94bd08fef7cd1dbb0ea35": {
          "model_module": "@jupyter-widgets/base",
          "model_name": "LayoutModel",
          "model_module_version": "1.2.0",
          "state": {
            "_view_name": "LayoutView",
            "grid_template_rows": null,
            "right": null,
            "justify_content": null,
            "_view_module": "@jupyter-widgets/base",
            "overflow": null,
            "_model_module_version": "1.2.0",
            "_view_count": null,
            "flex_flow": null,
            "width": null,
            "min_width": null,
            "border": null,
            "align_items": null,
            "bottom": null,
            "_model_module": "@jupyter-widgets/base",
            "top": null,
            "grid_column": null,
            "overflow_y": null,
            "overflow_x": null,
            "grid_auto_flow": null,
            "grid_area": null,
            "grid_template_columns": null,
            "flex": null,
            "_model_name": "LayoutModel",
            "justify_items": null,
            "grid_row": null,
            "max_height": null,
            "align_content": null,
            "visibility": null,
            "align_self": null,
            "height": null,
            "min_height": null,
            "padding": null,
            "grid_auto_rows": null,
            "grid_gap": null,
            "max_width": null,
            "order": null,
            "_view_module_version": "1.2.0",
            "grid_template_areas": null,
            "object_position": null,
            "object_fit": null,
            "grid_auto_columns": null,
            "margin": null,
            "display": null,
            "left": null
          }
        },
        "9981fa8e04834767b947082257d5a5c9": {
          "model_module": "@jupyter-widgets/controls",
          "model_name": "HTMLModel",
          "model_module_version": "1.5.0",
          "state": {
            "_view_name": "HTMLView",
            "style": "IPY_MODEL_0fc6b972c9a44267a12f5b2f7e9a2b3e",
            "_dom_classes": [],
            "description": "",
            "_model_name": "HTMLModel",
            "placeholder": "​",
            "_view_module": "@jupyter-widgets/controls",
            "_model_module_version": "1.5.0",
            "value": "100%",
            "_view_count": null,
            "_view_module_version": "1.5.0",
            "description_tooltip": null,
            "_model_module": "@jupyter-widgets/controls",
            "layout": "IPY_MODEL_1fc17b7eca9946cb9153f7e24efe7dfe"
          }
        },
        "d77a52da141d43218f89236628cc1875": {
          "model_module": "@jupyter-widgets/controls",
          "model_name": "FloatProgressModel",
          "model_module_version": "1.5.0",
          "state": {
            "_view_name": "ProgressView",
            "style": "IPY_MODEL_6af81bac5f4c4d05ac776a425114e4d1",
            "_dom_classes": [],
            "description": "",
            "_model_name": "FloatProgressModel",
            "bar_style": "danger",
            "max": 51785,
            "_view_module": "@jupyter-widgets/controls",
            "_model_module_version": "1.5.0",
            "value": 51784,
            "_view_count": null,
            "_view_module_version": "1.5.0",
            "orientation": "horizontal",
            "min": 0,
            "description_tooltip": null,
            "_model_module": "@jupyter-widgets/controls",
            "layout": "IPY_MODEL_ec12c9cc4a5140ec9ebd2d606911a263"
          }
        },
        "a126f5bd85604323916f5e498fdaf372": {
          "model_module": "@jupyter-widgets/controls",
          "model_name": "HTMLModel",
          "model_module_version": "1.5.0",
          "state": {
            "_view_name": "HTMLView",
            "style": "IPY_MODEL_a13dd4c7a43348dea56354eb0b7312aa",
            "_dom_classes": [],
            "description": "",
            "_model_name": "HTMLModel",
            "placeholder": "​",
            "_view_module": "@jupyter-widgets/controls",
            "_model_module_version": "1.5.0",
            "value": " 51784/51785 [00:00&lt;00:00, 188397.61 examples/s]",
            "_view_count": null,
            "_view_module_version": "1.5.0",
            "description_tooltip": null,
            "_model_module": "@jupyter-widgets/controls",
            "layout": "IPY_MODEL_9f285221ed214e96a2efc1d7220ea031"
          }
        },
        "0fc6b972c9a44267a12f5b2f7e9a2b3e": {
          "model_module": "@jupyter-widgets/controls",
          "model_name": "DescriptionStyleModel",
          "model_module_version": "1.5.0",
          "state": {
            "_view_name": "StyleView",
            "_model_name": "DescriptionStyleModel",
            "description_width": "",
            "_view_module": "@jupyter-widgets/base",
            "_model_module_version": "1.5.0",
            "_view_count": null,
            "_view_module_version": "1.2.0",
            "_model_module": "@jupyter-widgets/controls"
          }
        },
        "1fc17b7eca9946cb9153f7e24efe7dfe": {
          "model_module": "@jupyter-widgets/base",
          "model_name": "LayoutModel",
          "model_module_version": "1.2.0",
          "state": {
            "_view_name": "LayoutView",
            "grid_template_rows": null,
            "right": null,
            "justify_content": null,
            "_view_module": "@jupyter-widgets/base",
            "overflow": null,
            "_model_module_version": "1.2.0",
            "_view_count": null,
            "flex_flow": null,
            "width": null,
            "min_width": null,
            "border": null,
            "align_items": null,
            "bottom": null,
            "_model_module": "@jupyter-widgets/base",
            "top": null,
            "grid_column": null,
            "overflow_y": null,
            "overflow_x": null,
            "grid_auto_flow": null,
            "grid_area": null,
            "grid_template_columns": null,
            "flex": null,
            "_model_name": "LayoutModel",
            "justify_items": null,
            "grid_row": null,
            "max_height": null,
            "align_content": null,
            "visibility": null,
            "align_self": null,
            "height": null,
            "min_height": null,
            "padding": null,
            "grid_auto_rows": null,
            "grid_gap": null,
            "max_width": null,
            "order": null,
            "_view_module_version": "1.2.0",
            "grid_template_areas": null,
            "object_position": null,
            "object_fit": null,
            "grid_auto_columns": null,
            "margin": null,
            "display": null,
            "left": null
          }
        },
        "6af81bac5f4c4d05ac776a425114e4d1": {
          "model_module": "@jupyter-widgets/controls",
          "model_name": "ProgressStyleModel",
          "model_module_version": "1.5.0",
          "state": {
            "_view_name": "StyleView",
            "_model_name": "ProgressStyleModel",
            "description_width": "",
            "_view_module": "@jupyter-widgets/base",
            "_model_module_version": "1.5.0",
            "_view_count": null,
            "_view_module_version": "1.2.0",
            "bar_color": null,
            "_model_module": "@jupyter-widgets/controls"
          }
        },
        "ec12c9cc4a5140ec9ebd2d606911a263": {
          "model_module": "@jupyter-widgets/base",
          "model_name": "LayoutModel",
          "model_module_version": "1.2.0",
          "state": {
            "_view_name": "LayoutView",
            "grid_template_rows": null,
            "right": null,
            "justify_content": null,
            "_view_module": "@jupyter-widgets/base",
            "overflow": null,
            "_model_module_version": "1.2.0",
            "_view_count": null,
            "flex_flow": null,
            "width": null,
            "min_width": null,
            "border": null,
            "align_items": null,
            "bottom": null,
            "_model_module": "@jupyter-widgets/base",
            "top": null,
            "grid_column": null,
            "overflow_y": null,
            "overflow_x": null,
            "grid_auto_flow": null,
            "grid_area": null,
            "grid_template_columns": null,
            "flex": null,
            "_model_name": "LayoutModel",
            "justify_items": null,
            "grid_row": null,
            "max_height": null,
            "align_content": null,
            "visibility": null,
            "align_self": null,
            "height": null,
            "min_height": null,
            "padding": null,
            "grid_auto_rows": null,
            "grid_gap": null,
            "max_width": null,
            "order": null,
            "_view_module_version": "1.2.0",
            "grid_template_areas": null,
            "object_position": null,
            "object_fit": null,
            "grid_auto_columns": null,
            "margin": null,
            "display": null,
            "left": null
          }
        },
        "a13dd4c7a43348dea56354eb0b7312aa": {
          "model_module": "@jupyter-widgets/controls",
          "model_name": "DescriptionStyleModel",
          "model_module_version": "1.5.0",
          "state": {
            "_view_name": "StyleView",
            "_model_name": "DescriptionStyleModel",
            "description_width": "",
            "_view_module": "@jupyter-widgets/base",
            "_model_module_version": "1.5.0",
            "_view_count": null,
            "_view_module_version": "1.2.0",
            "_model_module": "@jupyter-widgets/controls"
          }
        },
        "9f285221ed214e96a2efc1d7220ea031": {
          "model_module": "@jupyter-widgets/base",
          "model_name": "LayoutModel",
          "model_module_version": "1.2.0",
          "state": {
            "_view_name": "LayoutView",
            "grid_template_rows": null,
            "right": null,
            "justify_content": null,
            "_view_module": "@jupyter-widgets/base",
            "overflow": null,
            "_model_module_version": "1.2.0",
            "_view_count": null,
            "flex_flow": null,
            "width": null,
            "min_width": null,
            "border": null,
            "align_items": null,
            "bottom": null,
            "_model_module": "@jupyter-widgets/base",
            "top": null,
            "grid_column": null,
            "overflow_y": null,
            "overflow_x": null,
            "grid_auto_flow": null,
            "grid_area": null,
            "grid_template_columns": null,
            "flex": null,
            "_model_name": "LayoutModel",
            "justify_items": null,
            "grid_row": null,
            "max_height": null,
            "align_content": null,
            "visibility": null,
            "align_self": null,
            "height": null,
            "min_height": null,
            "padding": null,
            "grid_auto_rows": null,
            "grid_gap": null,
            "max_width": null,
            "order": null,
            "_view_module_version": "1.2.0",
            "grid_template_areas": null,
            "object_position": null,
            "object_fit": null,
            "grid_auto_columns": null,
            "margin": null,
            "display": null,
            "left": null
          }
        },
        "e920d6a69aa246cda03df23f89ac7ca3": {
          "model_module": "@jupyter-widgets/controls",
          "model_name": "HBoxModel",
          "model_module_version": "1.5.0",
          "state": {
            "_view_name": "HBoxView",
            "_dom_classes": [],
            "_model_name": "HBoxModel",
            "_view_module": "@jupyter-widgets/controls",
            "_model_module_version": "1.5.0",
            "_view_count": null,
            "_view_module_version": "1.5.0",
            "box_style": "",
            "layout": "IPY_MODEL_530d1a2d91084c5eb0bba93ef9858735",
            "_model_module": "@jupyter-widgets/controls",
            "children": [
              "IPY_MODEL_8bbb821a64884e6c9e499a2ea02bf207",
              "IPY_MODEL_cb77049f59654e6b9af169c4e0dfee66",
              "IPY_MODEL_c49c7678f4404a8a97088422f79e926e"
            ]
          }
        },
        "530d1a2d91084c5eb0bba93ef9858735": {
          "model_module": "@jupyter-widgets/base",
          "model_name": "LayoutModel",
          "model_module_version": "1.2.0",
          "state": {
            "_view_name": "LayoutView",
            "grid_template_rows": null,
            "right": null,
            "justify_content": null,
            "_view_module": "@jupyter-widgets/base",
            "overflow": null,
            "_model_module_version": "1.2.0",
            "_view_count": null,
            "flex_flow": null,
            "width": null,
            "min_width": null,
            "border": null,
            "align_items": null,
            "bottom": null,
            "_model_module": "@jupyter-widgets/base",
            "top": null,
            "grid_column": null,
            "overflow_y": null,
            "overflow_x": null,
            "grid_auto_flow": null,
            "grid_area": null,
            "grid_template_columns": null,
            "flex": null,
            "_model_name": "LayoutModel",
            "justify_items": null,
            "grid_row": null,
            "max_height": null,
            "align_content": null,
            "visibility": null,
            "align_self": null,
            "height": null,
            "min_height": null,
            "padding": null,
            "grid_auto_rows": null,
            "grid_gap": null,
            "max_width": null,
            "order": null,
            "_view_module_version": "1.2.0",
            "grid_template_areas": null,
            "object_position": null,
            "object_fit": null,
            "grid_auto_columns": null,
            "margin": null,
            "display": null,
            "left": null
          }
        },
        "8bbb821a64884e6c9e499a2ea02bf207": {
          "model_module": "@jupyter-widgets/controls",
          "model_name": "HTMLModel",
          "model_module_version": "1.5.0",
          "state": {
            "_view_name": "HTMLView",
            "style": "IPY_MODEL_3b1a21269c2645a886053fde3888c5d6",
            "_dom_classes": [],
            "description": "",
            "_model_name": "HTMLModel",
            "placeholder": "​",
            "_view_module": "@jupyter-widgets/controls",
            "_model_module_version": "1.5.0",
            "value": "",
            "_view_count": null,
            "_view_module_version": "1.5.0",
            "description_tooltip": null,
            "_model_module": "@jupyter-widgets/controls",
            "layout": "IPY_MODEL_256cc0074c794a998fb3043bf24b8bf5"
          }
        },
        "cb77049f59654e6b9af169c4e0dfee66": {
          "model_module": "@jupyter-widgets/controls",
          "model_name": "FloatProgressModel",
          "model_module_version": "1.5.0",
          "state": {
            "_view_name": "ProgressView",
            "style": "IPY_MODEL_321f8aef43874426a01aa5ba1cf9721f",
            "_dom_classes": [],
            "description": "",
            "_model_name": "FloatProgressModel",
            "bar_style": "info",
            "max": 1,
            "_view_module": "@jupyter-widgets/controls",
            "_model_module_version": "1.5.0",
            "value": 1,
            "_view_count": null,
            "_view_module_version": "1.5.0",
            "orientation": "horizontal",
            "min": 0,
            "description_tooltip": null,
            "_model_module": "@jupyter-widgets/controls",
            "layout": "IPY_MODEL_824d315c8a1746c7b40eb7af5bde9aff"
          }
        },
        "c49c7678f4404a8a97088422f79e926e": {
          "model_module": "@jupyter-widgets/controls",
          "model_name": "HTMLModel",
          "model_module_version": "1.5.0",
          "state": {
            "_view_name": "HTMLView",
            "style": "IPY_MODEL_6384d5cfdbc04efe8035db7aaf088030",
            "_dom_classes": [],
            "description": "",
            "_model_name": "HTMLModel",
            "placeholder": "​",
            "_view_module": "@jupyter-widgets/controls",
            "_model_module_version": "1.5.0",
            "value": " 1163/0 [00:00&lt;00:00, 3280.15 examples/s]",
            "_view_count": null,
            "_view_module_version": "1.5.0",
            "description_tooltip": null,
            "_model_module": "@jupyter-widgets/controls",
            "layout": "IPY_MODEL_35847d8724b64243a863bf7fc22a7469"
          }
        },
        "3b1a21269c2645a886053fde3888c5d6": {
          "model_module": "@jupyter-widgets/controls",
          "model_name": "DescriptionStyleModel",
          "model_module_version": "1.5.0",
          "state": {
            "_view_name": "StyleView",
            "_model_name": "DescriptionStyleModel",
            "description_width": "",
            "_view_module": "@jupyter-widgets/base",
            "_model_module_version": "1.5.0",
            "_view_count": null,
            "_view_module_version": "1.2.0",
            "_model_module": "@jupyter-widgets/controls"
          }
        },
        "256cc0074c794a998fb3043bf24b8bf5": {
          "model_module": "@jupyter-widgets/base",
          "model_name": "LayoutModel",
          "model_module_version": "1.2.0",
          "state": {
            "_view_name": "LayoutView",
            "grid_template_rows": null,
            "right": null,
            "justify_content": null,
            "_view_module": "@jupyter-widgets/base",
            "overflow": null,
            "_model_module_version": "1.2.0",
            "_view_count": null,
            "flex_flow": null,
            "width": null,
            "min_width": null,
            "border": null,
            "align_items": null,
            "bottom": null,
            "_model_module": "@jupyter-widgets/base",
            "top": null,
            "grid_column": null,
            "overflow_y": null,
            "overflow_x": null,
            "grid_auto_flow": null,
            "grid_area": null,
            "grid_template_columns": null,
            "flex": null,
            "_model_name": "LayoutModel",
            "justify_items": null,
            "grid_row": null,
            "max_height": null,
            "align_content": null,
            "visibility": null,
            "align_self": null,
            "height": null,
            "min_height": null,
            "padding": null,
            "grid_auto_rows": null,
            "grid_gap": null,
            "max_width": null,
            "order": null,
            "_view_module_version": "1.2.0",
            "grid_template_areas": null,
            "object_position": null,
            "object_fit": null,
            "grid_auto_columns": null,
            "margin": null,
            "display": null,
            "left": null
          }
        },
        "321f8aef43874426a01aa5ba1cf9721f": {
          "model_module": "@jupyter-widgets/controls",
          "model_name": "ProgressStyleModel",
          "model_module_version": "1.5.0",
          "state": {
            "_view_name": "StyleView",
            "_model_name": "ProgressStyleModel",
            "description_width": "",
            "_view_module": "@jupyter-widgets/base",
            "_model_module_version": "1.5.0",
            "_view_count": null,
            "_view_module_version": "1.2.0",
            "bar_color": null,
            "_model_module": "@jupyter-widgets/controls"
          }
        },
        "824d315c8a1746c7b40eb7af5bde9aff": {
          "model_module": "@jupyter-widgets/base",
          "model_name": "LayoutModel",
          "model_module_version": "1.2.0",
          "state": {
            "_view_name": "LayoutView",
            "grid_template_rows": null,
            "right": null,
            "justify_content": null,
            "_view_module": "@jupyter-widgets/base",
            "overflow": null,
            "_model_module_version": "1.2.0",
            "_view_count": null,
            "flex_flow": null,
            "width": "20px",
            "min_width": null,
            "border": null,
            "align_items": null,
            "bottom": null,
            "_model_module": "@jupyter-widgets/base",
            "top": null,
            "grid_column": null,
            "overflow_y": null,
            "overflow_x": null,
            "grid_auto_flow": null,
            "grid_area": null,
            "grid_template_columns": null,
            "flex": null,
            "_model_name": "LayoutModel",
            "justify_items": null,
            "grid_row": null,
            "max_height": null,
            "align_content": null,
            "visibility": null,
            "align_self": null,
            "height": null,
            "min_height": null,
            "padding": null,
            "grid_auto_rows": null,
            "grid_gap": null,
            "max_width": null,
            "order": null,
            "_view_module_version": "1.2.0",
            "grid_template_areas": null,
            "object_position": null,
            "object_fit": null,
            "grid_auto_columns": null,
            "margin": null,
            "display": null,
            "left": null
          }
        },
        "6384d5cfdbc04efe8035db7aaf088030": {
          "model_module": "@jupyter-widgets/controls",
          "model_name": "DescriptionStyleModel",
          "model_module_version": "1.5.0",
          "state": {
            "_view_name": "StyleView",
            "_model_name": "DescriptionStyleModel",
            "description_width": "",
            "_view_module": "@jupyter-widgets/base",
            "_model_module_version": "1.5.0",
            "_view_count": null,
            "_view_module_version": "1.2.0",
            "_model_module": "@jupyter-widgets/controls"
          }
        },
        "35847d8724b64243a863bf7fc22a7469": {
          "model_module": "@jupyter-widgets/base",
          "model_name": "LayoutModel",
          "model_module_version": "1.2.0",
          "state": {
            "_view_name": "LayoutView",
            "grid_template_rows": null,
            "right": null,
            "justify_content": null,
            "_view_module": "@jupyter-widgets/base",
            "overflow": null,
            "_model_module_version": "1.2.0",
            "_view_count": null,
            "flex_flow": null,
            "width": null,
            "min_width": null,
            "border": null,
            "align_items": null,
            "bottom": null,
            "_model_module": "@jupyter-widgets/base",
            "top": null,
            "grid_column": null,
            "overflow_y": null,
            "overflow_x": null,
            "grid_auto_flow": null,
            "grid_area": null,
            "grid_template_columns": null,
            "flex": null,
            "_model_name": "LayoutModel",
            "justify_items": null,
            "grid_row": null,
            "max_height": null,
            "align_content": null,
            "visibility": null,
            "align_self": null,
            "height": null,
            "min_height": null,
            "padding": null,
            "grid_auto_rows": null,
            "grid_gap": null,
            "max_width": null,
            "order": null,
            "_view_module_version": "1.2.0",
            "grid_template_areas": null,
            "object_position": null,
            "object_fit": null,
            "grid_auto_columns": null,
            "margin": null,
            "display": null,
            "left": null
          }
        },
        "849984e37d8c4b749f1ed96b24c76011": {
          "model_module": "@jupyter-widgets/controls",
          "model_name": "HBoxModel",
          "model_module_version": "1.5.0",
          "state": {
            "_view_name": "HBoxView",
            "_dom_classes": [],
            "_model_name": "HBoxModel",
            "_view_module": "@jupyter-widgets/controls",
            "_model_module_version": "1.5.0",
            "_view_count": null,
            "_view_module_version": "1.5.0",
            "box_style": "",
            "layout": "IPY_MODEL_c64d1ae72eda45cf8af4210a986908fd",
            "_model_module": "@jupyter-widgets/controls",
            "children": [
              "IPY_MODEL_3bfa07b9c5e04bf3a9d89205aed60a13",
              "IPY_MODEL_b5a22b59b0e9417187048037d3b67a59",
              "IPY_MODEL_acfa6331e6664a019d14fb3789b36275"
            ]
          }
        },
        "c64d1ae72eda45cf8af4210a986908fd": {
          "model_module": "@jupyter-widgets/base",
          "model_name": "LayoutModel",
          "model_module_version": "1.2.0",
          "state": {
            "_view_name": "LayoutView",
            "grid_template_rows": null,
            "right": null,
            "justify_content": null,
            "_view_module": "@jupyter-widgets/base",
            "overflow": null,
            "_model_module_version": "1.2.0",
            "_view_count": null,
            "flex_flow": null,
            "width": null,
            "min_width": null,
            "border": null,
            "align_items": null,
            "bottom": null,
            "_model_module": "@jupyter-widgets/base",
            "top": null,
            "grid_column": null,
            "overflow_y": null,
            "overflow_x": null,
            "grid_auto_flow": null,
            "grid_area": null,
            "grid_template_columns": null,
            "flex": null,
            "_model_name": "LayoutModel",
            "justify_items": null,
            "grid_row": null,
            "max_height": null,
            "align_content": null,
            "visibility": null,
            "align_self": null,
            "height": null,
            "min_height": null,
            "padding": null,
            "grid_auto_rows": null,
            "grid_gap": null,
            "max_width": null,
            "order": null,
            "_view_module_version": "1.2.0",
            "grid_template_areas": null,
            "object_position": null,
            "object_fit": null,
            "grid_auto_columns": null,
            "margin": null,
            "display": null,
            "left": null
          }
        },
        "3bfa07b9c5e04bf3a9d89205aed60a13": {
          "model_module": "@jupyter-widgets/controls",
          "model_name": "HTMLModel",
          "model_module_version": "1.5.0",
          "state": {
            "_view_name": "HTMLView",
            "style": "IPY_MODEL_4fed5023e584452ab47b7370534a945e",
            "_dom_classes": [],
            "description": "",
            "_model_name": "HTMLModel",
            "placeholder": "​",
            "_view_module": "@jupyter-widgets/controls",
            "_model_module_version": "1.5.0",
            "value": "100%",
            "_view_count": null,
            "_view_module_version": "1.5.0",
            "description_tooltip": null,
            "_model_module": "@jupyter-widgets/controls",
            "layout": "IPY_MODEL_77af4e1deb40447aa17b2353d899abc4"
          }
        },
        "b5a22b59b0e9417187048037d3b67a59": {
          "model_module": "@jupyter-widgets/controls",
          "model_name": "FloatProgressModel",
          "model_module_version": "1.5.0",
          "state": {
            "_view_name": "ProgressView",
            "style": "IPY_MODEL_2b6237a5187d4859a27988b40e166657",
            "_dom_classes": [],
            "description": "",
            "_model_name": "FloatProgressModel",
            "bar_style": "danger",
            "max": 1193,
            "_view_module": "@jupyter-widgets/controls",
            "_model_module_version": "1.5.0",
            "value": 1192,
            "_view_count": null,
            "_view_module_version": "1.5.0",
            "orientation": "horizontal",
            "min": 0,
            "description_tooltip": null,
            "_model_module": "@jupyter-widgets/controls",
            "layout": "IPY_MODEL_9407ce9a208e4762be9de3d1dbd26362"
          }
        },
        "acfa6331e6664a019d14fb3789b36275": {
          "model_module": "@jupyter-widgets/controls",
          "model_name": "HTMLModel",
          "model_module_version": "1.5.0",
          "state": {
            "_view_name": "HTMLView",
            "style": "IPY_MODEL_45d5e501cff64d12824c8bef6b2e677c",
            "_dom_classes": [],
            "description": "",
            "_model_name": "HTMLModel",
            "placeholder": "​",
            "_view_module": "@jupyter-widgets/controls",
            "_model_module_version": "1.5.0",
            "value": " 1192/1193 [00:00&lt;00:00, 20371.15 examples/s]",
            "_view_count": null,
            "_view_module_version": "1.5.0",
            "description_tooltip": null,
            "_model_module": "@jupyter-widgets/controls",
            "layout": "IPY_MODEL_c343597483ab41daad271c28aefcadc6"
          }
        },
        "4fed5023e584452ab47b7370534a945e": {
          "model_module": "@jupyter-widgets/controls",
          "model_name": "DescriptionStyleModel",
          "model_module_version": "1.5.0",
          "state": {
            "_view_name": "StyleView",
            "_model_name": "DescriptionStyleModel",
            "description_width": "",
            "_view_module": "@jupyter-widgets/base",
            "_model_module_version": "1.5.0",
            "_view_count": null,
            "_view_module_version": "1.2.0",
            "_model_module": "@jupyter-widgets/controls"
          }
        },
        "77af4e1deb40447aa17b2353d899abc4": {
          "model_module": "@jupyter-widgets/base",
          "model_name": "LayoutModel",
          "model_module_version": "1.2.0",
          "state": {
            "_view_name": "LayoutView",
            "grid_template_rows": null,
            "right": null,
            "justify_content": null,
            "_view_module": "@jupyter-widgets/base",
            "overflow": null,
            "_model_module_version": "1.2.0",
            "_view_count": null,
            "flex_flow": null,
            "width": null,
            "min_width": null,
            "border": null,
            "align_items": null,
            "bottom": null,
            "_model_module": "@jupyter-widgets/base",
            "top": null,
            "grid_column": null,
            "overflow_y": null,
            "overflow_x": null,
            "grid_auto_flow": null,
            "grid_area": null,
            "grid_template_columns": null,
            "flex": null,
            "_model_name": "LayoutModel",
            "justify_items": null,
            "grid_row": null,
            "max_height": null,
            "align_content": null,
            "visibility": null,
            "align_self": null,
            "height": null,
            "min_height": null,
            "padding": null,
            "grid_auto_rows": null,
            "grid_gap": null,
            "max_width": null,
            "order": null,
            "_view_module_version": "1.2.0",
            "grid_template_areas": null,
            "object_position": null,
            "object_fit": null,
            "grid_auto_columns": null,
            "margin": null,
            "display": null,
            "left": null
          }
        },
        "2b6237a5187d4859a27988b40e166657": {
          "model_module": "@jupyter-widgets/controls",
          "model_name": "ProgressStyleModel",
          "model_module_version": "1.5.0",
          "state": {
            "_view_name": "StyleView",
            "_model_name": "ProgressStyleModel",
            "description_width": "",
            "_view_module": "@jupyter-widgets/base",
            "_model_module_version": "1.5.0",
            "_view_count": null,
            "_view_module_version": "1.2.0",
            "bar_color": null,
            "_model_module": "@jupyter-widgets/controls"
          }
        },
        "9407ce9a208e4762be9de3d1dbd26362": {
          "model_module": "@jupyter-widgets/base",
          "model_name": "LayoutModel",
          "model_module_version": "1.2.0",
          "state": {
            "_view_name": "LayoutView",
            "grid_template_rows": null,
            "right": null,
            "justify_content": null,
            "_view_module": "@jupyter-widgets/base",
            "overflow": null,
            "_model_module_version": "1.2.0",
            "_view_count": null,
            "flex_flow": null,
            "width": null,
            "min_width": null,
            "border": null,
            "align_items": null,
            "bottom": null,
            "_model_module": "@jupyter-widgets/base",
            "top": null,
            "grid_column": null,
            "overflow_y": null,
            "overflow_x": null,
            "grid_auto_flow": null,
            "grid_area": null,
            "grid_template_columns": null,
            "flex": null,
            "_model_name": "LayoutModel",
            "justify_items": null,
            "grid_row": null,
            "max_height": null,
            "align_content": null,
            "visibility": null,
            "align_self": null,
            "height": null,
            "min_height": null,
            "padding": null,
            "grid_auto_rows": null,
            "grid_gap": null,
            "max_width": null,
            "order": null,
            "_view_module_version": "1.2.0",
            "grid_template_areas": null,
            "object_position": null,
            "object_fit": null,
            "grid_auto_columns": null,
            "margin": null,
            "display": null,
            "left": null
          }
        },
        "45d5e501cff64d12824c8bef6b2e677c": {
          "model_module": "@jupyter-widgets/controls",
          "model_name": "DescriptionStyleModel",
          "model_module_version": "1.5.0",
          "state": {
            "_view_name": "StyleView",
            "_model_name": "DescriptionStyleModel",
            "description_width": "",
            "_view_module": "@jupyter-widgets/base",
            "_model_module_version": "1.5.0",
            "_view_count": null,
            "_view_module_version": "1.2.0",
            "_model_module": "@jupyter-widgets/controls"
          }
        },
        "c343597483ab41daad271c28aefcadc6": {
          "model_module": "@jupyter-widgets/base",
          "model_name": "LayoutModel",
          "model_module_version": "1.2.0",
          "state": {
            "_view_name": "LayoutView",
            "grid_template_rows": null,
            "right": null,
            "justify_content": null,
            "_view_module": "@jupyter-widgets/base",
            "overflow": null,
            "_model_module_version": "1.2.0",
            "_view_count": null,
            "flex_flow": null,
            "width": null,
            "min_width": null,
            "border": null,
            "align_items": null,
            "bottom": null,
            "_model_module": "@jupyter-widgets/base",
            "top": null,
            "grid_column": null,
            "overflow_y": null,
            "overflow_x": null,
            "grid_auto_flow": null,
            "grid_area": null,
            "grid_template_columns": null,
            "flex": null,
            "_model_name": "LayoutModel",
            "justify_items": null,
            "grid_row": null,
            "max_height": null,
            "align_content": null,
            "visibility": null,
            "align_self": null,
            "height": null,
            "min_height": null,
            "padding": null,
            "grid_auto_rows": null,
            "grid_gap": null,
            "max_width": null,
            "order": null,
            "_view_module_version": "1.2.0",
            "grid_template_areas": null,
            "object_position": null,
            "object_fit": null,
            "grid_auto_columns": null,
            "margin": null,
            "display": null,
            "left": null
          }
        },
        "e5a5cce35e6e49f3bfd22307b26d060e": {
          "model_module": "@jupyter-widgets/controls",
          "model_name": "HBoxModel",
          "model_module_version": "1.5.0",
          "state": {
            "_view_name": "HBoxView",
            "_dom_classes": [],
            "_model_name": "HBoxModel",
            "_view_module": "@jupyter-widgets/controls",
            "_model_module_version": "1.5.0",
            "_view_count": null,
            "_view_module_version": "1.5.0",
            "box_style": "",
            "layout": "IPY_MODEL_c9133535861249fca461dfd590c49baa",
            "_model_module": "@jupyter-widgets/controls",
            "children": [
              "IPY_MODEL_5462d0d179c44e5c83f9938d49a41a35",
              "IPY_MODEL_d49cb112860c4cb599f1973aadb46ac4",
              "IPY_MODEL_dbec97768af84913b94ceb45adb3e2ef"
            ]
          }
        },
        "c9133535861249fca461dfd590c49baa": {
          "model_module": "@jupyter-widgets/base",
          "model_name": "LayoutModel",
          "model_module_version": "1.2.0",
          "state": {
            "_view_name": "LayoutView",
            "grid_template_rows": null,
            "right": null,
            "justify_content": null,
            "_view_module": "@jupyter-widgets/base",
            "overflow": null,
            "_model_module_version": "1.2.0",
            "_view_count": null,
            "flex_flow": null,
            "width": null,
            "min_width": null,
            "border": null,
            "align_items": null,
            "bottom": null,
            "_model_module": "@jupyter-widgets/base",
            "top": null,
            "grid_column": null,
            "overflow_y": null,
            "overflow_x": null,
            "grid_auto_flow": null,
            "grid_area": null,
            "grid_template_columns": null,
            "flex": null,
            "_model_name": "LayoutModel",
            "justify_items": null,
            "grid_row": null,
            "max_height": null,
            "align_content": null,
            "visibility": null,
            "align_self": null,
            "height": null,
            "min_height": null,
            "padding": null,
            "grid_auto_rows": null,
            "grid_gap": null,
            "max_width": null,
            "order": null,
            "_view_module_version": "1.2.0",
            "grid_template_areas": null,
            "object_position": null,
            "object_fit": null,
            "grid_auto_columns": null,
            "margin": null,
            "display": null,
            "left": null
          }
        },
        "5462d0d179c44e5c83f9938d49a41a35": {
          "model_module": "@jupyter-widgets/controls",
          "model_name": "HTMLModel",
          "model_module_version": "1.5.0",
          "state": {
            "_view_name": "HTMLView",
            "style": "IPY_MODEL_205309a901614f8980eddba44adac677",
            "_dom_classes": [],
            "description": "",
            "_model_name": "HTMLModel",
            "placeholder": "​",
            "_view_module": "@jupyter-widgets/controls",
            "_model_module_version": "1.5.0",
            "value": "",
            "_view_count": null,
            "_view_module_version": "1.5.0",
            "description_tooltip": null,
            "_model_module": "@jupyter-widgets/controls",
            "layout": "IPY_MODEL_6f8270e64ad74e449c9380d57c4e8cc9"
          }
        },
        "d49cb112860c4cb599f1973aadb46ac4": {
          "model_module": "@jupyter-widgets/controls",
          "model_name": "FloatProgressModel",
          "model_module_version": "1.5.0",
          "state": {
            "_view_name": "ProgressView",
            "style": "IPY_MODEL_6ace170906354fc192d4be373f8eb371",
            "_dom_classes": [],
            "description": "",
            "_model_name": "FloatProgressModel",
            "bar_style": "info",
            "max": 1,
            "_view_module": "@jupyter-widgets/controls",
            "_model_module_version": "1.5.0",
            "value": 1,
            "_view_count": null,
            "_view_module_version": "1.5.0",
            "orientation": "horizontal",
            "min": 0,
            "description_tooltip": null,
            "_model_module": "@jupyter-widgets/controls",
            "layout": "IPY_MODEL_16e85358dca04486944d17492f856ab2"
          }
        },
        "dbec97768af84913b94ceb45adb3e2ef": {
          "model_module": "@jupyter-widgets/controls",
          "model_name": "HTMLModel",
          "model_module_version": "1.5.0",
          "state": {
            "_view_name": "HTMLView",
            "style": "IPY_MODEL_e67aa0aa7c4242dcb28bca6ad402459f",
            "_dom_classes": [],
            "description": "",
            "_model_name": "HTMLModel",
            "placeholder": "​",
            "_view_module": "@jupyter-widgets/controls",
            "_model_module_version": "1.5.0",
            "value": " 1480/0 [00:00&lt;00:00, 3452.09 examples/s]",
            "_view_count": null,
            "_view_module_version": "1.5.0",
            "description_tooltip": null,
            "_model_module": "@jupyter-widgets/controls",
            "layout": "IPY_MODEL_dbe41669eb714a8cacca3389f958dd87"
          }
        },
        "205309a901614f8980eddba44adac677": {
          "model_module": "@jupyter-widgets/controls",
          "model_name": "DescriptionStyleModel",
          "model_module_version": "1.5.0",
          "state": {
            "_view_name": "StyleView",
            "_model_name": "DescriptionStyleModel",
            "description_width": "",
            "_view_module": "@jupyter-widgets/base",
            "_model_module_version": "1.5.0",
            "_view_count": null,
            "_view_module_version": "1.2.0",
            "_model_module": "@jupyter-widgets/controls"
          }
        },
        "6f8270e64ad74e449c9380d57c4e8cc9": {
          "model_module": "@jupyter-widgets/base",
          "model_name": "LayoutModel",
          "model_module_version": "1.2.0",
          "state": {
            "_view_name": "LayoutView",
            "grid_template_rows": null,
            "right": null,
            "justify_content": null,
            "_view_module": "@jupyter-widgets/base",
            "overflow": null,
            "_model_module_version": "1.2.0",
            "_view_count": null,
            "flex_flow": null,
            "width": null,
            "min_width": null,
            "border": null,
            "align_items": null,
            "bottom": null,
            "_model_module": "@jupyter-widgets/base",
            "top": null,
            "grid_column": null,
            "overflow_y": null,
            "overflow_x": null,
            "grid_auto_flow": null,
            "grid_area": null,
            "grid_template_columns": null,
            "flex": null,
            "_model_name": "LayoutModel",
            "justify_items": null,
            "grid_row": null,
            "max_height": null,
            "align_content": null,
            "visibility": null,
            "align_self": null,
            "height": null,
            "min_height": null,
            "padding": null,
            "grid_auto_rows": null,
            "grid_gap": null,
            "max_width": null,
            "order": null,
            "_view_module_version": "1.2.0",
            "grid_template_areas": null,
            "object_position": null,
            "object_fit": null,
            "grid_auto_columns": null,
            "margin": null,
            "display": null,
            "left": null
          }
        },
        "6ace170906354fc192d4be373f8eb371": {
          "model_module": "@jupyter-widgets/controls",
          "model_name": "ProgressStyleModel",
          "model_module_version": "1.5.0",
          "state": {
            "_view_name": "StyleView",
            "_model_name": "ProgressStyleModel",
            "description_width": "",
            "_view_module": "@jupyter-widgets/base",
            "_model_module_version": "1.5.0",
            "_view_count": null,
            "_view_module_version": "1.2.0",
            "bar_color": null,
            "_model_module": "@jupyter-widgets/controls"
          }
        },
        "16e85358dca04486944d17492f856ab2": {
          "model_module": "@jupyter-widgets/base",
          "model_name": "LayoutModel",
          "model_module_version": "1.2.0",
          "state": {
            "_view_name": "LayoutView",
            "grid_template_rows": null,
            "right": null,
            "justify_content": null,
            "_view_module": "@jupyter-widgets/base",
            "overflow": null,
            "_model_module_version": "1.2.0",
            "_view_count": null,
            "flex_flow": null,
            "width": "20px",
            "min_width": null,
            "border": null,
            "align_items": null,
            "bottom": null,
            "_model_module": "@jupyter-widgets/base",
            "top": null,
            "grid_column": null,
            "overflow_y": null,
            "overflow_x": null,
            "grid_auto_flow": null,
            "grid_area": null,
            "grid_template_columns": null,
            "flex": null,
            "_model_name": "LayoutModel",
            "justify_items": null,
            "grid_row": null,
            "max_height": null,
            "align_content": null,
            "visibility": null,
            "align_self": null,
            "height": null,
            "min_height": null,
            "padding": null,
            "grid_auto_rows": null,
            "grid_gap": null,
            "max_width": null,
            "order": null,
            "_view_module_version": "1.2.0",
            "grid_template_areas": null,
            "object_position": null,
            "object_fit": null,
            "grid_auto_columns": null,
            "margin": null,
            "display": null,
            "left": null
          }
        },
        "e67aa0aa7c4242dcb28bca6ad402459f": {
          "model_module": "@jupyter-widgets/controls",
          "model_name": "DescriptionStyleModel",
          "model_module_version": "1.5.0",
          "state": {
            "_view_name": "StyleView",
            "_model_name": "DescriptionStyleModel",
            "description_width": "",
            "_view_module": "@jupyter-widgets/base",
            "_model_module_version": "1.5.0",
            "_view_count": null,
            "_view_module_version": "1.2.0",
            "_model_module": "@jupyter-widgets/controls"
          }
        },
        "dbe41669eb714a8cacca3389f958dd87": {
          "model_module": "@jupyter-widgets/base",
          "model_name": "LayoutModel",
          "model_module_version": "1.2.0",
          "state": {
            "_view_name": "LayoutView",
            "grid_template_rows": null,
            "right": null,
            "justify_content": null,
            "_view_module": "@jupyter-widgets/base",
            "overflow": null,
            "_model_module_version": "1.2.0",
            "_view_count": null,
            "flex_flow": null,
            "width": null,
            "min_width": null,
            "border": null,
            "align_items": null,
            "bottom": null,
            "_model_module": "@jupyter-widgets/base",
            "top": null,
            "grid_column": null,
            "overflow_y": null,
            "overflow_x": null,
            "grid_auto_flow": null,
            "grid_area": null,
            "grid_template_columns": null,
            "flex": null,
            "_model_name": "LayoutModel",
            "justify_items": null,
            "grid_row": null,
            "max_height": null,
            "align_content": null,
            "visibility": null,
            "align_self": null,
            "height": null,
            "min_height": null,
            "padding": null,
            "grid_auto_rows": null,
            "grid_gap": null,
            "max_width": null,
            "order": null,
            "_view_module_version": "1.2.0",
            "grid_template_areas": null,
            "object_position": null,
            "object_fit": null,
            "grid_auto_columns": null,
            "margin": null,
            "display": null,
            "left": null
          }
        },
        "96ad130961814db69a9cb6bba3f2d6e9": {
          "model_module": "@jupyter-widgets/controls",
          "model_name": "HBoxModel",
          "model_module_version": "1.5.0",
          "state": {
            "_view_name": "HBoxView",
            "_dom_classes": [],
            "_model_name": "HBoxModel",
            "_view_module": "@jupyter-widgets/controls",
            "_model_module_version": "1.5.0",
            "_view_count": null,
            "_view_module_version": "1.5.0",
            "box_style": "",
            "layout": "IPY_MODEL_589302f494b14772818f0b12210a2f6e",
            "_model_module": "@jupyter-widgets/controls",
            "children": [
              "IPY_MODEL_bbdc42c0c11143bfbd3e950d4fe72e98",
              "IPY_MODEL_7e80f8b735d8444a97e748d38fd1e590",
              "IPY_MODEL_27be4eda63344846b5e678079f5f2517"
            ]
          }
        },
        "589302f494b14772818f0b12210a2f6e": {
          "model_module": "@jupyter-widgets/base",
          "model_name": "LayoutModel",
          "model_module_version": "1.2.0",
          "state": {
            "_view_name": "LayoutView",
            "grid_template_rows": null,
            "right": null,
            "justify_content": null,
            "_view_module": "@jupyter-widgets/base",
            "overflow": null,
            "_model_module_version": "1.2.0",
            "_view_count": null,
            "flex_flow": null,
            "width": null,
            "min_width": null,
            "border": null,
            "align_items": null,
            "bottom": null,
            "_model_module": "@jupyter-widgets/base",
            "top": null,
            "grid_column": null,
            "overflow_y": null,
            "overflow_x": null,
            "grid_auto_flow": null,
            "grid_area": null,
            "grid_template_columns": null,
            "flex": null,
            "_model_name": "LayoutModel",
            "justify_items": null,
            "grid_row": null,
            "max_height": null,
            "align_content": null,
            "visibility": null,
            "align_self": null,
            "height": null,
            "min_height": null,
            "padding": null,
            "grid_auto_rows": null,
            "grid_gap": null,
            "max_width": null,
            "order": null,
            "_view_module_version": "1.2.0",
            "grid_template_areas": null,
            "object_position": null,
            "object_fit": null,
            "grid_auto_columns": null,
            "margin": null,
            "display": null,
            "left": null
          }
        },
        "bbdc42c0c11143bfbd3e950d4fe72e98": {
          "model_module": "@jupyter-widgets/controls",
          "model_name": "HTMLModel",
          "model_module_version": "1.5.0",
          "state": {
            "_view_name": "HTMLView",
            "style": "IPY_MODEL_eb64344859fe4f24aeaa6aaffc1b4e5a",
            "_dom_classes": [],
            "description": "",
            "_model_name": "HTMLModel",
            "placeholder": "​",
            "_view_module": "@jupyter-widgets/controls",
            "_model_module_version": "1.5.0",
            "value": "100%",
            "_view_count": null,
            "_view_module_version": "1.5.0",
            "description_tooltip": null,
            "_model_module": "@jupyter-widgets/controls",
            "layout": "IPY_MODEL_6f246a090246406f9cd48f29068cce5e"
          }
        },
        "7e80f8b735d8444a97e748d38fd1e590": {
          "model_module": "@jupyter-widgets/controls",
          "model_name": "FloatProgressModel",
          "model_module_version": "1.5.0",
          "state": {
            "_view_name": "ProgressView",
            "style": "IPY_MODEL_556e402547224d96b2bf9e9e4528531a",
            "_dom_classes": [],
            "description": "",
            "_model_name": "FloatProgressModel",
            "bar_style": "danger",
            "max": 1803,
            "_view_module": "@jupyter-widgets/controls",
            "_model_module_version": "1.5.0",
            "value": 1802,
            "_view_count": null,
            "_view_module_version": "1.5.0",
            "orientation": "horizontal",
            "min": 0,
            "description_tooltip": null,
            "_model_module": "@jupyter-widgets/controls",
            "layout": "IPY_MODEL_255737f3593a47a0ae1f3514d0054f4c"
          }
        },
        "27be4eda63344846b5e678079f5f2517": {
          "model_module": "@jupyter-widgets/controls",
          "model_name": "HTMLModel",
          "model_module_version": "1.5.0",
          "state": {
            "_view_name": "HTMLView",
            "style": "IPY_MODEL_65701b601c7c4eceb328ba95a0b22cd5",
            "_dom_classes": [],
            "description": "",
            "_model_name": "HTMLModel",
            "placeholder": "​",
            "_view_module": "@jupyter-widgets/controls",
            "_model_module_version": "1.5.0",
            "value": " 1802/1803 [00:00&lt;00:00, 29695.88 examples/s]",
            "_view_count": null,
            "_view_module_version": "1.5.0",
            "description_tooltip": null,
            "_model_module": "@jupyter-widgets/controls",
            "layout": "IPY_MODEL_946cab234b25417db196ac98c0394d9d"
          }
        },
        "eb64344859fe4f24aeaa6aaffc1b4e5a": {
          "model_module": "@jupyter-widgets/controls",
          "model_name": "DescriptionStyleModel",
          "model_module_version": "1.5.0",
          "state": {
            "_view_name": "StyleView",
            "_model_name": "DescriptionStyleModel",
            "description_width": "",
            "_view_module": "@jupyter-widgets/base",
            "_model_module_version": "1.5.0",
            "_view_count": null,
            "_view_module_version": "1.2.0",
            "_model_module": "@jupyter-widgets/controls"
          }
        },
        "6f246a090246406f9cd48f29068cce5e": {
          "model_module": "@jupyter-widgets/base",
          "model_name": "LayoutModel",
          "model_module_version": "1.2.0",
          "state": {
            "_view_name": "LayoutView",
            "grid_template_rows": null,
            "right": null,
            "justify_content": null,
            "_view_module": "@jupyter-widgets/base",
            "overflow": null,
            "_model_module_version": "1.2.0",
            "_view_count": null,
            "flex_flow": null,
            "width": null,
            "min_width": null,
            "border": null,
            "align_items": null,
            "bottom": null,
            "_model_module": "@jupyter-widgets/base",
            "top": null,
            "grid_column": null,
            "overflow_y": null,
            "overflow_x": null,
            "grid_auto_flow": null,
            "grid_area": null,
            "grid_template_columns": null,
            "flex": null,
            "_model_name": "LayoutModel",
            "justify_items": null,
            "grid_row": null,
            "max_height": null,
            "align_content": null,
            "visibility": null,
            "align_self": null,
            "height": null,
            "min_height": null,
            "padding": null,
            "grid_auto_rows": null,
            "grid_gap": null,
            "max_width": null,
            "order": null,
            "_view_module_version": "1.2.0",
            "grid_template_areas": null,
            "object_position": null,
            "object_fit": null,
            "grid_auto_columns": null,
            "margin": null,
            "display": null,
            "left": null
          }
        },
        "556e402547224d96b2bf9e9e4528531a": {
          "model_module": "@jupyter-widgets/controls",
          "model_name": "ProgressStyleModel",
          "model_module_version": "1.5.0",
          "state": {
            "_view_name": "StyleView",
            "_model_name": "ProgressStyleModel",
            "description_width": "",
            "_view_module": "@jupyter-widgets/base",
            "_model_module_version": "1.5.0",
            "_view_count": null,
            "_view_module_version": "1.2.0",
            "bar_color": null,
            "_model_module": "@jupyter-widgets/controls"
          }
        },
        "255737f3593a47a0ae1f3514d0054f4c": {
          "model_module": "@jupyter-widgets/base",
          "model_name": "LayoutModel",
          "model_module_version": "1.2.0",
          "state": {
            "_view_name": "LayoutView",
            "grid_template_rows": null,
            "right": null,
            "justify_content": null,
            "_view_module": "@jupyter-widgets/base",
            "overflow": null,
            "_model_module_version": "1.2.0",
            "_view_count": null,
            "flex_flow": null,
            "width": null,
            "min_width": null,
            "border": null,
            "align_items": null,
            "bottom": null,
            "_model_module": "@jupyter-widgets/base",
            "top": null,
            "grid_column": null,
            "overflow_y": null,
            "overflow_x": null,
            "grid_auto_flow": null,
            "grid_area": null,
            "grid_template_columns": null,
            "flex": null,
            "_model_name": "LayoutModel",
            "justify_items": null,
            "grid_row": null,
            "max_height": null,
            "align_content": null,
            "visibility": null,
            "align_self": null,
            "height": null,
            "min_height": null,
            "padding": null,
            "grid_auto_rows": null,
            "grid_gap": null,
            "max_width": null,
            "order": null,
            "_view_module_version": "1.2.0",
            "grid_template_areas": null,
            "object_position": null,
            "object_fit": null,
            "grid_auto_columns": null,
            "margin": null,
            "display": null,
            "left": null
          }
        },
        "65701b601c7c4eceb328ba95a0b22cd5": {
          "model_module": "@jupyter-widgets/controls",
          "model_name": "DescriptionStyleModel",
          "model_module_version": "1.5.0",
          "state": {
            "_view_name": "StyleView",
            "_model_name": "DescriptionStyleModel",
            "description_width": "",
            "_view_module": "@jupyter-widgets/base",
            "_model_module_version": "1.5.0",
            "_view_count": null,
            "_view_module_version": "1.2.0",
            "_model_module": "@jupyter-widgets/controls"
          }
        },
        "946cab234b25417db196ac98c0394d9d": {
          "model_module": "@jupyter-widgets/base",
          "model_name": "LayoutModel",
          "model_module_version": "1.2.0",
          "state": {
            "_view_name": "LayoutView",
            "grid_template_rows": null,
            "right": null,
            "justify_content": null,
            "_view_module": "@jupyter-widgets/base",
            "overflow": null,
            "_model_module_version": "1.2.0",
            "_view_count": null,
            "flex_flow": null,
            "width": null,
            "min_width": null,
            "border": null,
            "align_items": null,
            "bottom": null,
            "_model_module": "@jupyter-widgets/base",
            "top": null,
            "grid_column": null,
            "overflow_y": null,
            "overflow_x": null,
            "grid_auto_flow": null,
            "grid_area": null,
            "grid_template_columns": null,
            "flex": null,
            "_model_name": "LayoutModel",
            "justify_items": null,
            "grid_row": null,
            "max_height": null,
            "align_content": null,
            "visibility": null,
            "align_self": null,
            "height": null,
            "min_height": null,
            "padding": null,
            "grid_auto_rows": null,
            "grid_gap": null,
            "max_width": null,
            "order": null,
            "_view_module_version": "1.2.0",
            "grid_template_areas": null,
            "object_position": null,
            "object_fit": null,
            "grid_auto_columns": null,
            "margin": null,
            "display": null,
            "left": null
          }
        }
      }
    }
  },
  "cells": [
    {
      "cell_type": "markdown",
      "metadata": {
        "id": "Qg3CdrjWloGA"
      },
      "source": [
        "# Transformer Model for Language Understanding\n",
        "\n",
        "We will build a Transformer model to translate Portugese to English.\n",
        "\n",
        "The core idea behind Transformer models is *self-attention* - the ability to attend to different positions of the input sequence to compute a representation of that sequence. Transformer models create stacks of self-attention layers instead of RNNs or CNNs.\n",
        "\n",
        "This approach has the following advantages:\n",
        "- No assumptions about the temporal/spatial relationships of the data are required\n",
        "- Layer outputs can be calculated in parallel\n",
        "- Distant items can affect each other's inputs without passing through many RNN steps or convolution layers.\n",
        "- It can learn long-range dependencies\n",
        "\n"
      ]
    },
    {
      "cell_type": "markdown",
      "metadata": {
        "id": "ia96nWKfpHKr"
      },
      "source": [
        "### Setup"
      ]
    },
    {
      "cell_type": "code",
      "metadata": {
        "colab": {
          "base_uri": "https://localhost:8080/"
        },
        "id": "OlDVqfaRlhzo",
        "outputId": "5feaedb6-3278-40da-e26c-f74aacd07939"
      },
      "source": [
        "!pip install tensorflow_datasets\n",
        "!pip install -U tensorflow-text"
      ],
      "execution_count": 1,
      "outputs": [
        {
          "output_type": "stream",
          "name": "stdout",
          "text": [
            "Requirement already satisfied: tensorflow_datasets in /usr/local/lib/python3.7/dist-packages (4.0.1)\n",
            "Requirement already satisfied: protobuf>=3.6.1 in /usr/local/lib/python3.7/dist-packages (from tensorflow_datasets) (3.17.3)\n",
            "Requirement already satisfied: termcolor in /usr/local/lib/python3.7/dist-packages (from tensorflow_datasets) (1.1.0)\n",
            "Requirement already satisfied: six in /usr/local/lib/python3.7/dist-packages (from tensorflow_datasets) (1.15.0)\n",
            "Requirement already satisfied: dm-tree in /usr/local/lib/python3.7/dist-packages (from tensorflow_datasets) (0.1.6)\n",
            "Requirement already satisfied: tqdm in /usr/local/lib/python3.7/dist-packages (from tensorflow_datasets) (4.62.0)\n",
            "Requirement already satisfied: attrs>=18.1.0 in /usr/local/lib/python3.7/dist-packages (from tensorflow_datasets) (21.2.0)\n",
            "Requirement already satisfied: requests>=2.19.0 in /usr/local/lib/python3.7/dist-packages (from tensorflow_datasets) (2.23.0)\n",
            "Requirement already satisfied: numpy in /usr/local/lib/python3.7/dist-packages (from tensorflow_datasets) (1.19.5)\n",
            "Requirement already satisfied: dill in /usr/local/lib/python3.7/dist-packages (from tensorflow_datasets) (0.3.4)\n",
            "Requirement already satisfied: future in /usr/local/lib/python3.7/dist-packages (from tensorflow_datasets) (0.16.0)\n",
            "Requirement already satisfied: importlib-resources in /usr/local/lib/python3.7/dist-packages (from tensorflow_datasets) (5.2.2)\n",
            "Requirement already satisfied: tensorflow-metadata in /usr/local/lib/python3.7/dist-packages (from tensorflow_datasets) (1.2.0)\n",
            "Requirement already satisfied: promise in /usr/local/lib/python3.7/dist-packages (from tensorflow_datasets) (2.3)\n",
            "Requirement already satisfied: absl-py in /usr/local/lib/python3.7/dist-packages (from tensorflow_datasets) (0.12.0)\n",
            "Requirement already satisfied: certifi>=2017.4.17 in /usr/local/lib/python3.7/dist-packages (from requests>=2.19.0->tensorflow_datasets) (2021.5.30)\n",
            "Requirement already satisfied: urllib3!=1.25.0,!=1.25.1,<1.26,>=1.21.1 in /usr/local/lib/python3.7/dist-packages (from requests>=2.19.0->tensorflow_datasets) (1.24.3)\n",
            "Requirement already satisfied: idna<3,>=2.5 in /usr/local/lib/python3.7/dist-packages (from requests>=2.19.0->tensorflow_datasets) (2.10)\n",
            "Requirement already satisfied: chardet<4,>=3.0.2 in /usr/local/lib/python3.7/dist-packages (from requests>=2.19.0->tensorflow_datasets) (3.0.4)\n",
            "Requirement already satisfied: zipp>=3.1.0 in /usr/local/lib/python3.7/dist-packages (from importlib-resources->tensorflow_datasets) (3.5.0)\n",
            "Requirement already satisfied: googleapis-common-protos<2,>=1.52.0 in /usr/local/lib/python3.7/dist-packages (from tensorflow-metadata->tensorflow_datasets) (1.53.0)\n",
            "Collecting tensorflow-text\n",
            "  Downloading tensorflow_text-2.6.0-cp37-cp37m-manylinux1_x86_64.whl (4.4 MB)\n",
            "\u001b[K     |████████████████████████████████| 4.4 MB 5.3 MB/s \n",
            "\u001b[?25hRequirement already satisfied: tensorflow<2.7,>=2.6.0 in /usr/local/lib/python3.7/dist-packages (from tensorflow-text) (2.6.0)\n",
            "Requirement already satisfied: tensorflow-hub>=0.8.0 in /usr/local/lib/python3.7/dist-packages (from tensorflow-text) (0.12.0)\n",
            "Requirement already satisfied: gast==0.4.0 in /usr/local/lib/python3.7/dist-packages (from tensorflow<2.7,>=2.6.0->tensorflow-text) (0.4.0)\n",
            "Requirement already satisfied: google-pasta~=0.2 in /usr/local/lib/python3.7/dist-packages (from tensorflow<2.7,>=2.6.0->tensorflow-text) (0.2.0)\n",
            "Requirement already satisfied: keras-preprocessing~=1.1.2 in /usr/local/lib/python3.7/dist-packages (from tensorflow<2.7,>=2.6.0->tensorflow-text) (1.1.2)\n",
            "Requirement already satisfied: keras~=2.6 in /usr/local/lib/python3.7/dist-packages (from tensorflow<2.7,>=2.6.0->tensorflow-text) (2.6.0)\n",
            "Requirement already satisfied: tensorflow-estimator~=2.6 in /usr/local/lib/python3.7/dist-packages (from tensorflow<2.7,>=2.6.0->tensorflow-text) (2.6.0)\n",
            "Requirement already satisfied: wheel~=0.35 in /usr/local/lib/python3.7/dist-packages (from tensorflow<2.7,>=2.6.0->tensorflow-text) (0.37.0)\n",
            "Requirement already satisfied: numpy~=1.19.2 in /usr/local/lib/python3.7/dist-packages (from tensorflow<2.7,>=2.6.0->tensorflow-text) (1.19.5)\n",
            "Requirement already satisfied: astunparse~=1.6.3 in /usr/local/lib/python3.7/dist-packages (from tensorflow<2.7,>=2.6.0->tensorflow-text) (1.6.3)\n",
            "Requirement already satisfied: typing-extensions~=3.7.4 in /usr/local/lib/python3.7/dist-packages (from tensorflow<2.7,>=2.6.0->tensorflow-text) (3.7.4.3)\n",
            "Requirement already satisfied: flatbuffers~=1.12.0 in /usr/local/lib/python3.7/dist-packages (from tensorflow<2.7,>=2.6.0->tensorflow-text) (1.12)\n",
            "Requirement already satisfied: protobuf>=3.9.2 in /usr/local/lib/python3.7/dist-packages (from tensorflow<2.7,>=2.6.0->tensorflow-text) (3.17.3)\n",
            "Requirement already satisfied: tensorboard~=2.6 in /usr/local/lib/python3.7/dist-packages (from tensorflow<2.7,>=2.6.0->tensorflow-text) (2.6.0)\n",
            "Requirement already satisfied: clang~=5.0 in /usr/local/lib/python3.7/dist-packages (from tensorflow<2.7,>=2.6.0->tensorflow-text) (5.0)\n",
            "Requirement already satisfied: termcolor~=1.1.0 in /usr/local/lib/python3.7/dist-packages (from tensorflow<2.7,>=2.6.0->tensorflow-text) (1.1.0)\n",
            "Requirement already satisfied: h5py~=3.1.0 in /usr/local/lib/python3.7/dist-packages (from tensorflow<2.7,>=2.6.0->tensorflow-text) (3.1.0)\n",
            "Requirement already satisfied: absl-py~=0.10 in /usr/local/lib/python3.7/dist-packages (from tensorflow<2.7,>=2.6.0->tensorflow-text) (0.12.0)\n",
            "Requirement already satisfied: opt-einsum~=3.3.0 in /usr/local/lib/python3.7/dist-packages (from tensorflow<2.7,>=2.6.0->tensorflow-text) (3.3.0)\n",
            "Requirement already satisfied: grpcio<2.0,>=1.37.0 in /usr/local/lib/python3.7/dist-packages (from tensorflow<2.7,>=2.6.0->tensorflow-text) (1.39.0)\n",
            "Requirement already satisfied: wrapt~=1.12.1 in /usr/local/lib/python3.7/dist-packages (from tensorflow<2.7,>=2.6.0->tensorflow-text) (1.12.1)\n",
            "Requirement already satisfied: six~=1.15.0 in /usr/local/lib/python3.7/dist-packages (from tensorflow<2.7,>=2.6.0->tensorflow-text) (1.15.0)\n",
            "Requirement already satisfied: cached-property in /usr/local/lib/python3.7/dist-packages (from h5py~=3.1.0->tensorflow<2.7,>=2.6.0->tensorflow-text) (1.5.2)\n",
            "Requirement already satisfied: werkzeug>=0.11.15 in /usr/local/lib/python3.7/dist-packages (from tensorboard~=2.6->tensorflow<2.7,>=2.6.0->tensorflow-text) (1.0.1)\n",
            "Requirement already satisfied: requests<3,>=2.21.0 in /usr/local/lib/python3.7/dist-packages (from tensorboard~=2.6->tensorflow<2.7,>=2.6.0->tensorflow-text) (2.23.0)\n",
            "Requirement already satisfied: google-auth-oauthlib<0.5,>=0.4.1 in /usr/local/lib/python3.7/dist-packages (from tensorboard~=2.6->tensorflow<2.7,>=2.6.0->tensorflow-text) (0.4.5)\n",
            "Requirement already satisfied: setuptools>=41.0.0 in /usr/local/lib/python3.7/dist-packages (from tensorboard~=2.6->tensorflow<2.7,>=2.6.0->tensorflow-text) (57.4.0)\n",
            "Requirement already satisfied: google-auth<2,>=1.6.3 in /usr/local/lib/python3.7/dist-packages (from tensorboard~=2.6->tensorflow<2.7,>=2.6.0->tensorflow-text) (1.34.0)\n",
            "Requirement already satisfied: tensorboard-plugin-wit>=1.6.0 in /usr/local/lib/python3.7/dist-packages (from tensorboard~=2.6->tensorflow<2.7,>=2.6.0->tensorflow-text) (1.8.0)\n",
            "Requirement already satisfied: tensorboard-data-server<0.7.0,>=0.6.0 in /usr/local/lib/python3.7/dist-packages (from tensorboard~=2.6->tensorflow<2.7,>=2.6.0->tensorflow-text) (0.6.1)\n",
            "Requirement already satisfied: markdown>=2.6.8 in /usr/local/lib/python3.7/dist-packages (from tensorboard~=2.6->tensorflow<2.7,>=2.6.0->tensorflow-text) (3.3.4)\n",
            "Requirement already satisfied: rsa<5,>=3.1.4 in /usr/local/lib/python3.7/dist-packages (from google-auth<2,>=1.6.3->tensorboard~=2.6->tensorflow<2.7,>=2.6.0->tensorflow-text) (4.7.2)\n",
            "Requirement already satisfied: cachetools<5.0,>=2.0.0 in /usr/local/lib/python3.7/dist-packages (from google-auth<2,>=1.6.3->tensorboard~=2.6->tensorflow<2.7,>=2.6.0->tensorflow-text) (4.2.2)\n",
            "Requirement already satisfied: pyasn1-modules>=0.2.1 in /usr/local/lib/python3.7/dist-packages (from google-auth<2,>=1.6.3->tensorboard~=2.6->tensorflow<2.7,>=2.6.0->tensorflow-text) (0.2.8)\n",
            "Requirement already satisfied: requests-oauthlib>=0.7.0 in /usr/local/lib/python3.7/dist-packages (from google-auth-oauthlib<0.5,>=0.4.1->tensorboard~=2.6->tensorflow<2.7,>=2.6.0->tensorflow-text) (1.3.0)\n",
            "Requirement already satisfied: importlib-metadata in /usr/local/lib/python3.7/dist-packages (from markdown>=2.6.8->tensorboard~=2.6->tensorflow<2.7,>=2.6.0->tensorflow-text) (4.6.4)\n",
            "Requirement already satisfied: pyasn1<0.5.0,>=0.4.6 in /usr/local/lib/python3.7/dist-packages (from pyasn1-modules>=0.2.1->google-auth<2,>=1.6.3->tensorboard~=2.6->tensorflow<2.7,>=2.6.0->tensorflow-text) (0.4.8)\n",
            "Requirement already satisfied: idna<3,>=2.5 in /usr/local/lib/python3.7/dist-packages (from requests<3,>=2.21.0->tensorboard~=2.6->tensorflow<2.7,>=2.6.0->tensorflow-text) (2.10)\n",
            "Requirement already satisfied: chardet<4,>=3.0.2 in /usr/local/lib/python3.7/dist-packages (from requests<3,>=2.21.0->tensorboard~=2.6->tensorflow<2.7,>=2.6.0->tensorflow-text) (3.0.4)\n",
            "Requirement already satisfied: certifi>=2017.4.17 in /usr/local/lib/python3.7/dist-packages (from requests<3,>=2.21.0->tensorboard~=2.6->tensorflow<2.7,>=2.6.0->tensorflow-text) (2021.5.30)\n",
            "Requirement already satisfied: urllib3!=1.25.0,!=1.25.1,<1.26,>=1.21.1 in /usr/local/lib/python3.7/dist-packages (from requests<3,>=2.21.0->tensorboard~=2.6->tensorflow<2.7,>=2.6.0->tensorflow-text) (1.24.3)\n",
            "Requirement already satisfied: oauthlib>=3.0.0 in /usr/local/lib/python3.7/dist-packages (from requests-oauthlib>=0.7.0->google-auth-oauthlib<0.5,>=0.4.1->tensorboard~=2.6->tensorflow<2.7,>=2.6.0->tensorflow-text) (3.1.1)\n",
            "Requirement already satisfied: zipp>=0.5 in /usr/local/lib/python3.7/dist-packages (from importlib-metadata->markdown>=2.6.8->tensorboard~=2.6->tensorflow<2.7,>=2.6.0->tensorflow-text) (3.5.0)\n",
            "Installing collected packages: tensorflow-text\n",
            "Successfully installed tensorflow-text-2.6.0\n"
          ]
        }
      ]
    },
    {
      "cell_type": "code",
      "metadata": {
        "id": "w5W8utr4pKYg"
      },
      "source": [
        "import collections\n",
        "import logging\n",
        "import os\n",
        "import pathlib\n",
        "import re\n",
        "import string\n",
        "import sys\n",
        "import time\n",
        "\n",
        "import numpy as np\n",
        "import matplotlib.pyplot as plt\n",
        "\n",
        "import tensorflow_datasets as tfds\n",
        "import tensorflow_text as text\n",
        "import tensorflow as tf"
      ],
      "execution_count": 2,
      "outputs": []
    },
    {
      "cell_type": "code",
      "metadata": {
        "id": "gnLhElnOpL5r"
      },
      "source": [
        "logging.getLogger('tensorflow').setLevel(logging.ERROR)  # suppress warnings"
      ],
      "execution_count": 3,
      "outputs": []
    },
    {
      "cell_type": "markdown",
      "metadata": {
        "id": "koaTYkoWpY3d"
      },
      "source": [
        "### Dataset\n",
        "\n",
        "We will be using the [Portuguese-English translation dataset](https://github.com/neulab/word-embeddings-for-nmt) from the [TED Talks Open Translation Project](https://www.ted.com/participate/translate). The dataset contains about 50000 training examples, 1100 validation examples and 2000 test examples"
      ]
    },
    {
      "cell_type": "code",
      "metadata": {
        "colab": {
          "base_uri": "https://localhost:8080/",
          "height": 367,
          "referenced_widgets": [
            "16753f7c91bc4d90ace2425620d0fac4",
            "0eb0abc530a144a59192b423568435ac",
            "1a0e7beea1884dc2a58b7f9a329101ec",
            "03ae45a55ce04e81824e0932882b9f36",
            "f9e5393ee97f420fa9f849d2935b4f00",
            "f127e2c4e3c7405f9a0df0fc86627dd0",
            "bd055b60db114f1b9c3aa1025a7b88da",
            "202082b5107245b4a5457e1174a1b846",
            "a81948fbff754d3fb622cec255cc8d3d",
            "fac6d5b94c6744a5a5c6b25f08b33d6e",
            "04ab0104bff34b84b8de575beb339d59",
            "0f0d46832638469487cf137774f153a2",
            "ebf62ac1d6044678ad7af08ae9c44fe5",
            "53facc828a4543de82a7cd570e2f67c5",
            "7c26b49696e44498bcae660237126f87",
            "e245ee05ff8f400bb386f80bb87d1b31",
            "8406ab80e7f14c238d2fd40d3e8bc53f",
            "0e04f804f7e943d3a4aa9c56b6c27d04",
            "420e7b34ca99405488f33338efeddac2",
            "6c4198d5c7ab4845a00206e52d353efb",
            "367e44a03b444abdbd1699f0d284cd2c",
            "f710353e960d4968a116def3f4039e0b",
            "71c447ca718c4d128275a2457e2e6bef",
            "7597fae2bfcd4dafb1224b72826167f1",
            "a7963673647c4b73a1d7a4bb384b2735",
            "5dda6656eadc4386ba9e7b06ddb2ff95",
            "62fbaf730d4f49d195b9387b947e5ccb",
            "ee332d02605e4177ac413f58c0fa8867",
            "992d062423ea42c18d38bcee07da5b9e",
            "912a751852a74059a15c71564d510c80",
            "08619a74f1ab4e9cbec22fa38a771f3f",
            "0894695b49904f1386fb8a05b2f8cfe7",
            "ad016715bb234a0b8e998d4d08b78985",
            "429f6c22f67f4328ac4d745f50c0bc3c",
            "5830b6d25aeb41b59d91a54c71f30e55",
            "52ef71873bb3450091127825dfb7dfea",
            "8b2b548522af4435adc5f9d0c2a4ff38",
            "3557f61bb7e84febba0a9d003827d3e4",
            "7718c8cbc6854e29a73ca98eb1114728",
            "8b36d30b558e4bc8b0ef891037adf21d",
            "799c176f26cd45fc9e1bc12bcce3f979",
            "f484d3d3637f489ab6486561054ae36c",
            "0ae46ab11b4f4382bdfda0f86e754742",
            "fa219f8d342e4a1d9e74f9fbefdba5ad",
            "cead874275994f86882ef02eb28f2bc9",
            "84fcfb9d40a94bd08fef7cd1dbb0ea35",
            "9981fa8e04834767b947082257d5a5c9",
            "d77a52da141d43218f89236628cc1875",
            "a126f5bd85604323916f5e498fdaf372",
            "0fc6b972c9a44267a12f5b2f7e9a2b3e",
            "1fc17b7eca9946cb9153f7e24efe7dfe",
            "6af81bac5f4c4d05ac776a425114e4d1",
            "ec12c9cc4a5140ec9ebd2d606911a263",
            "a13dd4c7a43348dea56354eb0b7312aa",
            "9f285221ed214e96a2efc1d7220ea031",
            "e920d6a69aa246cda03df23f89ac7ca3",
            "530d1a2d91084c5eb0bba93ef9858735",
            "8bbb821a64884e6c9e499a2ea02bf207",
            "cb77049f59654e6b9af169c4e0dfee66",
            "c49c7678f4404a8a97088422f79e926e",
            "3b1a21269c2645a886053fde3888c5d6",
            "256cc0074c794a998fb3043bf24b8bf5",
            "321f8aef43874426a01aa5ba1cf9721f",
            "824d315c8a1746c7b40eb7af5bde9aff",
            "6384d5cfdbc04efe8035db7aaf088030",
            "35847d8724b64243a863bf7fc22a7469",
            "849984e37d8c4b749f1ed96b24c76011",
            "c64d1ae72eda45cf8af4210a986908fd",
            "3bfa07b9c5e04bf3a9d89205aed60a13",
            "b5a22b59b0e9417187048037d3b67a59",
            "acfa6331e6664a019d14fb3789b36275",
            "4fed5023e584452ab47b7370534a945e",
            "77af4e1deb40447aa17b2353d899abc4",
            "2b6237a5187d4859a27988b40e166657",
            "9407ce9a208e4762be9de3d1dbd26362",
            "45d5e501cff64d12824c8bef6b2e677c",
            "c343597483ab41daad271c28aefcadc6",
            "e5a5cce35e6e49f3bfd22307b26d060e",
            "c9133535861249fca461dfd590c49baa",
            "5462d0d179c44e5c83f9938d49a41a35",
            "d49cb112860c4cb599f1973aadb46ac4",
            "dbec97768af84913b94ceb45adb3e2ef",
            "205309a901614f8980eddba44adac677",
            "6f8270e64ad74e449c9380d57c4e8cc9",
            "6ace170906354fc192d4be373f8eb371",
            "16e85358dca04486944d17492f856ab2",
            "e67aa0aa7c4242dcb28bca6ad402459f",
            "dbe41669eb714a8cacca3389f958dd87",
            "96ad130961814db69a9cb6bba3f2d6e9",
            "589302f494b14772818f0b12210a2f6e",
            "bbdc42c0c11143bfbd3e950d4fe72e98",
            "7e80f8b735d8444a97e748d38fd1e590",
            "27be4eda63344846b5e678079f5f2517",
            "eb64344859fe4f24aeaa6aaffc1b4e5a",
            "6f246a090246406f9cd48f29068cce5e",
            "556e402547224d96b2bf9e9e4528531a",
            "255737f3593a47a0ae1f3514d0054f4c",
            "65701b601c7c4eceb328ba95a0b22cd5",
            "946cab234b25417db196ac98c0394d9d"
          ]
        },
        "id": "-CzLJmLppyIX",
        "outputId": "b0b7e19a-1ca7-488c-b641-fc9786164cfe"
      },
      "source": [
        "examples, metadata = tfds.load('ted_hrlr_translate/pt_to_en', with_info=True,\n",
        "                               as_supervised=True)\n",
        "train_examples, val_examples = examples['train'], examples['validation']"
      ],
      "execution_count": 4,
      "outputs": [
        {
          "output_type": "stream",
          "name": "stdout",
          "text": [
            "\u001b[1mDownloading and preparing dataset ted_hrlr_translate/pt_to_en/1.0.0 (download: 124.94 MiB, generated: Unknown size, total: 124.94 MiB) to /root/tensorflow_datasets/ted_hrlr_translate/pt_to_en/1.0.0...\u001b[0m\n"
          ]
        },
        {
          "output_type": "display_data",
          "data": {
            "application/vnd.jupyter.widget-view+json": {
              "model_id": "16753f7c91bc4d90ace2425620d0fac4",
              "version_minor": 0,
              "version_major": 2
            },
            "text/plain": [
              "Dl Completed...: 0 url [00:00, ? url/s]"
            ]
          },
          "metadata": {}
        },
        {
          "output_type": "display_data",
          "data": {
            "application/vnd.jupyter.widget-view+json": {
              "model_id": "0f0d46832638469487cf137774f153a2",
              "version_minor": 0,
              "version_major": 2
            },
            "text/plain": [
              "Dl Size...: 0 MiB [00:00, ? MiB/s]"
            ]
          },
          "metadata": {}
        },
        {
          "output_type": "display_data",
          "data": {
            "application/vnd.jupyter.widget-view+json": {
              "model_id": "71c447ca718c4d128275a2457e2e6bef",
              "version_minor": 0,
              "version_major": 2
            },
            "text/plain": [
              "Extraction completed...: 0 file [00:00, ? file/s]"
            ]
          },
          "metadata": {}
        },
        {
          "output_type": "stream",
          "name": "stdout",
          "text": [
            "\n",
            "\n",
            "\n"
          ]
        },
        {
          "output_type": "display_data",
          "data": {
            "application/vnd.jupyter.widget-view+json": {
              "model_id": "429f6c22f67f4328ac4d745f50c0bc3c",
              "version_minor": 0,
              "version_major": 2
            },
            "text/plain": [
              "0 examples [00:00, ? examples/s]"
            ]
          },
          "metadata": {}
        },
        {
          "output_type": "stream",
          "name": "stdout",
          "text": [
            "Shuffling and writing examples to /root/tensorflow_datasets/ted_hrlr_translate/pt_to_en/1.0.0.incompletePRO7WE/ted_hrlr_translate-train.tfrecord\n"
          ]
        },
        {
          "output_type": "display_data",
          "data": {
            "application/vnd.jupyter.widget-view+json": {
              "model_id": "cead874275994f86882ef02eb28f2bc9",
              "version_minor": 0,
              "version_major": 2
            },
            "text/plain": [
              "  0%|          | 0/51785 [00:00<?, ? examples/s]"
            ]
          },
          "metadata": {}
        },
        {
          "output_type": "display_data",
          "data": {
            "application/vnd.jupyter.widget-view+json": {
              "model_id": "e920d6a69aa246cda03df23f89ac7ca3",
              "version_minor": 0,
              "version_major": 2
            },
            "text/plain": [
              "0 examples [00:00, ? examples/s]"
            ]
          },
          "metadata": {}
        },
        {
          "output_type": "stream",
          "name": "stdout",
          "text": [
            "Shuffling and writing examples to /root/tensorflow_datasets/ted_hrlr_translate/pt_to_en/1.0.0.incompletePRO7WE/ted_hrlr_translate-validation.tfrecord\n"
          ]
        },
        {
          "output_type": "display_data",
          "data": {
            "application/vnd.jupyter.widget-view+json": {
              "model_id": "849984e37d8c4b749f1ed96b24c76011",
              "version_minor": 0,
              "version_major": 2
            },
            "text/plain": [
              "  0%|          | 0/1193 [00:00<?, ? examples/s]"
            ]
          },
          "metadata": {}
        },
        {
          "output_type": "display_data",
          "data": {
            "application/vnd.jupyter.widget-view+json": {
              "model_id": "e5a5cce35e6e49f3bfd22307b26d060e",
              "version_minor": 0,
              "version_major": 2
            },
            "text/plain": [
              "0 examples [00:00, ? examples/s]"
            ]
          },
          "metadata": {}
        },
        {
          "output_type": "stream",
          "name": "stdout",
          "text": [
            "Shuffling and writing examples to /root/tensorflow_datasets/ted_hrlr_translate/pt_to_en/1.0.0.incompletePRO7WE/ted_hrlr_translate-test.tfrecord\n"
          ]
        },
        {
          "output_type": "display_data",
          "data": {
            "application/vnd.jupyter.widget-view+json": {
              "model_id": "96ad130961814db69a9cb6bba3f2d6e9",
              "version_minor": 0,
              "version_major": 2
            },
            "text/plain": [
              "  0%|          | 0/1803 [00:00<?, ? examples/s]"
            ]
          },
          "metadata": {}
        },
        {
          "output_type": "stream",
          "name": "stdout",
          "text": [
            "\u001b[1mDataset ted_hrlr_translate downloaded and prepared to /root/tensorflow_datasets/ted_hrlr_translate/pt_to_en/1.0.0. Subsequent calls will reuse this data.\u001b[0m\n"
          ]
        }
      ]
    },
    {
      "cell_type": "markdown",
      "metadata": {
        "id": "R7WyRN1xp-No"
      },
      "source": [
        "### Text Tokenization and Detokenization\n",
        "\n",
        "We use the pretrained subword tokenizer that uses an BERT tokenizer optimized for this dataset:"
      ]
    },
    {
      "cell_type": "code",
      "metadata": {
        "colab": {
          "base_uri": "https://localhost:8080/",
          "height": 87
        },
        "id": "Yrd-h2nRqi2y",
        "outputId": "5a0e0297-a8c8-4995-8a58-6dcad7b7f409"
      },
      "source": [
        "model_name = \"ted_hrlr_translate_pt_en_converter\"\n",
        "tf.keras.utils.get_file(\n",
        "    f\"{model_name}.zip\",\n",
        "    f\"https://storage.googleapis.com/download.tensorflow.org/models/{model_name}.zip\",\n",
        "    cache_dir='.', cache_subdir='', extract=True\n",
        ")"
      ],
      "execution_count": 5,
      "outputs": [
        {
          "output_type": "stream",
          "name": "stdout",
          "text": [
            "Downloading data from https://storage.googleapis.com/download.tensorflow.org/models/ted_hrlr_translate_pt_en_converter.zip\n",
            "188416/184801 [==============================] - 0s 0us/step\n",
            "196608/184801 [===============================] - 0s 0us/step\n"
          ]
        },
        {
          "output_type": "execute_result",
          "data": {
            "application/vnd.google.colaboratory.intrinsic+json": {
              "type": "string"
            },
            "text/plain": [
              "'./ted_hrlr_translate_pt_en_converter.zip'"
            ]
          },
          "metadata": {},
          "execution_count": 5
        }
      ]
    },
    {
      "cell_type": "code",
      "metadata": {
        "id": "fbj8nHovr7uk"
      },
      "source": [
        "#tokenizers contains both the english and portugese tokenizer,\n",
        "# with tokenize, detokenize and lookup methods\n",
        "tokenizers = tf.saved_model.load(model_name)"
      ],
      "execution_count": 6,
      "outputs": []
    },
    {
      "cell_type": "markdown",
      "metadata": {
        "id": "GCODcwwir5Hb"
      },
      "source": [
        "### Input Pipeline"
      ]
    },
    {
      "cell_type": "markdown",
      "metadata": {
        "id": "pfVEnFuUts62"
      },
      "source": [
        "Helper function to encode batches of raw text:"
      ]
    },
    {
      "cell_type": "code",
      "metadata": {
        "id": "LHEe_kVTt0aa"
      },
      "source": [
        "def tokenize_pairs(pt, en):\n",
        "    pt = tokenizers.pt.tokenize(pt)\n",
        "    # Convert from ragged to dense, padding with zeros.\n",
        "    pt = pt.to_tensor()\n",
        "    en = tokenizers.en.tokenize(en)\n",
        "    # Convert from ragged to dense, padding with zeros.\n",
        "    en = en.to_tensor()\n",
        "    return pt, en"
      ],
      "execution_count": 7,
      "outputs": []
    },
    {
      "cell_type": "code",
      "metadata": {
        "id": "jY92gvDduKdt"
      },
      "source": [
        "#constants\n",
        "BUFFER_SIZE = 20000\n",
        "BATCH_SIZE = 64"
      ],
      "execution_count": 8,
      "outputs": []
    },
    {
      "cell_type": "markdown",
      "metadata": {
        "id": "YPZ3dRHQuZml"
      },
      "source": [
        "Helper function to preprocess batches. Then preprocess data:"
      ]
    },
    {
      "cell_type": "code",
      "metadata": {
        "id": "mqX3Zm6EuXiz"
      },
      "source": [
        "def make_batches(ds):\n",
        "  return (\n",
        "      ds\n",
        "      .cache()\n",
        "      .shuffle(BUFFER_SIZE)\n",
        "      .batch(BATCH_SIZE)\n",
        "      .map(tokenize_pairs, num_parallel_calls=tf.data.AUTOTUNE)\n",
        "      .prefetch(tf.data.AUTOTUNE))\n",
        "  \n",
        "train_batches = make_batches(train_examples)\n",
        "val_batches = make_batches(val_examples)"
      ],
      "execution_count": 9,
      "outputs": []
    },
    {
      "cell_type": "markdown",
      "metadata": {
        "id": "ACzzLYMVuo9D"
      },
      "source": [
        "### Positional Encoding\n",
        "\n",
        "Since attention layers see thier input as a set of vectors with no sequential order, we need a positional encoding to give the model information about relative positioning of the tokens.\n",
        "\n",
        "We implement the positional encoding as an embedding vector. Embeddings represent a token in d-dimensional space, so tokens with similar meaning will be closer to each other, but embeddings do not encode relative positioning of tokens in a sentence. After adding positional encodings, we can enhance our groupings/distance between tokens basd on similarity and sentence positioning (in d-dimensional space)\n",
        "\n",
        "We calculate positional encodings by the following formulas:\n",
        "$${PE_{(pos, 2i)} = \\sin(pos / 10000^{2i / d_{model}})} $$\n",
        "$${PE_{(pos, 2i+1)} = \\cos(pos / 10000^{2i / d_{model}})} $$"
      ]
    },
    {
      "cell_type": "code",
      "metadata": {
        "id": "OitjHuQ2v_py"
      },
      "source": [
        "def get_angles(pos, i, d_model):\n",
        "  angle_rates = 1 / np.power(10000, (2 * (i//2)) / np.float32(d_model))\n",
        "  return pos * angle_rates"
      ],
      "execution_count": 10,
      "outputs": []
    },
    {
      "cell_type": "code",
      "metadata": {
        "id": "mc9sILUHwBPC"
      },
      "source": [
        "def positional_encoding(position, d_model):\n",
        "  angle_rads = get_angles(np.arange(position)[:, np.newaxis],\n",
        "                          np.arange(d_model)[np.newaxis, :],\n",
        "                          d_model)\n",
        "  # apply sin to even indices in the array; 2i\n",
        "  angle_rads[:, 0::2] = np.sin(angle_rads[:, 0::2])\n",
        "  # apply cos to odd indices in the array; 2i+1\n",
        "  angle_rads[:, 1::2] = np.cos(angle_rads[:, 1::2])\n",
        "  pos_encoding = angle_rads[np.newaxis, ...]\n",
        "  return tf.cast(pos_encoding, dtype=tf.float32)"
      ],
      "execution_count": 11,
      "outputs": []
    },
    {
      "cell_type": "markdown",
      "metadata": {
        "id": "8ZqdiN2KwiEn"
      },
      "source": [
        "### Masking\n",
        "\n",
        "Mask the pad tokens in the batch of sequences, to ensure that the model does not treat padding as input (mask outputs 1 where pad value is 0 in sequence, else output 0)"
      ]
    },
    {
      "cell_type": "code",
      "metadata": {
        "id": "K-QSdheBwy_t"
      },
      "source": [
        "def create_padding_mask(seq):\n",
        "  seq = tf.cast(tf.math.equal(seq, 0), tf.float32)\n",
        "  # add extra dimensions to add the padding\n",
        "  # to the attention logits.\n",
        "  return seq[:, tf.newaxis, tf.newaxis, :]  # (batch_size, 1, 1, seq_len)"
      ],
      "execution_count": 12,
      "outputs": []
    },
    {
      "cell_type": "markdown",
      "metadata": {
        "id": "nG1feNDpxjJt"
      },
      "source": [
        "We will also create a look-ahead mask that masks future tokens in a sequence (ie indicates which entries should not be used). So to predict the nth token, we only use the first $n-1$ tokens."
      ]
    },
    {
      "cell_type": "code",
      "metadata": {
        "id": "GqWxIUFvyJK7"
      },
      "source": [
        "def create_look_ahead_mask(size):\n",
        "  mask = 1 - tf.linalg.band_part(tf.ones((size, size)), -1, 0)\n",
        "  return mask  # (seq_len, seq_len)"
      ],
      "execution_count": 13,
      "outputs": []
    },
    {
      "cell_type": "markdown",
      "metadata": {
        "id": "rOnQDpggyVIJ"
      },
      "source": [
        "### Scaled Dot-Product Attention\n",
        "\n",
        "<img src=\"https://www.tensorflow.org/images/tutorials/transformer/scaled_attention.png\" width=\"500\" alt=\"scaled_dot_product_attention\">\n",
        "\n",
        "We use the attention function defined by\n",
        "$${Attention(Q, K, V) = softmax_k\\left(\\frac{QK^T}{\\sqrt{d_k}}\\right) V} $$\n",
        "Where we have inputs Q (query), K (key), V (value).\n",
        "\n",
        "We scale the dot product by the square root of the depth to balance out the growth of the dot product for large magnitude vectors, which would result in small gradients on the softmax function, slowing optimization.\n",
        "\n",
        "The mask is multiplied by -1e9 since the mask is summed with the scaled matrix multiplication of Q and K before the softmax. We want to zero out these cells, and hence aim for large negative inputs to our softmax.\n",
        "\n"
      ]
    },
    {
      "cell_type": "code",
      "metadata": {
        "id": "pBCWTtue4PDx"
      },
      "source": [
        "def scaled_dot_product_attention(q, k, v, mask):\n",
        "  \"\"\"Calculate the attention weights\n",
        "    q: query shape == (..., seq_len_q, depth)\n",
        "    k: key shape == (..., seq_len_k, depth)\n",
        "    v: value shape == (..., seq_len_v, depth_v)\n",
        "    mask: Float tensor with shape broadcastable\n",
        "          to (..., seq_len_q, seq_len_k). Defaults to None.\n",
        "\n",
        "    Return: output, attention_weights\n",
        "  \"\"\"\n",
        "\n",
        "  matmul_qk = tf.matmul(q, k, transpose_b=True)  # (..., seq_len_q, seq_len_k)\n",
        "  dk = tf.cast(tf.shape(k)[-1], tf.float32)\n",
        "  scaled_attention_logits = matmul_qk / tf.math.sqrt(dk)\n",
        "\n",
        "  # add the mask to the scaled tensor.\n",
        "  if mask is not None:\n",
        "    scaled_attention_logits += (mask * -1e9)\n",
        "\n",
        "  # softmax is normalized on the last axis (seq_len_k) so that the scores\n",
        "  # add up to 1.\n",
        "  attention_weights = tf.nn.softmax(scaled_attention_logits, axis=-1)  # (..., seq_len_q, seq_len_k)\n",
        "\n",
        "  output = tf.matmul(attention_weights, v)  # (..., seq_len_q, depth_v)\n",
        "\n",
        "  return output, attention_weights"
      ],
      "execution_count": 14,
      "outputs": []
    },
    {
      "cell_type": "markdown",
      "metadata": {
        "id": "PzozmuukFv90"
      },
      "source": [
        "The values after the softmax normalization on K determine the amount of importance to give to Q.\n",
        "\n",
        "The output represents the multiplication of attention weights and the V (value) vector, ensuring that tokens we want to focus on are kepy while irrelevant ones are flushed out.\n",
        "\n",
        "Examples:"
      ]
    },
    {
      "cell_type": "code",
      "metadata": {
        "id": "06o4Uo4d5I0_"
      },
      "source": [
        "#helper function to demonstrate attention weight and output on multiplication\n",
        "def print_out(q, k, v):\n",
        "  temp_out, temp_attn = scaled_dot_product_attention(\n",
        "      q, k, v, None)\n",
        "  print('Attention weights are:')\n",
        "  print(temp_attn)\n",
        "  print('Output is:')\n",
        "  print(temp_out)"
      ],
      "execution_count": 15,
      "outputs": []
    },
    {
      "cell_type": "code",
      "metadata": {
        "id": "8CjaDUlyGWqF"
      },
      "source": [
        "np.set_printoptions(suppress=True)\n",
        "\n",
        "temp_k = tf.constant([[10, 0, 0],\n",
        "                      [0, 10, 0],\n",
        "                      [0, 0, 10],\n",
        "                      [0, 0, 10]], dtype=tf.float32)  # (4, 3)\n",
        "\n",
        "temp_v = tf.constant([[1, 0],\n",
        "                      [10, 0],\n",
        "                      [100, 5],\n",
        "                      [1000, 6]], dtype=tf.float32)  # (4, 2)"
      ],
      "execution_count": 16,
      "outputs": []
    },
    {
      "cell_type": "code",
      "metadata": {
        "colab": {
          "base_uri": "https://localhost:8080/"
        },
        "id": "w7z4tMr4GsKx",
        "outputId": "4cc94fa7-cb5f-491c-b0df-810525609f17"
      },
      "source": [
        "# This `query` aligns with the second `key`,\n",
        "# so the second `value` is returned.\n",
        "temp_q = tf.constant([[0, 10, 0]], dtype=tf.float32)  # (1, 3)\n",
        "print_out(temp_q, temp_k, temp_v)\n",
        "print()\n",
        "\n",
        "# This query aligns with a repeated key (third and fourth),\n",
        "# so all associated values get averaged.\n",
        "temp_q = tf.constant([[0, 0, 10]], dtype=tf.float32)  # (1, 3)\n",
        "print_out(temp_q, temp_k, temp_v)\n",
        "print()\n",
        "\n",
        "# This query aligns equally with the first and second key,\n",
        "# so their values get averaged.\n",
        "temp_q = tf.constant([[10, 10, 0]], dtype=tf.float32)  # (1, 3)\n",
        "print_out(temp_q, temp_k, temp_v)"
      ],
      "execution_count": 17,
      "outputs": [
        {
          "output_type": "stream",
          "name": "stdout",
          "text": [
            "Attention weights are:\n",
            "tf.Tensor([[0. 1. 0. 0.]], shape=(1, 4), dtype=float32)\n",
            "Output is:\n",
            "tf.Tensor([[10.  0.]], shape=(1, 2), dtype=float32)\n",
            "\n",
            "Attention weights are:\n",
            "tf.Tensor([[0.  0.  0.5 0.5]], shape=(1, 4), dtype=float32)\n",
            "Output is:\n",
            "tf.Tensor([[550.    5.5]], shape=(1, 2), dtype=float32)\n",
            "\n",
            "Attention weights are:\n",
            "tf.Tensor([[0.5 0.5 0.  0. ]], shape=(1, 4), dtype=float32)\n",
            "Output is:\n",
            "tf.Tensor([[5.5 0. ]], shape=(1, 2), dtype=float32)\n"
          ]
        }
      ]
    },
    {
      "cell_type": "markdown",
      "metadata": {
        "id": "gvCKgKL1H9NE"
      },
      "source": [
        "Since Q is a matrix, we can combine multiple queries in 1 shot:"
      ]
    },
    {
      "cell_type": "code",
      "metadata": {
        "colab": {
          "base_uri": "https://localhost:8080/"
        },
        "id": "rnGLn0BUHJB1",
        "outputId": "fa840224-3a1f-4f9b-cc42-09147f37a5b8"
      },
      "source": [
        "temp_q = tf.constant([[0, 0, 10],\n",
        "                      [0, 10, 0],\n",
        "                      [10, 10, 0]], dtype=tf.float32)  # (3, 3)\n",
        "print_out(temp_q, temp_k, temp_v)"
      ],
      "execution_count": 18,
      "outputs": [
        {
          "output_type": "stream",
          "name": "stdout",
          "text": [
            "Attention weights are:\n",
            "tf.Tensor(\n",
            "[[0.  0.  0.5 0.5]\n",
            " [0.  1.  0.  0. ]\n",
            " [0.5 0.5 0.  0. ]], shape=(3, 4), dtype=float32)\n",
            "Output is:\n",
            "tf.Tensor(\n",
            "[[550.    5.5]\n",
            " [ 10.    0. ]\n",
            " [  5.5   0. ]], shape=(3, 2), dtype=float32)\n"
          ]
        }
      ]
    },
    {
      "cell_type": "markdown",
      "metadata": {
        "id": "SbMzhcrKIDg8"
      },
      "source": [
        "### Multi-Head Attention\n",
        "\n",
        "<img src=\"https://www.tensorflow.org/images/tutorials/transformer/multi_head_attention.png\" width=\"500\" alt=\"multi-head attention\">\n",
        "\n",
        "\n",
        "Multi-head attention consists of four parts:\n",
        "*    Linear layers.\n",
        "*    Scaled dot-product attention.\n",
        "*    Final linear layer."
      ]
    },
    {
      "cell_type": "markdown",
      "metadata": {
        "id": "DxeYCevxIKbS"
      },
      "source": [
        "Each multi-head attention gets inputs Q (query), K (key), V (value), which are put through dense linear layers before the multi-head attention function.\n",
        "\n",
        "(K,Q,V) are passed through separate linear layers for each attention head.\n",
        "For efficiency/simplicity, we implement this using a single dense layer with `num_heads` times as many outputs and rearrange the output to shape `(batch, num_heads, ...)` before the attention function.\n",
        "\n",
        "We apply the `scaled_dot_product_attention` function to a single cell, then broadcast it for efficiency. Note an appropriate mask must be used in the attention step. After, the attention output is concatenated and put through a final dense layer.\n",
        "\n",
        "We use multiple. attention heads because it allows the model to jointly attend to information from difference representation subspaces at different positions."
      ]
    },
    {
      "cell_type": "code",
      "metadata": {
        "id": "NtYZ9N8vKaYb"
      },
      "source": [
        "class MultiHeadAttention(tf.keras.layers.Layer):\n",
        "  def __init__(self, d_model, num_heads):\n",
        "    super(MultiHeadAttention, self).__init__()\n",
        "    self.num_heads = num_heads\n",
        "    self.d_model = d_model\n",
        "\n",
        "    assert d_model % self.num_heads == 0\n",
        "\n",
        "    self.depth = d_model // self.num_heads\n",
        "\n",
        "    self.wq = tf.keras.layers.Dense(d_model)\n",
        "    self.wk = tf.keras.layers.Dense(d_model)\n",
        "    self.wv = tf.keras.layers.Dense(d_model)\n",
        "\n",
        "    self.dense = tf.keras.layers.Dense(d_model)\n",
        "\n",
        "  def split_heads(self, x, batch_size):\n",
        "    \"\"\"Split the last dimension into (num_heads, depth).\n",
        "    Transpose the result such that the shape is (batch_size, num_heads, seq_len, depth)\n",
        "    \"\"\"\n",
        "    x = tf.reshape(x, (batch_size, -1, self.num_heads, self.depth))\n",
        "    return tf.transpose(x, perm=[0, 2, 1, 3])\n",
        "\n",
        "  def call(self, v, k, q, mask):\n",
        "    batch_size = tf.shape(q)[0]\n",
        "\n",
        "    q = self.wq(q)  # (batch_size, seq_len, d_model)\n",
        "    k = self.wk(k)  # (batch_size, seq_len, d_model)\n",
        "    v = self.wv(v)  # (batch_size, seq_len, d_model)\n",
        "\n",
        "    q = self.split_heads(q, batch_size)  # (batch_size, num_heads, seq_len_q, depth)\n",
        "    k = self.split_heads(k, batch_size)  # (batch_size, num_heads, seq_len_k, depth)\n",
        "    v = self.split_heads(v, batch_size)  # (batch_size, num_heads, seq_len_v, depth)\n",
        "\n",
        "    # scaled_attention.shape == (batch_size, num_heads, seq_len_q, depth)\n",
        "    # attention_weights.shape == (batch_size, num_heads, seq_len_q, seq_len_k)\n",
        "    scaled_attention, attention_weights = scaled_dot_product_attention(\n",
        "        q, k, v, mask)\n",
        "\n",
        "    scaled_attention = tf.transpose(scaled_attention, perm=[0, 2, 1, 3])  # (batch_size, seq_len_q, num_heads, depth)\n",
        "\n",
        "    concat_attention = tf.reshape(scaled_attention,\n",
        "                                  (batch_size, -1, self.d_model))  # (batch_size, seq_len_q, d_model)\n",
        "\n",
        "    output = self.dense(concat_attention)  # (batch_size, seq_len_q, d_model)\n",
        "\n",
        "    return output, attention_weights"
      ],
      "execution_count": 19,
      "outputs": []
    },
    {
      "cell_type": "markdown",
      "metadata": {
        "id": "C_HWfh8cMWFB"
      },
      "source": [
        "### Point Wise Feed Forward Network\n",
        "\n",
        "Point wise feed forward netowrk consists of 2 fully-connected layers with ReLU activations in between."
      ]
    },
    {
      "cell_type": "code",
      "metadata": {
        "id": "8chfdKluMmwL"
      },
      "source": [
        "def point_wise_feed_forward_network(d_model, dff):\n",
        "  return tf.keras.Sequential([\n",
        "      tf.keras.layers.Dense(dff, activation='relu'),  # (batch_size, seq_len, dff)\n",
        "      tf.keras.layers.Dense(d_model)  # (batch_size, seq_len, d_model)\n",
        "  ])"
      ],
      "execution_count": 20,
      "outputs": []
    },
    {
      "cell_type": "markdown",
      "metadata": {
        "id": "9xcB72VAMrvG"
      },
      "source": [
        "### Encoder and Decoder\n",
        "\n",
        "<img src=\"https://www.tensorflow.org/images/tutorials/transformer/transformer.png\" width=\"600\" alt=\"transformer\">"
      ]
    },
    {
      "cell_type": "markdown",
      "metadata": {
        "id": "MCeRwOeJMwvj"
      },
      "source": [
        "The transformer model follows the same general pattern as a standard sequence to sequence with attention model;\n",
        "- The input sentence is passed through N encoder layers that generate an output for each token in the sequence\n",
        "- The decoder attends to the encoder's output and its own input (self-attention) to predict the next word"
      ]
    },
    {
      "cell_type": "markdown",
      "metadata": {
        "id": "OGUTNXShNLvL"
      },
      "source": [
        "#### Encoder Layer\n",
        "\n",
        "Each encoder layer consists of sublayers:\n",
        "- Multi-head attention (with padding mask)\n",
        "- Point-wise feed forward networks\n",
        "\n",
        "Each of the sublayers has a residual connection (to avoid vanishing gradients) followed by layer normalization.\n",
        "\n",
        "For each of the N encoder layers in the transformer, the output of each sublayer is `LayerNorm(x + Sublayer(x))`, and normalization is done on the `d_model` (last) axis."
      ]
    },
    {
      "cell_type": "code",
      "metadata": {
        "id": "UnyGCB3JOCAt"
      },
      "source": [
        "class EncoderLayer(tf.keras.layers.Layer):\n",
        "  def __init__(self, d_model, num_heads, dff, rate=0.1):\n",
        "    super(EncoderLayer, self).__init__()\n",
        "\n",
        "    self.mha = MultiHeadAttention(d_model, num_heads)\n",
        "    self.ffn = point_wise_feed_forward_network(d_model, dff)\n",
        "\n",
        "    self.layernorm1 = tf.keras.layers.LayerNormalization(epsilon=1e-6)\n",
        "    self.layernorm2 = tf.keras.layers.LayerNormalization(epsilon=1e-6)\n",
        "\n",
        "    self.dropout1 = tf.keras.layers.Dropout(rate)\n",
        "    self.dropout2 = tf.keras.layers.Dropout(rate)\n",
        "\n",
        "  def call(self, x, training, mask):\n",
        "\n",
        "    attn_output, _ = self.mha(x, x, x, mask)  # (batch_size, input_seq_len, d_model)\n",
        "    attn_output = self.dropout1(attn_output, training=training)\n",
        "    out1 = self.layernorm1(x + attn_output)  # (batch_size, input_seq_len, d_model)\n",
        "\n",
        "    ffn_output = self.ffn(out1)  # (batch_size, input_seq_len, d_model)\n",
        "    ffn_output = self.dropout2(ffn_output, training=training)\n",
        "    out2 = self.layernorm2(out1 + ffn_output)  # (batch_size, input_seq_len, d_model)\n",
        "\n",
        "    return out2"
      ],
      "execution_count": 21,
      "outputs": []
    },
    {
      "cell_type": "markdown",
      "metadata": {
        "id": "ZqZL43ogOlr5"
      },
      "source": [
        "#### Decoder Layer\n",
        "\n",
        "Each of the N decoder layer consists of sublayers:\n",
        "- Masked multi-head attention (with look ahead mask and padding mask)\n",
        "- Multi-head attention (with padding mask). V (value) and K (key) receive the *encoder output* as inputs. Q (query) receives the *output from the masked multi-head attention sublayer.*\n",
        "- Point wise feed forward networks\n",
        "\n",
        "As Q receives the output from the decoder's first attention block, and K receives the encoder output, the attention weights represent the importance given to the decoder's input based on the encoder's output; the decoder predicts teh next token by looking at the encoder output and self-attending its own output"
      ]
    },
    {
      "cell_type": "code",
      "metadata": {
        "id": "BQQMn1McP8i8"
      },
      "source": [
        "class DecoderLayer(tf.keras.layers.Layer):\n",
        "  def __init__(self, d_model, num_heads, dff, rate=0.1):\n",
        "    super(DecoderLayer, self).__init__()\n",
        "\n",
        "    self.mha1 = MultiHeadAttention(d_model, num_heads)\n",
        "    self.mha2 = MultiHeadAttention(d_model, num_heads)\n",
        "\n",
        "    self.ffn = point_wise_feed_forward_network(d_model, dff)\n",
        "\n",
        "    self.layernorm1 = tf.keras.layers.LayerNormalization(epsilon=1e-6)\n",
        "    self.layernorm2 = tf.keras.layers.LayerNormalization(epsilon=1e-6)\n",
        "    self.layernorm3 = tf.keras.layers.LayerNormalization(epsilon=1e-6)\n",
        "\n",
        "    self.dropout1 = tf.keras.layers.Dropout(rate)\n",
        "    self.dropout2 = tf.keras.layers.Dropout(rate)\n",
        "    self.dropout3 = tf.keras.layers.Dropout(rate)\n",
        "\n",
        "  def call(self, x, enc_output, training,\n",
        "           look_ahead_mask, padding_mask):\n",
        "    # enc_output.shape == (batch_size, input_seq_len, d_model)\n",
        "\n",
        "    attn1, attn_weights_block1 = self.mha1(x, x, x, look_ahead_mask)  # (batch_size, target_seq_len, d_model)\n",
        "    attn1 = self.dropout1(attn1, training=training)\n",
        "    out1 = self.layernorm1(attn1 + x)\n",
        "\n",
        "    attn2, attn_weights_block2 = self.mha2(\n",
        "        enc_output, enc_output, out1, padding_mask)  # (batch_size, target_seq_len, d_model)\n",
        "    attn2 = self.dropout2(attn2, training=training)\n",
        "    out2 = self.layernorm2(attn2 + out1)  # (batch_size, target_seq_len, d_model)\n",
        "\n",
        "    ffn_output = self.ffn(out2)  # (batch_size, target_seq_len, d_model)\n",
        "    ffn_output = self.dropout3(ffn_output, training=training)\n",
        "    out3 = self.layernorm3(ffn_output + out2)  # (batch_size, target_seq_len, d_model)\n",
        "\n",
        "    return out3, attn_weights_block1, attn_weights_block2"
      ],
      "execution_count": 22,
      "outputs": []
    },
    {
      "cell_type": "markdown",
      "metadata": {
        "id": "VyaTjmXGQt5S"
      },
      "source": [
        "#### Encoder\n",
        "\n",
        "The `Encoder` consists of:\n",
        "1.   Input Embedding\n",
        "2.   Positional Encoding\n",
        "3.   N encoder layers\n",
        "\n",
        "The input is first put through an embedded which is summed with the positional encoding. The sum is then inputted to the encoding layers. The output of the encoder is then the input to the decoder."
      ]
    },
    {
      "cell_type": "code",
      "metadata": {
        "id": "STKPv530RCyu"
      },
      "source": [
        "class Encoder(tf.keras.layers.Layer):\n",
        "  def __init__(self, num_layers, d_model, num_heads, dff, input_vocab_size,\n",
        "               maximum_position_encoding, rate=0.1):\n",
        "    super(Encoder, self).__init__()\n",
        "\n",
        "    self.d_model = d_model\n",
        "    self.num_layers = num_layers\n",
        "\n",
        "    self.embedding = tf.keras.layers.Embedding(input_vocab_size, d_model)\n",
        "    self.pos_encoding = positional_encoding(maximum_position_encoding,\n",
        "                                            self.d_model)\n",
        "\n",
        "    self.enc_layers = [EncoderLayer(d_model, num_heads, dff, rate)\n",
        "                       for _ in range(num_layers)]\n",
        "\n",
        "    self.dropout = tf.keras.layers.Dropout(rate)\n",
        "\n",
        "  def call(self, x, training, mask):\n",
        "\n",
        "    seq_len = tf.shape(x)[1]\n",
        "\n",
        "    # adding embedding and position encoding.\n",
        "    x = self.embedding(x)  # (batch_size, input_seq_len, d_model)\n",
        "    x *= tf.math.sqrt(tf.cast(self.d_model, tf.float32))\n",
        "    x += self.pos_encoding[:, :seq_len, :]\n",
        "\n",
        "    x = self.dropout(x, training=training)\n",
        "\n",
        "    for i in range(self.num_layers):\n",
        "      x = self.enc_layers[i](x, training, mask)\n",
        "\n",
        "    return x  # (batch_size, input_seq_len, d_model)"
      ],
      "execution_count": 23,
      "outputs": []
    },
    {
      "cell_type": "markdown",
      "metadata": {
        "id": "aBJZ7NMgRoBf"
      },
      "source": [
        "#### Decoder\n",
        "\n",
        "The `Decoder` consists of:\n",
        "1.   Output Embedding\n",
        "2.   Positional Encoding\n",
        "3.   N decoder layers\n",
        "\n",
        "The target is put through an embedding which is summed with the positional encoding. This sum is the input to the decoder layers. The output of the decoder is then the input to the final linear layer."
      ]
    },
    {
      "cell_type": "code",
      "metadata": {
        "id": "FopDzIYgSF8t"
      },
      "source": [
        "class Decoder(tf.keras.layers.Layer):\n",
        "  def __init__(self, num_layers, d_model, num_heads, dff, target_vocab_size,\n",
        "               maximum_position_encoding, rate=0.1):\n",
        "    super(Decoder, self).__init__()\n",
        "\n",
        "    self.d_model = d_model\n",
        "    self.num_layers = num_layers\n",
        "\n",
        "    self.embedding = tf.keras.layers.Embedding(target_vocab_size, d_model)\n",
        "    self.pos_encoding = positional_encoding(maximum_position_encoding, d_model)\n",
        "\n",
        "    self.dec_layers = [DecoderLayer(d_model, num_heads, dff, rate)\n",
        "                       for _ in range(num_layers)]\n",
        "    self.dropout = tf.keras.layers.Dropout(rate)\n",
        "\n",
        "  def call(self, x, enc_output, training,\n",
        "           look_ahead_mask, padding_mask):\n",
        "\n",
        "    seq_len = tf.shape(x)[1]\n",
        "    attention_weights = {}\n",
        "\n",
        "    x = self.embedding(x)  # (batch_size, target_seq_len, d_model)\n",
        "    x *= tf.math.sqrt(tf.cast(self.d_model, tf.float32))\n",
        "    x += self.pos_encoding[:, :seq_len, :]\n",
        "\n",
        "    x = self.dropout(x, training=training)\n",
        "\n",
        "    for i in range(self.num_layers):\n",
        "      x, block1, block2 = self.dec_layers[i](x, enc_output, training,\n",
        "                                             look_ahead_mask, padding_mask)\n",
        "\n",
        "      attention_weights[f'decoder_layer{i+1}_block1'] = block1\n",
        "      attention_weights[f'decoder_layer{i+1}_block2'] = block2\n",
        "\n",
        "    # x.shape == (batch_size, target_seq_len, d_model)\n",
        "    return x, attention_weights"
      ],
      "execution_count": 24,
      "outputs": []
    },
    {
      "cell_type": "markdown",
      "metadata": {
        "id": "idUsZ79gTDZA"
      },
      "source": [
        "### Create the Transformer\n",
        "\n",
        "The transformer implements the encoder, decoder and a final linear layer"
      ]
    },
    {
      "cell_type": "code",
      "metadata": {
        "id": "Af7VMAywTJmQ"
      },
      "source": [
        "class Transformer(tf.keras.Model):\n",
        "  def __init__(self, num_layers, d_model, num_heads, dff, input_vocab_size,\n",
        "               target_vocab_size, pe_input, pe_target, rate=0.1):\n",
        "    super().__init__()\n",
        "    self.encoder = Encoder(num_layers, d_model, num_heads, dff,\n",
        "                             input_vocab_size, pe_input, rate)\n",
        "\n",
        "    self.decoder = Decoder(num_layers, d_model, num_heads, dff,\n",
        "                           target_vocab_size, pe_target, rate)\n",
        "\n",
        "    self.final_layer = tf.keras.layers.Dense(target_vocab_size)\n",
        "\n",
        "  def call(self, inputs, training):\n",
        "    # Keras models prefer if you pass all your inputs in the first argument\n",
        "    inp, tar = inputs\n",
        "\n",
        "    enc_padding_mask, look_ahead_mask, dec_padding_mask = self.create_masks(inp, tar)\n",
        "\n",
        "    enc_output = self.encoder(inp, training, enc_padding_mask)  # (batch_size, inp_seq_len, d_model)\n",
        "\n",
        "    # dec_output.shape == (batch_size, tar_seq_len, d_model)\n",
        "    dec_output, attention_weights = self.decoder(\n",
        "        tar, enc_output, training, look_ahead_mask, dec_padding_mask)\n",
        "\n",
        "    final_output = self.final_layer(dec_output)  # (batch_size, tar_seq_len, target_vocab_size)\n",
        "\n",
        "    return final_output, attention_weights\n",
        "\n",
        "  def create_masks(self, inp, tar):\n",
        "    # Encoder padding mask\n",
        "    enc_padding_mask = create_padding_mask(inp)\n",
        "\n",
        "    # Used in the 2nd attention block in the decoder.\n",
        "    # This padding mask is used to mask the encoder outputs.\n",
        "    dec_padding_mask = create_padding_mask(inp)\n",
        "\n",
        "    # Used in the 1st attention block in the decoder.\n",
        "    # It is used to pad and mask future tokens in the input received by\n",
        "    # the decoder.\n",
        "    look_ahead_mask = create_look_ahead_mask(tf.shape(tar)[1])\n",
        "    dec_target_padding_mask = create_padding_mask(tar)\n",
        "    look_ahead_mask = tf.maximum(dec_target_padding_mask, look_ahead_mask)\n",
        "\n",
        "    return enc_padding_mask, look_ahead_mask, dec_padding_mask"
      ],
      "execution_count": 25,
      "outputs": []
    },
    {
      "cell_type": "markdown",
      "metadata": {
        "id": "ZcNPfdrG0o_A"
      },
      "source": [
        "### Hyperparameters\n",
        "\n",
        "We use a smaller number for `num_layers, d_model, dff` for sake of computational efficiency. In the paper [Attention is all you Need](https://arxiv.org/abs/1706.03762) the hyperparams used are `num_layers=6, d_model=512, dff=2048`"
      ]
    },
    {
      "cell_type": "code",
      "metadata": {
        "id": "wKguPAxL1J5F"
      },
      "source": [
        "num_layers = 4\n",
        "d_model = 128\n",
        "dff = 512\n",
        "num_heads = 8\n",
        "dropout_rate = 0.1"
      ],
      "execution_count": 26,
      "outputs": []
    },
    {
      "cell_type": "markdown",
      "metadata": {
        "id": "8gYWYCJv1W54"
      },
      "source": [
        "### Optimizer\n",
        "\n",
        "We use Adam optimizer with custom learning rate scheduler according to formula given by the [Attention is all you Need](https://arxiv.org/abs/1706.03762) paper\n",
        "\n",
        "$${lrate = d_{model}^{-0.5} * \\min(step{\\_}num^{-0.5}, step{\\_}num \\cdot warmup{\\_}steps^{-1.5})}$$"
      ]
    },
    {
      "cell_type": "code",
      "metadata": {
        "id": "IKoXBhtd2B_k"
      },
      "source": [
        "class CustomSchedule(tf.keras.optimizers.schedules.LearningRateSchedule):\n",
        "  def __init__(self, d_model, warmup_steps=4000):\n",
        "    super(CustomSchedule, self).__init__()\n",
        "\n",
        "    self.d_model = d_model\n",
        "    self.d_model = tf.cast(self.d_model, tf.float32)\n",
        "\n",
        "    self.warmup_steps = warmup_steps\n",
        "\n",
        "  def __call__(self, step):\n",
        "    arg1 = tf.math.rsqrt(step)\n",
        "    arg2 = step * (self.warmup_steps ** -1.5)\n",
        "\n",
        "    return tf.math.rsqrt(self.d_model) * tf.math.minimum(arg1, arg2)\n",
        "\n",
        "#create the learning rate scheduler and optimizer\n",
        "learning_rate = CustomSchedule(d_model)\n",
        "optimizer = tf.keras.optimizers.Adam(learning_rate, beta_1=0.9, beta_2=0.98,\n",
        "                                     epsilon=1e-9)"
      ],
      "execution_count": 27,
      "outputs": []
    },
    {
      "cell_type": "markdown",
      "metadata": {
        "id": "kK0LfD_J2jqk"
      },
      "source": [
        "### Loss and Metrics\n",
        "\n",
        "The target sequences are padded, so it's important to apply a padding mask when calculating the loss"
      ]
    },
    {
      "cell_type": "code",
      "metadata": {
        "id": "MqjmP_qt2wIj"
      },
      "source": [
        "#sparse categorical loss since we have scaler labels\n",
        "loss_object = tf.keras.losses.SparseCategoricalCrossentropy(\n",
        "    from_logits=True, reduction='none')\n",
        "\n",
        "#loss function helper\n",
        "def loss_function(real, pred):\n",
        "  mask = tf.math.logical_not(tf.math.equal(real, 0))\n",
        "  loss_ = loss_object(real, pred)\n",
        "\n",
        "  mask = tf.cast(mask, dtype=loss_.dtype)\n",
        "  loss_ *= mask\n",
        "\n",
        "  return tf.reduce_sum(loss_)/tf.reduce_sum(mask)\n",
        "\n",
        "#accuracy function helper\n",
        "def accuracy_function(real, pred):\n",
        "  accuracies = tf.equal(real, tf.argmax(pred, axis=2))\n",
        "\n",
        "  mask = tf.math.logical_not(tf.math.equal(real, 0))\n",
        "  accuracies = tf.math.logical_and(mask, accuracies)\n",
        "\n",
        "  accuracies = tf.cast(accuracies, dtype=tf.float32)\n",
        "  mask = tf.cast(mask, dtype=tf.float32)\n",
        "  return tf.reduce_sum(accuracies)/tf.reduce_sum(mask)\n",
        "\n",
        "#instantiate training loss and accuracy metrics\n",
        "train_loss = tf.keras.metrics.Mean(name='train_loss')\n",
        "train_accuracy = tf.keras.metrics.Mean(name='train_accuracy')"
      ],
      "execution_count": 28,
      "outputs": []
    },
    {
      "cell_type": "markdown",
      "metadata": {
        "id": "mp1oMp4Z3o74"
      },
      "source": [
        "### Training and Checkpointing"
      ]
    },
    {
      "cell_type": "markdown",
      "metadata": {
        "id": "X43grOff3tr_"
      },
      "source": [
        "Instantiate transformer:"
      ]
    },
    {
      "cell_type": "code",
      "metadata": {
        "id": "IhGyNAi23ru5"
      },
      "source": [
        "transformer = Transformer(\n",
        "    num_layers=num_layers,\n",
        "    d_model=d_model,\n",
        "    num_heads=num_heads,\n",
        "    dff=dff,\n",
        "    input_vocab_size=tokenizers.pt.get_vocab_size().numpy(),\n",
        "    target_vocab_size=tokenizers.en.get_vocab_size().numpy(),\n",
        "    pe_input=1000,\n",
        "    pe_target=1000,\n",
        "    rate=dropout_rate)"
      ],
      "execution_count": 29,
      "outputs": []
    },
    {
      "cell_type": "markdown",
      "metadata": {
        "id": "w_5YgNXo3xRR"
      },
      "source": [
        "Create checkpoint path and manager to save model after every n epochs"
      ]
    },
    {
      "cell_type": "code",
      "metadata": {
        "id": "HCpj2-Bi3wnz"
      },
      "source": [
        "checkpoint_path = \"./checkpoints/train\"\n",
        "\n",
        "ckpt = tf.train.Checkpoint(transformer=transformer,\n",
        "                           optimizer=optimizer)\n",
        "\n",
        "ckpt_manager = tf.train.CheckpointManager(ckpt, checkpoint_path, max_to_keep=5)\n",
        "\n",
        "# if a checkpoint exists, restore the latest checkpoint.\n",
        "if ckpt_manager.latest_checkpoint:\n",
        "  ckpt.restore(ckpt_manager.latest_checkpoint)\n",
        "  print('Latest checkpoint restored!!')"
      ],
      "execution_count": 30,
      "outputs": []
    },
    {
      "cell_type": "markdown",
      "metadata": {
        "id": "JnNkrSO54c80"
      },
      "source": [
        "The target is divided into tar_inp (input) and tar_real (output). tar_inp is passed as an input to the decoder. `tar_real` is that same input shifted by 1: At each location in `tar_input`, `tar_real` contains the  next token that should be predicted.\n",
        "\n",
        "Since the transformer is an auto-regressive model, it makes perdictions one at at time, then uses its output so far to decide what to do next.\n",
        "\n",
        "During training we use [teacher-forcing](https://arxiv.org/abs/1610.09038) (ie pass true output to next time step regardless of what the model predicts at the current time step).\n",
        "\n",
        "When the transformer predicts each token, self-attention allows it to look at the previous tokens in the input sequence to make a better prediction for the next token.\n",
        "\n",
        "Note that we to prevent the model from looking at the expected output the model uses a look-ahead mask."
      ]
    },
    {
      "cell_type": "code",
      "metadata": {
        "id": "DJM9aAXC6BNr"
      },
      "source": [
        "EPOCHS = 20"
      ],
      "execution_count": 31,
      "outputs": []
    },
    {
      "cell_type": "markdown",
      "metadata": {
        "id": "El4EMG_G6Mjx"
      },
      "source": [
        "Training step"
      ]
    },
    {
      "cell_type": "code",
      "metadata": {
        "id": "JHFcQ9FX6DU4"
      },
      "source": [
        "train_step_signature = [\n",
        "    tf.TensorSpec(shape=(None, None), dtype=tf.int64),\n",
        "    tf.TensorSpec(shape=(None, None), dtype=tf.int64),\n",
        "]\n",
        "\n",
        "@tf.function(input_signature=train_step_signature)\n",
        "def train_step(inp, tar):\n",
        "  tar_inp = tar[:, :-1]\n",
        "  tar_real = tar[:, 1:]\n",
        "\n",
        "  with tf.GradientTape() as tape:\n",
        "    predictions, _ = transformer([inp, tar_inp],\n",
        "                                 training = True)\n",
        "    loss = loss_function(tar_real, predictions)\n",
        "\n",
        "  gradients = tape.gradient(loss, transformer.trainable_variables)\n",
        "  optimizer.apply_gradients(zip(gradients, transformer.trainable_variables))\n",
        "\n",
        "  train_loss(loss)\n",
        "  train_accuracy(accuracy_function(tar_real, predictions))"
      ],
      "execution_count": 32,
      "outputs": []
    },
    {
      "cell_type": "markdown",
      "metadata": {
        "id": "zkxwnomT6Qkr"
      },
      "source": [
        "Training loop:"
      ]
    },
    {
      "cell_type": "code",
      "metadata": {
        "colab": {
          "base_uri": "https://localhost:8080/"
        },
        "id": "4dmGjOCt6Px_",
        "outputId": "ebe38e9c-90f4-4692-e137-641874f790a5"
      },
      "source": [
        "for epoch in range(EPOCHS):\n",
        "  start = time.time()\n",
        "\n",
        "  train_loss.reset_states()\n",
        "  train_accuracy.reset_states()\n",
        "\n",
        "  # inp -> portuguese, tar -> english\n",
        "  for (batch, (inp, tar)) in enumerate(train_batches):\n",
        "    train_step(inp, tar)\n",
        "\n",
        "    if batch % 50 == 0:\n",
        "      print(f'Epoch {epoch + 1} Batch {batch} Loss {train_loss.result():.4f} Accuracy {train_accuracy.result():.4f}')\n",
        "\n",
        "  if (epoch + 1) % 5 == 0:\n",
        "    ckpt_save_path = ckpt_manager.save()\n",
        "    print(f'Saving checkpoint for epoch {epoch+1} at {ckpt_save_path}')\n",
        "\n",
        "  print(f'Epoch {epoch + 1} Loss {train_loss.result():.4f} Accuracy {train_accuracy.result():.4f}')\n",
        "\n",
        "  print(f'Time taken for epoch {epoch+1}: {time.time() - start:.2f} secs\\n')"
      ],
      "execution_count": 33,
      "outputs": [
        {
          "output_type": "stream",
          "name": "stdout",
          "text": [
            "Epoch 1 Batch 0 Loss 8.8879 Accuracy 0.0000\n",
            "Epoch 1 Batch 50 Loss 8.8201 Accuracy 0.0024\n",
            "Epoch 1 Batch 100 Loss 8.7131 Accuracy 0.0235\n",
            "Epoch 1 Batch 150 Loss 8.5960 Accuracy 0.0316\n",
            "Epoch 1 Batch 200 Loss 8.4548 Accuracy 0.0356\n",
            "Epoch 1 Batch 250 Loss 8.2849 Accuracy 0.0385\n",
            "Epoch 1 Batch 300 Loss 8.0944 Accuracy 0.0454\n",
            "Epoch 1 Batch 350 Loss 7.8951 Accuracy 0.0519\n",
            "Epoch 1 Batch 400 Loss 7.7070 Accuracy 0.0577\n",
            "Epoch 1 Batch 450 Loss 7.5374 Accuracy 0.0651\n",
            "Epoch 1 Batch 500 Loss 7.3897 Accuracy 0.0723\n",
            "Epoch 1 Batch 550 Loss 7.2550 Accuracy 0.0793\n",
            "Epoch 1 Batch 600 Loss 7.1303 Accuracy 0.0870\n",
            "Epoch 1 Batch 650 Loss 7.0154 Accuracy 0.0943\n",
            "Epoch 1 Batch 700 Loss 6.9066 Accuracy 0.1015\n",
            "Epoch 1 Batch 750 Loss 6.8074 Accuracy 0.1079\n",
            "Epoch 1 Batch 800 Loss 6.7151 Accuracy 0.1139\n",
            "Epoch 1 Loss 6.6988 Accuracy 0.1151\n",
            "Time taken for epoch 1: 231.90 secs\n",
            "\n",
            "Epoch 2 Batch 0 Loss 5.2716 Accuracy 0.1982\n",
            "Epoch 2 Batch 50 Loss 5.2709 Accuracy 0.2096\n",
            "Epoch 2 Batch 100 Loss 5.2266 Accuracy 0.2144\n",
            "Epoch 2 Batch 150 Loss 5.1779 Accuracy 0.2198\n",
            "Epoch 2 Batch 200 Loss 5.1442 Accuracy 0.2237\n",
            "Epoch 2 Batch 250 Loss 5.1162 Accuracy 0.2269\n",
            "Epoch 2 Batch 300 Loss 5.0922 Accuracy 0.2292\n",
            "Epoch 2 Batch 350 Loss 5.0758 Accuracy 0.2309\n",
            "Epoch 2 Batch 400 Loss 5.0522 Accuracy 0.2330\n",
            "Epoch 2 Batch 450 Loss 5.0292 Accuracy 0.2350\n",
            "Epoch 2 Batch 500 Loss 5.0085 Accuracy 0.2369\n",
            "Epoch 2 Batch 550 Loss 4.9876 Accuracy 0.2388\n",
            "Epoch 2 Batch 600 Loss 4.9680 Accuracy 0.2407\n",
            "Epoch 2 Batch 650 Loss 4.9503 Accuracy 0.2420\n",
            "Epoch 2 Batch 700 Loss 4.9326 Accuracy 0.2435\n",
            "Epoch 2 Batch 750 Loss 4.9138 Accuracy 0.2451\n",
            "Epoch 2 Batch 800 Loss 4.8976 Accuracy 0.2463\n",
            "Epoch 2 Loss 4.8934 Accuracy 0.2468\n",
            "Time taken for epoch 2: 211.73 secs\n",
            "\n",
            "Epoch 3 Batch 0 Loss 4.5978 Accuracy 0.2739\n",
            "Epoch 3 Batch 50 Loss 4.6094 Accuracy 0.2676\n",
            "Epoch 3 Batch 100 Loss 4.5961 Accuracy 0.2698\n",
            "Epoch 3 Batch 150 Loss 4.5787 Accuracy 0.2718\n",
            "Epoch 3 Batch 200 Loss 4.5706 Accuracy 0.2728\n",
            "Epoch 3 Batch 250 Loss 4.5597 Accuracy 0.2742\n",
            "Epoch 3 Batch 300 Loss 4.5431 Accuracy 0.2758\n",
            "Epoch 3 Batch 350 Loss 4.5328 Accuracy 0.2768\n",
            "Epoch 3 Batch 400 Loss 4.5210 Accuracy 0.2778\n",
            "Epoch 3 Batch 450 Loss 4.5103 Accuracy 0.2787\n",
            "Epoch 3 Batch 500 Loss 4.4952 Accuracy 0.2804\n",
            "Epoch 3 Batch 550 Loss 4.4823 Accuracy 0.2819\n",
            "Epoch 3 Batch 600 Loss 4.4686 Accuracy 0.2833\n",
            "Epoch 3 Batch 650 Loss 4.4547 Accuracy 0.2849\n",
            "Epoch 3 Batch 700 Loss 4.4436 Accuracy 0.2861\n",
            "Epoch 3 Batch 750 Loss 4.4286 Accuracy 0.2880\n",
            "Epoch 3 Batch 800 Loss 4.4150 Accuracy 0.2894\n",
            "Epoch 3 Loss 4.4118 Accuracy 0.2897\n",
            "Time taken for epoch 3: 213.34 secs\n",
            "\n",
            "Epoch 4 Batch 0 Loss 4.4374 Accuracy 0.2717\n",
            "Epoch 4 Batch 50 Loss 4.0882 Accuracy 0.3265\n",
            "Epoch 4 Batch 100 Loss 4.0646 Accuracy 0.3279\n",
            "Epoch 4 Batch 150 Loss 4.0613 Accuracy 0.3283\n",
            "Epoch 4 Batch 200 Loss 4.0476 Accuracy 0.3305\n",
            "Epoch 4 Batch 250 Loss 4.0369 Accuracy 0.3316\n",
            "Epoch 4 Batch 300 Loss 4.0204 Accuracy 0.3340\n",
            "Epoch 4 Batch 350 Loss 4.0044 Accuracy 0.3362\n",
            "Epoch 4 Batch 400 Loss 3.9902 Accuracy 0.3381\n",
            "Epoch 4 Batch 450 Loss 3.9768 Accuracy 0.3397\n",
            "Epoch 4 Batch 500 Loss 3.9607 Accuracy 0.3418\n",
            "Epoch 4 Batch 550 Loss 3.9448 Accuracy 0.3441\n",
            "Epoch 4 Batch 600 Loss 3.9300 Accuracy 0.3462\n",
            "Epoch 4 Batch 650 Loss 3.9160 Accuracy 0.3480\n",
            "Epoch 4 Batch 700 Loss 3.9009 Accuracy 0.3500\n",
            "Epoch 4 Batch 750 Loss 3.8867 Accuracy 0.3519\n",
            "Epoch 4 Batch 800 Loss 3.8733 Accuracy 0.3538\n",
            "Epoch 4 Loss 3.8713 Accuracy 0.3540\n",
            "Time taken for epoch 4: 212.34 secs\n",
            "\n",
            "Epoch 5 Batch 0 Loss 3.3881 Accuracy 0.4176\n",
            "Epoch 5 Batch 50 Loss 3.5499 Accuracy 0.3925\n",
            "Epoch 5 Batch 100 Loss 3.5363 Accuracy 0.3946\n",
            "Epoch 5 Batch 150 Loss 3.5173 Accuracy 0.3977\n",
            "Epoch 5 Batch 200 Loss 3.5133 Accuracy 0.3983\n",
            "Epoch 5 Batch 250 Loss 3.5028 Accuracy 0.3995\n",
            "Epoch 5 Batch 300 Loss 3.4983 Accuracy 0.4004\n",
            "Epoch 5 Batch 350 Loss 3.4911 Accuracy 0.4012\n",
            "Epoch 5 Batch 400 Loss 3.4785 Accuracy 0.4030\n",
            "Epoch 5 Batch 450 Loss 3.4655 Accuracy 0.4046\n",
            "Epoch 5 Batch 500 Loss 3.4583 Accuracy 0.4055\n",
            "Epoch 5 Batch 550 Loss 3.4516 Accuracy 0.4065\n",
            "Epoch 5 Batch 600 Loss 3.4435 Accuracy 0.4074\n",
            "Epoch 5 Batch 650 Loss 3.4330 Accuracy 0.4088\n",
            "Epoch 5 Batch 700 Loss 3.4231 Accuracy 0.4102\n",
            "Epoch 5 Batch 750 Loss 3.4118 Accuracy 0.4118\n",
            "Epoch 5 Batch 800 Loss 3.4045 Accuracy 0.4127\n",
            "Saving checkpoint for epoch 5 at ./checkpoints/train/ckpt-1\n",
            "Epoch 5 Loss 3.4022 Accuracy 0.4131\n",
            "Time taken for epoch 5: 213.17 secs\n",
            "\n",
            "Epoch 6 Batch 0 Loss 3.0727 Accuracy 0.4577\n",
            "Epoch 6 Batch 50 Loss 3.1260 Accuracy 0.4435\n",
            "Epoch 6 Batch 100 Loss 3.1199 Accuracy 0.4456\n",
            "Epoch 6 Batch 150 Loss 3.1158 Accuracy 0.4469\n",
            "Epoch 6 Batch 200 Loss 3.1086 Accuracy 0.4474\n",
            "Epoch 6 Batch 250 Loss 3.0977 Accuracy 0.4490\n",
            "Epoch 6 Batch 300 Loss 3.0945 Accuracy 0.4494\n",
            "Epoch 6 Batch 350 Loss 3.0802 Accuracy 0.4518\n",
            "Epoch 6 Batch 400 Loss 3.0674 Accuracy 0.4534\n",
            "Epoch 6 Batch 450 Loss 3.0582 Accuracy 0.4548\n",
            "Epoch 6 Batch 500 Loss 3.0461 Accuracy 0.4565\n",
            "Epoch 6 Batch 550 Loss 3.0383 Accuracy 0.4575\n",
            "Epoch 6 Batch 600 Loss 3.0267 Accuracy 0.4592\n",
            "Epoch 6 Batch 650 Loss 3.0198 Accuracy 0.4600\n",
            "Epoch 6 Batch 700 Loss 3.0119 Accuracy 0.4612\n",
            "Epoch 6 Batch 750 Loss 3.0057 Accuracy 0.4622\n",
            "Epoch 6 Batch 800 Loss 2.9979 Accuracy 0.4634\n",
            "Epoch 6 Loss 2.9968 Accuracy 0.4636\n",
            "Time taken for epoch 6: 211.26 secs\n",
            "\n",
            "Epoch 7 Batch 0 Loss 3.0440 Accuracy 0.4651\n",
            "Epoch 7 Batch 50 Loss 2.7326 Accuracy 0.4943\n",
            "Epoch 7 Batch 100 Loss 2.7475 Accuracy 0.4922\n",
            "Epoch 7 Batch 150 Loss 2.7337 Accuracy 0.4950\n",
            "Epoch 7 Batch 200 Loss 2.7282 Accuracy 0.4959\n",
            "Epoch 7 Batch 250 Loss 2.7160 Accuracy 0.4976\n",
            "Epoch 7 Batch 300 Loss 2.7124 Accuracy 0.4982\n",
            "Epoch 7 Batch 350 Loss 2.7045 Accuracy 0.4996\n",
            "Epoch 7 Batch 400 Loss 2.7006 Accuracy 0.5000\n",
            "Epoch 7 Batch 450 Loss 2.6940 Accuracy 0.5011\n",
            "Epoch 7 Batch 500 Loss 2.6851 Accuracy 0.5023\n",
            "Epoch 7 Batch 550 Loss 2.6791 Accuracy 0.5034\n",
            "Epoch 7 Batch 600 Loss 2.6739 Accuracy 0.5041\n",
            "Epoch 7 Batch 650 Loss 2.6711 Accuracy 0.5046\n",
            "Epoch 7 Batch 700 Loss 2.6672 Accuracy 0.5053\n",
            "Epoch 7 Batch 750 Loss 2.6633 Accuracy 0.5058\n",
            "Epoch 7 Batch 800 Loss 2.6596 Accuracy 0.5064\n",
            "Epoch 7 Loss 2.6584 Accuracy 0.5067\n",
            "Time taken for epoch 7: 212.79 secs\n",
            "\n",
            "Epoch 8 Batch 0 Loss 2.3865 Accuracy 0.5387\n",
            "Epoch 8 Batch 50 Loss 2.4189 Accuracy 0.5370\n",
            "Epoch 8 Batch 100 Loss 2.4395 Accuracy 0.5344\n",
            "Epoch 8 Batch 150 Loss 2.4465 Accuracy 0.5335\n",
            "Epoch 8 Batch 200 Loss 2.4423 Accuracy 0.5344\n",
            "Epoch 8 Batch 250 Loss 2.4388 Accuracy 0.5352\n",
            "Epoch 8 Batch 300 Loss 2.4355 Accuracy 0.5357\n",
            "Epoch 8 Batch 350 Loss 2.4364 Accuracy 0.5356\n",
            "Epoch 8 Batch 400 Loss 2.4345 Accuracy 0.5358\n",
            "Epoch 8 Batch 450 Loss 2.4301 Accuracy 0.5364\n",
            "Epoch 8 Batch 500 Loss 2.4260 Accuracy 0.5371\n",
            "Epoch 8 Batch 550 Loss 2.4235 Accuracy 0.5374\n",
            "Epoch 8 Batch 600 Loss 2.4224 Accuracy 0.5377\n",
            "Epoch 8 Batch 650 Loss 2.4213 Accuracy 0.5378\n",
            "Epoch 8 Batch 700 Loss 2.4181 Accuracy 0.5384\n",
            "Epoch 8 Batch 750 Loss 2.4172 Accuracy 0.5386\n",
            "Epoch 8 Batch 800 Loss 2.4158 Accuracy 0.5389\n",
            "Epoch 8 Loss 2.4159 Accuracy 0.5389\n",
            "Time taken for epoch 8: 212.00 secs\n",
            "\n",
            "Epoch 9 Batch 0 Loss 2.1817 Accuracy 0.5669\n",
            "Epoch 9 Batch 50 Loss 2.2261 Accuracy 0.5642\n",
            "Epoch 9 Batch 100 Loss 2.2232 Accuracy 0.5641\n",
            "Epoch 9 Batch 150 Loss 2.2311 Accuracy 0.5630\n",
            "Epoch 9 Batch 200 Loss 2.2400 Accuracy 0.5617\n",
            "Epoch 9 Batch 250 Loss 2.2420 Accuracy 0.5616\n",
            "Epoch 9 Batch 300 Loss 2.2422 Accuracy 0.5615\n",
            "Epoch 9 Batch 350 Loss 2.2432 Accuracy 0.5611\n",
            "Epoch 9 Batch 400 Loss 2.2439 Accuracy 0.5613\n",
            "Epoch 9 Batch 450 Loss 2.2408 Accuracy 0.5617\n",
            "Epoch 9 Batch 500 Loss 2.2399 Accuracy 0.5620\n",
            "Epoch 9 Batch 550 Loss 2.2386 Accuracy 0.5623\n",
            "Epoch 9 Batch 600 Loss 2.2372 Accuracy 0.5625\n",
            "Epoch 9 Batch 650 Loss 2.2359 Accuracy 0.5630\n",
            "Epoch 9 Batch 700 Loss 2.2365 Accuracy 0.5631\n",
            "Epoch 9 Batch 750 Loss 2.2344 Accuracy 0.5635\n",
            "Epoch 9 Batch 800 Loss 2.2344 Accuracy 0.5638\n",
            "Epoch 9 Loss 2.2348 Accuracy 0.5638\n",
            "Time taken for epoch 9: 211.88 secs\n",
            "\n",
            "Epoch 10 Batch 0 Loss 2.1256 Accuracy 0.5707\n",
            "Epoch 10 Batch 50 Loss 2.0756 Accuracy 0.5847\n",
            "Epoch 10 Batch 100 Loss 2.0967 Accuracy 0.5823\n",
            "Epoch 10 Batch 150 Loss 2.0985 Accuracy 0.5813\n",
            "Epoch 10 Batch 200 Loss 2.0944 Accuracy 0.5822\n",
            "Epoch 10 Batch 250 Loss 2.0946 Accuracy 0.5823\n",
            "Epoch 10 Batch 300 Loss 2.0917 Accuracy 0.5827\n",
            "Epoch 10 Batch 350 Loss 2.0888 Accuracy 0.5833\n",
            "Epoch 10 Batch 400 Loss 2.0893 Accuracy 0.5833\n",
            "Epoch 10 Batch 450 Loss 2.0865 Accuracy 0.5837\n",
            "Epoch 10 Batch 500 Loss 2.0891 Accuracy 0.5831\n",
            "Epoch 10 Batch 550 Loss 2.0890 Accuracy 0.5832\n",
            "Epoch 10 Batch 600 Loss 2.0900 Accuracy 0.5832\n",
            "Epoch 10 Batch 650 Loss 2.0925 Accuracy 0.5830\n",
            "Epoch 10 Batch 700 Loss 2.0933 Accuracy 0.5830\n",
            "Epoch 10 Batch 750 Loss 2.0934 Accuracy 0.5830\n",
            "Epoch 10 Batch 800 Loss 2.0949 Accuracy 0.5829\n",
            "Saving checkpoint for epoch 10 at ./checkpoints/train/ckpt-2\n",
            "Epoch 10 Loss 2.0942 Accuracy 0.5831\n",
            "Time taken for epoch 10: 211.58 secs\n",
            "\n",
            "Epoch 11 Batch 0 Loss 2.0828 Accuracy 0.5882\n",
            "Epoch 11 Batch 50 Loss 1.9557 Accuracy 0.6003\n",
            "Epoch 11 Batch 100 Loss 1.9641 Accuracy 0.5999\n",
            "Epoch 11 Batch 150 Loss 1.9542 Accuracy 0.6017\n",
            "Epoch 11 Batch 200 Loss 1.9651 Accuracy 0.6004\n",
            "Epoch 11 Batch 250 Loss 1.9702 Accuracy 0.5997\n",
            "Epoch 11 Batch 300 Loss 1.9687 Accuracy 0.6001\n",
            "Epoch 11 Batch 350 Loss 1.9702 Accuracy 0.6000\n",
            "Epoch 11 Batch 400 Loss 1.9699 Accuracy 0.6000\n",
            "Epoch 11 Batch 450 Loss 1.9719 Accuracy 0.5998\n",
            "Epoch 11 Batch 500 Loss 1.9709 Accuracy 0.6001\n",
            "Epoch 11 Batch 550 Loss 1.9748 Accuracy 0.5998\n",
            "Epoch 11 Batch 600 Loss 1.9758 Accuracy 0.5997\n",
            "Epoch 11 Batch 650 Loss 1.9774 Accuracy 0.5996\n",
            "Epoch 11 Batch 700 Loss 1.9800 Accuracy 0.5993\n",
            "Epoch 11 Batch 750 Loss 1.9816 Accuracy 0.5990\n",
            "Epoch 11 Batch 800 Loss 1.9818 Accuracy 0.5992\n",
            "Epoch 11 Loss 1.9822 Accuracy 0.5991\n",
            "Time taken for epoch 11: 214.58 secs\n",
            "\n",
            "Epoch 12 Batch 0 Loss 1.6608 Accuracy 0.6520\n",
            "Epoch 12 Batch 50 Loss 1.8485 Accuracy 0.6186\n",
            "Epoch 12 Batch 100 Loss 1.8588 Accuracy 0.6170\n",
            "Epoch 12 Batch 150 Loss 1.8643 Accuracy 0.6164\n",
            "Epoch 12 Batch 200 Loss 1.8641 Accuracy 0.6167\n",
            "Epoch 12 Batch 250 Loss 1.8672 Accuracy 0.6158\n",
            "Epoch 12 Batch 300 Loss 1.8697 Accuracy 0.6153\n",
            "Epoch 12 Batch 350 Loss 1.8737 Accuracy 0.6147\n",
            "Epoch 12 Batch 400 Loss 1.8734 Accuracy 0.6149\n",
            "Epoch 12 Batch 450 Loss 1.8754 Accuracy 0.6146\n",
            "Epoch 12 Batch 500 Loss 1.8762 Accuracy 0.6144\n",
            "Epoch 12 Batch 550 Loss 1.8762 Accuracy 0.6143\n",
            "Epoch 12 Batch 600 Loss 1.8789 Accuracy 0.6140\n",
            "Epoch 12 Batch 650 Loss 1.8819 Accuracy 0.6136\n",
            "Epoch 12 Batch 700 Loss 1.8811 Accuracy 0.6138\n",
            "Epoch 12 Batch 750 Loss 1.8828 Accuracy 0.6136\n",
            "Epoch 12 Batch 800 Loss 1.8855 Accuracy 0.6133\n",
            "Epoch 12 Loss 1.8864 Accuracy 0.6131\n",
            "Time taken for epoch 12: 210.74 secs\n",
            "\n",
            "Epoch 13 Batch 0 Loss 1.9717 Accuracy 0.6004\n",
            "Epoch 13 Batch 50 Loss 1.7784 Accuracy 0.6278\n",
            "Epoch 13 Batch 100 Loss 1.7884 Accuracy 0.6266\n",
            "Epoch 13 Batch 150 Loss 1.7843 Accuracy 0.6277\n",
            "Epoch 13 Batch 200 Loss 1.7910 Accuracy 0.6262\n",
            "Epoch 13 Batch 250 Loss 1.7876 Accuracy 0.6261\n",
            "Epoch 13 Batch 300 Loss 1.7892 Accuracy 0.6262\n",
            "Epoch 13 Batch 350 Loss 1.7925 Accuracy 0.6256\n",
            "Epoch 13 Batch 400 Loss 1.7927 Accuracy 0.6257\n",
            "Epoch 13 Batch 450 Loss 1.7949 Accuracy 0.6256\n",
            "Epoch 13 Batch 500 Loss 1.7967 Accuracy 0.6255\n",
            "Epoch 13 Batch 550 Loss 1.7991 Accuracy 0.6252\n",
            "Epoch 13 Batch 600 Loss 1.7998 Accuracy 0.6253\n",
            "Epoch 13 Batch 650 Loss 1.8032 Accuracy 0.6249\n",
            "Epoch 13 Batch 700 Loss 1.8046 Accuracy 0.6247\n",
            "Epoch 13 Batch 750 Loss 1.8057 Accuracy 0.6246\n",
            "Epoch 13 Batch 800 Loss 1.8060 Accuracy 0.6247\n",
            "Epoch 13 Loss 1.8059 Accuracy 0.6248\n",
            "Time taken for epoch 13: 212.71 secs\n",
            "\n",
            "Epoch 14 Batch 0 Loss 1.6354 Accuracy 0.6497\n",
            "Epoch 14 Batch 50 Loss 1.6800 Accuracy 0.6406\n",
            "Epoch 14 Batch 100 Loss 1.6971 Accuracy 0.6390\n",
            "Epoch 14 Batch 150 Loss 1.7038 Accuracy 0.6386\n",
            "Epoch 14 Batch 200 Loss 1.7061 Accuracy 0.6391\n",
            "Epoch 14 Batch 250 Loss 1.7083 Accuracy 0.6388\n",
            "Epoch 14 Batch 300 Loss 1.7126 Accuracy 0.6382\n",
            "Epoch 14 Batch 350 Loss 1.7160 Accuracy 0.6377\n",
            "Epoch 14 Batch 400 Loss 1.7201 Accuracy 0.6372\n",
            "Epoch 14 Batch 450 Loss 1.7197 Accuracy 0.6375\n",
            "Epoch 14 Batch 500 Loss 1.7192 Accuracy 0.6378\n",
            "Epoch 14 Batch 550 Loss 1.7209 Accuracy 0.6375\n",
            "Epoch 14 Batch 600 Loss 1.7250 Accuracy 0.6367\n",
            "Epoch 14 Batch 650 Loss 1.7266 Accuracy 0.6366\n",
            "Epoch 14 Batch 700 Loss 1.7310 Accuracy 0.6359\n",
            "Epoch 14 Batch 750 Loss 1.7341 Accuracy 0.6355\n",
            "Epoch 14 Batch 800 Loss 1.7368 Accuracy 0.6351\n",
            "Epoch 14 Loss 1.7369 Accuracy 0.6352\n",
            "Time taken for epoch 14: 212.31 secs\n",
            "\n",
            "Epoch 15 Batch 0 Loss 1.5594 Accuracy 0.6594\n",
            "Epoch 15 Batch 50 Loss 1.6293 Accuracy 0.6505\n",
            "Epoch 15 Batch 100 Loss 1.6245 Accuracy 0.6524\n",
            "Epoch 15 Batch 150 Loss 1.6287 Accuracy 0.6514\n",
            "Epoch 15 Batch 200 Loss 1.6362 Accuracy 0.6503\n",
            "Epoch 15 Batch 250 Loss 1.6460 Accuracy 0.6489\n",
            "Epoch 15 Batch 300 Loss 1.6496 Accuracy 0.6482\n",
            "Epoch 15 Batch 350 Loss 1.6549 Accuracy 0.6475\n",
            "Epoch 15 Batch 400 Loss 1.6574 Accuracy 0.6467\n",
            "Epoch 15 Batch 450 Loss 1.6571 Accuracy 0.6468\n",
            "Epoch 15 Batch 500 Loss 1.6602 Accuracy 0.6463\n",
            "Epoch 15 Batch 550 Loss 1.6637 Accuracy 0.6458\n",
            "Epoch 15 Batch 600 Loss 1.6640 Accuracy 0.6458\n",
            "Epoch 15 Batch 650 Loss 1.6679 Accuracy 0.6453\n",
            "Epoch 15 Batch 700 Loss 1.6697 Accuracy 0.6451\n",
            "Epoch 15 Batch 750 Loss 1.6721 Accuracy 0.6446\n",
            "Epoch 15 Batch 800 Loss 1.6741 Accuracy 0.6444\n",
            "Saving checkpoint for epoch 15 at ./checkpoints/train/ckpt-3\n",
            "Epoch 15 Loss 1.6739 Accuracy 0.6445\n",
            "Time taken for epoch 15: 212.64 secs\n",
            "\n",
            "Epoch 16 Batch 0 Loss 1.4678 Accuracy 0.6711\n",
            "Epoch 16 Batch 50 Loss 1.5927 Accuracy 0.6569\n",
            "Epoch 16 Batch 100 Loss 1.5860 Accuracy 0.6579\n",
            "Epoch 16 Batch 150 Loss 1.5901 Accuracy 0.6573\n",
            "Epoch 16 Batch 200 Loss 1.5906 Accuracy 0.6568\n",
            "Epoch 16 Batch 250 Loss 1.5893 Accuracy 0.6570\n",
            "Epoch 16 Batch 300 Loss 1.5921 Accuracy 0.6569\n",
            "Epoch 16 Batch 350 Loss 1.5952 Accuracy 0.6565\n",
            "Epoch 16 Batch 400 Loss 1.6001 Accuracy 0.6558\n",
            "Epoch 16 Batch 450 Loss 1.6010 Accuracy 0.6555\n",
            "Epoch 16 Batch 500 Loss 1.6024 Accuracy 0.6552\n",
            "Epoch 16 Batch 550 Loss 1.6077 Accuracy 0.6544\n",
            "Epoch 16 Batch 600 Loss 1.6104 Accuracy 0.6542\n",
            "Epoch 16 Batch 650 Loss 1.6135 Accuracy 0.6537\n",
            "Epoch 16 Batch 700 Loss 1.6162 Accuracy 0.6533\n",
            "Epoch 16 Batch 750 Loss 1.6184 Accuracy 0.6530\n",
            "Epoch 16 Batch 800 Loss 1.6206 Accuracy 0.6527\n",
            "Epoch 16 Loss 1.6211 Accuracy 0.6527\n",
            "Time taken for epoch 16: 213.33 secs\n",
            "\n",
            "Epoch 17 Batch 0 Loss 1.5519 Accuracy 0.6558\n",
            "Epoch 17 Batch 50 Loss 1.5301 Accuracy 0.6655\n",
            "Epoch 17 Batch 100 Loss 1.5340 Accuracy 0.6654\n",
            "Epoch 17 Batch 150 Loss 1.5384 Accuracy 0.6652\n",
            "Epoch 17 Batch 200 Loss 1.5355 Accuracy 0.6660\n",
            "Epoch 17 Batch 250 Loss 1.5414 Accuracy 0.6654\n",
            "Epoch 17 Batch 300 Loss 1.5446 Accuracy 0.6649\n",
            "Epoch 17 Batch 350 Loss 1.5528 Accuracy 0.6635\n",
            "Epoch 17 Batch 400 Loss 1.5529 Accuracy 0.6634\n",
            "Epoch 17 Batch 450 Loss 1.5555 Accuracy 0.6629\n",
            "Epoch 17 Batch 500 Loss 1.5580 Accuracy 0.6625\n",
            "Epoch 17 Batch 550 Loss 1.5587 Accuracy 0.6625\n",
            "Epoch 17 Batch 600 Loss 1.5617 Accuracy 0.6620\n",
            "Epoch 17 Batch 650 Loss 1.5638 Accuracy 0.6616\n",
            "Epoch 17 Batch 700 Loss 1.5650 Accuracy 0.6616\n",
            "Epoch 17 Batch 750 Loss 1.5678 Accuracy 0.6611\n",
            "Epoch 17 Batch 800 Loss 1.5710 Accuracy 0.6606\n",
            "Epoch 17 Loss 1.5723 Accuracy 0.6604\n",
            "Time taken for epoch 17: 213.89 secs\n",
            "\n",
            "Epoch 18 Batch 0 Loss 1.3702 Accuracy 0.6790\n",
            "Epoch 18 Batch 50 Loss 1.4787 Accuracy 0.6739\n",
            "Epoch 18 Batch 100 Loss 1.4806 Accuracy 0.6736\n",
            "Epoch 18 Batch 150 Loss 1.4824 Accuracy 0.6738\n",
            "Epoch 18 Batch 200 Loss 1.4832 Accuracy 0.6742\n",
            "Epoch 18 Batch 250 Loss 1.4855 Accuracy 0.6739\n",
            "Epoch 18 Batch 300 Loss 1.4897 Accuracy 0.6731\n",
            "Epoch 18 Batch 350 Loss 1.4936 Accuracy 0.6724\n",
            "Epoch 18 Batch 400 Loss 1.4988 Accuracy 0.6713\n",
            "Epoch 18 Batch 450 Loss 1.5027 Accuracy 0.6708\n",
            "Epoch 18 Batch 500 Loss 1.5041 Accuracy 0.6708\n",
            "Epoch 18 Batch 550 Loss 1.5082 Accuracy 0.6702\n",
            "Epoch 18 Batch 600 Loss 1.5132 Accuracy 0.6692\n",
            "Epoch 18 Batch 650 Loss 1.5155 Accuracy 0.6688\n",
            "Epoch 18 Batch 700 Loss 1.5207 Accuracy 0.6680\n",
            "Epoch 18 Batch 750 Loss 1.5229 Accuracy 0.6676\n",
            "Epoch 18 Batch 800 Loss 1.5269 Accuracy 0.6671\n",
            "Epoch 18 Loss 1.5273 Accuracy 0.6670\n",
            "Time taken for epoch 18: 212.90 secs\n",
            "\n",
            "Epoch 19 Batch 0 Loss 1.4530 Accuracy 0.6796\n",
            "Epoch 19 Batch 50 Loss 1.4427 Accuracy 0.6810\n",
            "Epoch 19 Batch 100 Loss 1.4302 Accuracy 0.6836\n",
            "Epoch 19 Batch 150 Loss 1.4391 Accuracy 0.6816\n",
            "Epoch 19 Batch 200 Loss 1.4511 Accuracy 0.6794\n",
            "Epoch 19 Batch 250 Loss 1.4567 Accuracy 0.6783\n",
            "Epoch 19 Batch 300 Loss 1.4617 Accuracy 0.6776\n",
            "Epoch 19 Batch 350 Loss 1.4671 Accuracy 0.6768\n",
            "Epoch 19 Batch 400 Loss 1.4686 Accuracy 0.6765\n",
            "Epoch 19 Batch 450 Loss 1.4711 Accuracy 0.6762\n",
            "Epoch 19 Batch 500 Loss 1.4724 Accuracy 0.6759\n",
            "Epoch 19 Batch 550 Loss 1.4749 Accuracy 0.6755\n",
            "Epoch 19 Batch 600 Loss 1.4773 Accuracy 0.6752\n",
            "Epoch 19 Batch 650 Loss 1.4799 Accuracy 0.6748\n",
            "Epoch 19 Batch 700 Loss 1.4819 Accuracy 0.6745\n",
            "Epoch 19 Batch 750 Loss 1.4850 Accuracy 0.6740\n",
            "Epoch 19 Batch 800 Loss 1.4880 Accuracy 0.6735\n",
            "Epoch 19 Loss 1.4880 Accuracy 0.6736\n",
            "Time taken for epoch 19: 212.62 secs\n",
            "\n",
            "Epoch 20 Batch 0 Loss 1.2712 Accuracy 0.7145\n",
            "Epoch 20 Batch 50 Loss 1.3952 Accuracy 0.6894\n",
            "Epoch 20 Batch 100 Loss 1.4023 Accuracy 0.6881\n",
            "Epoch 20 Batch 150 Loss 1.4063 Accuracy 0.6871\n",
            "Epoch 20 Batch 200 Loss 1.4137 Accuracy 0.6855\n",
            "Epoch 20 Batch 250 Loss 1.4209 Accuracy 0.6842\n",
            "Epoch 20 Batch 300 Loss 1.4254 Accuracy 0.6830\n",
            "Epoch 20 Batch 350 Loss 1.4251 Accuracy 0.6830\n",
            "Epoch 20 Batch 400 Loss 1.4270 Accuracy 0.6828\n",
            "Epoch 20 Batch 450 Loss 1.4323 Accuracy 0.6819\n",
            "Epoch 20 Batch 500 Loss 1.4359 Accuracy 0.6815\n",
            "Epoch 20 Batch 550 Loss 1.4384 Accuracy 0.6813\n",
            "Epoch 20 Batch 600 Loss 1.4442 Accuracy 0.6802\n",
            "Epoch 20 Batch 650 Loss 1.4463 Accuracy 0.6799\n",
            "Epoch 20 Batch 700 Loss 1.4489 Accuracy 0.6793\n",
            "Epoch 20 Batch 750 Loss 1.4500 Accuracy 0.6793\n",
            "Epoch 20 Batch 800 Loss 1.4516 Accuracy 0.6791\n",
            "Saving checkpoint for epoch 20 at ./checkpoints/train/ckpt-4\n",
            "Epoch 20 Loss 1.4527 Accuracy 0.6790\n",
            "Time taken for epoch 20: 212.45 secs\n",
            "\n"
          ]
        }
      ]
    },
    {
      "cell_type": "markdown",
      "metadata": {
        "id": "Ty5NgVa469ON"
      },
      "source": [
        "### Inferences\n",
        "\n",
        "The following steps are used for inference:\n",
        "\n",
        "* Encode the input sentence using the Portuguese tokenizer (`tokenizers.pt`). This is the encoder input.\n",
        "* The decoder input is initialized to the `[START]` token.\n",
        "* Calculate the padding masks and the look ahead masks.\n",
        "* The `decoder` then outputs the predictions by looking at the `encoder output` and its own output (self-attention).\n",
        "* Concatenate the predicted token to the decoder input and pass it to the decoder.\n",
        "* In this approach, the decoder predicts the next token based on the previous tokens it predicted."
      ]
    },
    {
      "cell_type": "code",
      "metadata": {
        "id": "NGaHaWGI_rpe"
      },
      "source": [
        "class Translator(tf.Module):\n",
        "  def __init__(self, tokenizers, transformer):\n",
        "    self.tokenizers = tokenizers\n",
        "    self.transformer = transformer\n",
        "\n",
        "  def __call__(self, sentence, max_length=20):\n",
        "    # input sentence is portuguese, hence adding the start and end token\n",
        "    assert isinstance(sentence, tf.Tensor)\n",
        "    if len(sentence.shape) == 0:\n",
        "      sentence = sentence[tf.newaxis]\n",
        "\n",
        "    sentence = self.tokenizers.pt.tokenize(sentence).to_tensor()\n",
        "    \n",
        "    encoder_input = sentence\n",
        "\n",
        "    # as the target is english, the first token to the transformer should be the\n",
        "    # english start token.\n",
        "    start_end = self.tokenizers.en.tokenize([''])[0]\n",
        "    start = start_end[0][tf.newaxis]\n",
        "    end = start_end[1][tf.newaxis]\n",
        "\n",
        "    # `tf.TensorArray` is required here (instead of a python list) so that the\n",
        "    # dynamic-loop can be traced by `tf.function`.\n",
        "    output_array = tf.TensorArray(dtype=tf.int64, size=0, dynamic_size=True)\n",
        "    output_array = output_array.write(0, start)\n",
        "    \n",
        "    for i in tf.range(max_length):\n",
        "      output = tf.transpose(output_array.stack())\n",
        "      predictions, _ = self.transformer([encoder_input, output], training=False)\n",
        "      \n",
        "      # select the last token from the seq_len dimension\n",
        "      predictions = predictions[:, -1:, :]  # (batch_size, 1, vocab_size)\n",
        "\n",
        "      predicted_id = tf.argmax(predictions, axis=-1)\n",
        "\n",
        "      # concatentate the predicted_id to the output which is given to the decoder\n",
        "      # as its input.\n",
        "      output_array = output_array.write(i+1, predicted_id[0])\n",
        "\n",
        "      if predicted_id == end:\n",
        "        break\n",
        "\n",
        "    output = tf.transpose(output_array.stack())\n",
        "    # output.shape (1, tokens)\n",
        "    text = tokenizers.en.detokenize(output)[0]  # shape: ()\n",
        "\n",
        "    tokens = tokenizers.en.lookup(output)[0]\n",
        "\n",
        "    # `tf.function` prevents us from using the attention_weights that were\n",
        "    # calculated on the last iteration of the loop. So recalculate them outside\n",
        "    # the loop.\n",
        "    _, attention_weights = self.transformer([encoder_input, output[:,:-1]], training=False)\n",
        "\n",
        "    return text, tokens, attention_weights"
      ],
      "execution_count": 34,
      "outputs": []
    },
    {
      "cell_type": "markdown",
      "metadata": {
        "id": "WZrKtloxAUo-"
      },
      "source": [
        "Instantiate translater and test:"
      ]
    },
    {
      "cell_type": "code",
      "metadata": {
        "id": "UwPxPVlzAnAu"
      },
      "source": [
        "translator = Translator(tokenizers, transformer)\n",
        "\n",
        "#helper function for testing examples\n",
        "def print_translation(sentence, tokens, ground_truth):\n",
        "  print(f'{\"Input:\":15s}: {sentence}')\n",
        "  print(f'{\"Prediction\":15s}: {tokens.numpy().decode(\"utf-8\")}')\n",
        "  print(f'{\"Ground truth\":15s}: {ground_truth}')"
      ],
      "execution_count": 35,
      "outputs": []
    },
    {
      "cell_type": "code",
      "metadata": {
        "colab": {
          "base_uri": "https://localhost:8080/"
        },
        "id": "N2PYykzLArZA",
        "outputId": "9ce6e61e-712b-4dcb-ebe5-7e581ffe2003"
      },
      "source": [
        "sentence = \"este é um problema que temos que resolver.\"\n",
        "ground_truth = \"this is a problem we have to solve .\"\n",
        "\n",
        "translated_text, translated_tokens, attention_weights = translator(\n",
        "    tf.constant(sentence))\n",
        "print_translation(sentence, translated_text, ground_truth)\n",
        "print()\n",
        "\n",
        "sentence = \"vou então muito rapidamente partilhar convosco algumas histórias de algumas coisas mágicas que aconteceram.\"\n",
        "ground_truth = \"so i \\'ll just share with you some stories very quickly of some magical things that have happened .\"\n",
        "\n",
        "translated_text, translated_tokens, attention_weights = translator(\n",
        "    tf.constant(sentence))\n",
        "print_translation(sentence, translated_text, ground_truth)"
      ],
      "execution_count": 36,
      "outputs": [
        {
          "output_type": "stream",
          "name": "stdout",
          "text": [
            "Input:         : este é um problema que temos que resolver.\n",
            "Prediction     : this is a problem that we have to solve .\n",
            "Ground truth   : this is a problem we have to solve .\n",
            "\n",
            "Input:         : vou então muito rapidamente partilhar convosco algumas histórias de algumas coisas mágicas que aconteceram.\n",
            "Prediction     : so i ' m going to share a lot of quick share with you some stories of some magic things\n",
            "Ground truth   : so i 'll just share with you some stories very quickly of some magical things that have happened .\n"
          ]
        }
      ]
    },
    {
      "cell_type": "markdown",
      "metadata": {
        "id": "AIBkyIgUA_DU"
      },
      "source": [
        "### Attention Plots\n",
        "\n",
        "Since the Translator class returns a dictionary of attention maps, we can visualize the internal workings of the model"
      ]
    },
    {
      "cell_type": "markdown",
      "metadata": {
        "id": "MkEH8Tx1BL8g"
      },
      "source": [
        "Example case:"
      ]
    },
    {
      "cell_type": "code",
      "metadata": {
        "colab": {
          "base_uri": "https://localhost:8080/"
        },
        "id": "Da0uEi8nBJ_n",
        "outputId": "0bc73fe1-499a-46e9-8922-589834b1922a"
      },
      "source": [
        "sentence = \"este é o primeiro livro que eu fiz.\"\n",
        "ground_truth = \"this is the first book i've ever done.\"\n",
        "\n",
        "translated_text, translated_tokens, attention_weights = translator(\n",
        "    tf.constant(sentence))\n",
        "print_translation(sentence, translated_text, ground_truth)"
      ],
      "execution_count": 37,
      "outputs": [
        {
          "output_type": "stream",
          "name": "stdout",
          "text": [
            "Input:         : este é o primeiro livro que eu fiz.\n",
            "Prediction     : this is the first book i did .\n",
            "Ground truth   : this is the first book i've ever done.\n"
          ]
        }
      ]
    },
    {
      "cell_type": "markdown",
      "metadata": {
        "id": "CUtv4c1vBQXT"
      },
      "source": [
        "Helper function to plot attention plot:"
      ]
    },
    {
      "cell_type": "code",
      "metadata": {
        "id": "8t7kD3cnBT7w"
      },
      "source": [
        "def plot_attention_head(in_tokens, translated_tokens, attention):\n",
        "  # The plot is of the attention when a token was generated.\n",
        "  # The model didn't generate `<START>` in the output. Skip it.\n",
        "  translated_tokens = translated_tokens[1:]\n",
        "\n",
        "  ax = plt.gca()\n",
        "  ax.matshow(attention)\n",
        "  ax.set_xticks(range(len(in_tokens)))\n",
        "  ax.set_yticks(range(len(translated_tokens)))\n",
        "\n",
        "  labels = [label.decode('utf-8') for label in in_tokens.numpy()]\n",
        "  ax.set_xticklabels(\n",
        "      labels, rotation=90)\n",
        "\n",
        "  labels = [label.decode('utf-8') for label in translated_tokens.numpy()]\n",
        "  ax.set_yticklabels(labels)"
      ],
      "execution_count": 38,
      "outputs": []
    },
    {
      "cell_type": "markdown",
      "metadata": {
        "id": "BvBfLA2rBvlL"
      },
      "source": [
        "Attention plot for head:"
      ]
    },
    {
      "cell_type": "code",
      "metadata": {
        "colab": {
          "base_uri": "https://localhost:8080/",
          "height": 301
        },
        "id": "LjPsdGY1B0fi",
        "outputId": "9266c8ba-554a-4804-ea7c-ffedc8a3d862"
      },
      "source": [
        "#attention\n",
        "head = 0\n",
        "# shape: (batch=1, num_heads, seq_len_q, seq_len_k)\n",
        "attention_heads = tf.squeeze(\n",
        "  attention_weights['decoder_layer4_block2'], 0)\n",
        "attention = attention_heads[head]\n",
        "\n",
        "#in_tokens\n",
        "in_tokens = tf.convert_to_tensor([sentence])\n",
        "in_tokens = tokenizers.pt.tokenize(in_tokens).to_tensor()\n",
        "in_tokens = tokenizers.pt.lookup(in_tokens)[0]\n",
        "\n",
        "#plot\n",
        "plot_attention_head(in_tokens, translated_tokens, attention)"
      ],
      "execution_count": 39,
      "outputs": [
        {
          "output_type": "display_data",
          "data": {
            "image/png": "[encoded data removed]",
            "text/plain": [
              "<Figure size 432x288 with 1 Axes>"
            ]
          },
          "metadata": {
            "needs_background": "light"
          }
        }
      ]
    },
    {
      "cell_type": "markdown",
      "metadata": {
        "id": "ky1cBbVsCEYO"
      },
      "source": [
        "Attention plots for sentences"
      ]
    },
    {
      "cell_type": "code",
      "metadata": {
        "id": "JjRW5MOGCRs_"
      },
      "source": [
        "def plot_attention_weights(sentence, translated_tokens, attention_heads):\n",
        "  in_tokens = tf.convert_to_tensor([sentence])\n",
        "  in_tokens = tokenizers.pt.tokenize(in_tokens).to_tensor()\n",
        "  in_tokens = tokenizers.pt.lookup(in_tokens)[0]\n",
        "\n",
        "  fig = plt.figure(figsize=(16, 8))\n",
        "\n",
        "  for h, head in enumerate(attention_heads):\n",
        "    ax = fig.add_subplot(2, 4, h+1)\n",
        "\n",
        "    plot_attention_head(in_tokens, translated_tokens, head)\n",
        "\n",
        "    ax.set_xlabel(f'Head {h+1}')\n",
        "\n",
        "  plt.tight_layout()\n",
        "  plt.show()"
      ],
      "execution_count": 40,
      "outputs": []
    },
    {
      "cell_type": "code",
      "metadata": {
        "colab": {
          "base_uri": "https://localhost:8080/",
          "height": 519
        },
        "id": "mmMa6fr2CUep",
        "outputId": "77988781-ded2-4f1d-ed91-b95f71e6b5c3"
      },
      "source": [
        "plot_attention_weights(sentence, translated_tokens,\n",
        "                       attention_weights['decoder_layer4_block2'][0])"
      ],
      "execution_count": 41,
      "outputs": [
        {
          "output_type": "display_data",
          "data": {
            "image/png": "[encoded data removed]",
            "text/plain": [
              "<Figure size 1152x576 with 8 Axes>"
            ]
          },
          "metadata": {
            "needs_background": "light"
          }
        }
      ]
    },
    {
      "cell_type": "markdown",
      "metadata": {
        "id": "PIlNeqb5Cbx5"
      },
      "source": [
        "The model is robust for unfamilier words: in the following example, neither \"triceratops\" nor \"encyclopedia\" are in the input dataset, but the model almost learns how to transliterate them."
      ]
    },
    {
      "cell_type": "code",
      "metadata": {
        "colab": {
          "base_uri": "https://localhost:8080/",
          "height": 565
        },
        "id": "o2iOqkr6Cs0g",
        "outputId": "77113fd4-4766-4d64-f29d-3369ccaa4ff5"
      },
      "source": [
        "sentence = \"Eu li sobre triceratops na enciclopédia.\"\n",
        "ground_truth = \"I read about triceratops in the encyclopedia.\"\n",
        "\n",
        "translated_text, translated_tokens, attention_weights = translator(\n",
        "    tf.constant(sentence))\n",
        "print_translation(sentence, translated_text, ground_truth)\n",
        "\n",
        "plot_attention_weights(sentence, translated_tokens,\n",
        "                       attention_weights['decoder_layer4_block2'][0])"
      ],
      "execution_count": 42,
      "outputs": [
        {
          "output_type": "stream",
          "name": "stdout",
          "text": [
            "Input:         : Eu li sobre triceratops na enciclopédia.\n",
            "Prediction     : i read about triumpering on enclopedia .\n",
            "Ground truth   : I read about triceratops in the encyclopedia.\n"
          ]
        },
        {
          "output_type": "display_data",
          "data": {
            "image/png": "[encoded data removed]",
            "text/plain": [
              "<Figure size 1152x576 with 8 Axes>"
            ]
          },
          "metadata": {
            "needs_background": "light"
          }
        }
      ]
    },
    {
      "cell_type": "markdown",
      "metadata": {
        "id": "opsiugQbC51o"
      },
      "source": [
        "### Exporting Model"
      ]
    },
    {
      "cell_type": "markdown",
      "metadata": {
        "id": "Go4L6nwJDAHd"
      },
      "source": [
        "Define translater exporter:"
      ]
    },
    {
      "cell_type": "code",
      "metadata": {
        "id": "yDO3IGygC7-p"
      },
      "source": [
        "class ExportTranslator(tf.Module):\n",
        "  def __init__(self, translator):\n",
        "    self.translator = translator\n",
        "\n",
        "  @tf.function(input_signature=[tf.TensorSpec(shape=[], dtype=tf.string)])\n",
        "  def __call__(self, sentence):\n",
        "    (result, \n",
        "     tokens,\n",
        "     attention_weights) = self.translator(sentence, max_length=100)\n",
        "\n",
        "    return result"
      ],
      "execution_count": 43,
      "outputs": []
    },
    {
      "cell_type": "markdown",
      "metadata": {
        "id": "jC4OA8sxDDbQ"
      },
      "source": [
        "export the model:"
      ]
    },
    {
      "cell_type": "code",
      "metadata": {
        "colab": {
          "base_uri": "https://localhost:8080/"
        },
        "id": "Ol6sZIeGDFcd",
        "outputId": "51367822-d3ec-4486-a04f-4b6b977ae20a"
      },
      "source": [
        "translator = ExportTranslator(translator)\n",
        "tf.saved_model.save(translator, export_dir='translator')"
      ],
      "execution_count": 44,
      "outputs": [
        {
          "output_type": "stream",
          "name": "stderr",
          "text": [
            "WARNING:absl:Found untraced functions such as embedding_layer_call_and_return_conditional_losses, embedding_layer_call_fn, dropout_8_layer_call_and_return_conditional_losses, dropout_8_layer_call_fn, embedding_1_layer_call_and_return_conditional_losses while saving (showing 5 of 560). These functions will not be directly callable after loading.\n"
          ]
        }
      ]
    }
  ]
}